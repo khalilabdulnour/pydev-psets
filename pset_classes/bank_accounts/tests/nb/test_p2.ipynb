{
 "cells": [
  {
   "cell_type": "code",
   "execution_count": null,
   "metadata": {},
   "outputs": [],
   "source": [
    "\"\"\"\n",
    "Bank Accounts II - Deposit Money\n",
    "\"\"\"\n",
    "\n",
    "import io\n",
    "import pytest\n",
    "from unittest import TestCase\n",
    "from unittest.mock import patch\n",
    "\n",
    "from p2 import Account\n",
    "\n",
    "\n",
    "@pytest.mark.describe('it returns correct instance & class attribute values & method output per arg input')\n",
    "class TestAccount(TestCase):\n",
    "\n",
    "    def test_init(self):\n",
    "        a = Account('Alejandra Ochoa', 554951, 20000)\n",
    "        assert a.name == 'Alejandra Ochoa'    \n",
    "        assert a.acc_num == 554951\n",
    "        assert a.balance == 20000\n",
    "        assert a.int_rate == 0.5\n",
    "        assert a.transactions == {}\n",
    "\n",
    "    @patch(\"p2.print\")\n",
    "    def test_acc_details(self, mock_patch):\n",
    "        a = Account('Alejandra Ochoa', 554951, 20000)\n",
    "        a.acc_details()\n",
    "        mock_patch.assert_called_with('Account No.: 554951\\nAccount Holder: Alejandra Ochoa\\nInterest Rate: 0.5\\nBalance: $20000\\n')\n",
    "\n",
    "    def test_deposit(self):\n",
    "        a = Account('Alejandra Ochoa', 554951, 20000)\n",
    "        a.deposit(500)\n",
    "        assert a.balance == 20500\n",
    "        assert a.transactions == {'Deposit': [20000, 20500]}\n"
   ]
  }
 ],
 "metadata": {},
 "nbformat": 4,
 "nbformat_minor": 2
}
