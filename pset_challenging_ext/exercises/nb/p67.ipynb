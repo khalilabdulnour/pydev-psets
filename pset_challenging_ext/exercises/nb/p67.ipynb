{
 "cells": [
  {
   "cell_type": "code",
   "execution_count": null,
   "metadata": {},
   "outputs": [],
   "source": [
    "\"\"\"\n",
    "\n",
    "\"\"\"\n",
    "\n",
    "\"\"\"\n",
    "Question:\n",
    "The Fibonacci Sequence is computed based on the following formula:\n",
    "f(n)=0 if n=0\n",
    "f(n)=1 if n=1\n",
    "f(n)=f(n-1)+f(n-2) if n>1\n",
    "Please write a program using list comprehension to print the Fibonacci Sequence in comma separated form with a given n input by console.\n",
    "Example:\n",
    "If the following n is given as input to the program:\n",
    "7\n",
    "Then, the output of the program should be:\n",
    "0,1,1,2,3,5,8,13\n",
    "Hints:\n",
    "We can define recursive function in Python.\n",
    "Use list comprehension to generate a list from an existing list.\n",
    "Use string.join() to join a list of strings.\n",
    "In case of input data being supplied to the question, it should be assumed to be a console input.\n",
    "\n",
    "\"\"\""
   ]
  }
 ],
 "metadata": {},
 "nbformat": 4,
 "nbformat_minor": 2
}
