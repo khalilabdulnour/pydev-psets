{
 "cells": [
  {
   "cell_type": "code",
   "execution_count": null,
   "metadata": {},
   "outputs": [],
   "source": [
    "\"\"\"\n",
    "Checking Imported Data II - How Big is the Data?\n",
    "\"\"\"\n",
    "\n",
    "\n",
    "import numpy as np\n",
    "import pandas as pd\n",
    "wine_reviews = pd.read_csv('../../winemag-data-130k.csv')\n",
    "\n",
    "\n",
    "# Print the number of rows and columns in wine_reviews.\n",
    "\n",
    "print(wine_reviews.shape) # (rows, columns) is (129971, 13)\n",
    "\n",
    "# Print the number of elements in wine_reviews.\n",
    "\n",
    "print(wine_reviews.size) # 1689623"
   ]
  }
 ],
 "metadata": {},
 "nbformat": 4,
 "nbformat_minor": 2
}
