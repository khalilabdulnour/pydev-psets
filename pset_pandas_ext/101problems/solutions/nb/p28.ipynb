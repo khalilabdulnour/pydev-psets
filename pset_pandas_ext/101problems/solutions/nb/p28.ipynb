{
 "cells": [
  {
   "cell_type": "code",
   "execution_count": null,
   "metadata": {},
   "outputs": [],
   "source": [
    "\"\"\"\n",
    "28. How to find all the local maxima (or peaks) in a numeric series?\n",
    "\"\"\"\n",
    "\"\"\"\n",
    "Difficiulty Level: L3\n",
    "\"\"\"\n",
    "\"\"\"\n",
    "Get the positions of peaks (values surrounded by smaller values on both sides) in ser.\n",
    "\"\"\"\n",
    "\"\"\"\n",
    "Input\n",
    "\"\"\"\n",
    "\"\"\"\n",
    "ser = pd.Series([2, 10, 3, 4, 9, 10, 2, 7, 3])\n",
    "\"\"\"\n",
    "\"\"\"\n",
    "Desired output\n",
    "\"\"\"\n",
    "\"\"\"\n",
    "array([1, 5, 7])\n",
    "\"\"\"\n",
    "\n",
    "# Input\n",
    "ser = pd.Series([2, 10, 3, 4, 9, 10, 2, 7, 3])\n",
    "\n",
    "# Solution\n",
    "dd = np.diff(np.sign(np.diff(ser)))\n",
    "peak_locs = np.where(dd == -2)[0] + 1\n",
    "peak_locs"
   ]
  }
 ],
 "metadata": {},
 "nbformat": 4,
 "nbformat_minor": 2
}
