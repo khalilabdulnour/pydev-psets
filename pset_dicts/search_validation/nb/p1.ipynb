{
 "cells": [
  {
   "cell_type": "code",
   "execution_count": null,
   "metadata": {},
   "outputs": [],
   "source": [
    "\"\"\"\n",
    "Basic Login\n",
    "\"\"\"\n",
    "\n",
    "# Imagine you work for a movie streaming service. You're in charge of safeguarding user privacy by ensuring the login feature remains secure. For the sake of example only, below is the dict of user login info. Normally, you wouldn't have access to see this unencrypted of course!\n",
    "\n",
    "users = {\n",
    "\t'person@email.com': 'PassWord',\n",
    "\t'someone@email.com': 'hiitsme',\n",
    "\t'me@email.com': 'myPassword',\n",
    "\t'anyone@email.com': 'IMawesome',\n",
    "\t'guy@email.com': 'pa$$wordz'\n",
    "\t# etc\n",
    "}\n",
    "\n",
    "\n",
    "# A user enters the below login info (email and password) for your app. Search your database of \n",
    "\n",
    "\n",
    "\t# .haskey ? ; if True: print('Successful login!')\n",
    "\n",
    "\n",
    "\n",
    "current_user = { 'me@email.com': 'myPassword' }"
   ]
  }
 ],
 "metadata": {},
 "nbformat": 4,
 "nbformat_minor": 2
}
