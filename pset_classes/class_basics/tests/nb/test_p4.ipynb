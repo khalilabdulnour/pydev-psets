{
 "cells": [
  {
   "cell_type": "code",
   "execution_count": null,
   "metadata": {},
   "outputs": [],
   "source": [
    "\"\"\"\n",
    "Circle\n",
    "\"\"\"\n",
    "\n",
    "import io\n",
    "import pytest\n",
    "from unittest import TestCase\n",
    "from unittest.mock import patch\n",
    "\n",
    "from p4 import Circle\n",
    "\n",
    "\n",
    "@pytest.mark.describe('it returns correct instance & class attribute values per arg input')\n",
    "class TestCircle(TestCase):\n",
    "\n",
    "    def test_init(self):\n",
    "        c = Circle(7)\n",
    "        assert c.radius == 7\n",
    "        assert c.pi == 3.14159\n",
    "\n",
    "    def test_area(self):\n",
    "        c = Circle(7)\n",
    "        assert c.area() == 153.93791\n",
    "\n",
    "    def test_perimeter(self):\n",
    "        c = Circle(7)\n",
    "        assert c.perimeter() == 43.98226\n",
    "\n"
   ]
  }
 ],
 "metadata": {},
 "nbformat": 4,
 "nbformat_minor": 2
}
