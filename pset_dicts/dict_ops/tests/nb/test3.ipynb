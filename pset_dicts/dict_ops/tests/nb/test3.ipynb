{
 "cells": [
  {
   "cell_type": "code",
   "execution_count": null,
   "metadata": {},
   "outputs": [],
   "source": [
    "\"\"\"\n",
    "Math with Girl Scout Cookies\n",
    "\"\"\"\n",
    "\n",
    "# import io\n",
    "# import pytest\n",
    "\n",
    "# from unittest import TestCase\n",
    "# from unittest.mock import patch\n",
    "\n",
    "\n",
    "\n",
    "\n",
    "@pytest.mark.describe('Math with Girl Scout Cookies - XXX')\n",
    "class TestPrint(TestCase):\n",
    "\n",
    "\n",
    "@pytest.mark.describe('Math with Girl Scout Cookies - XXX')\n",
    "class TestPrint(TestCase):\n",
    "\n",
    "\n",
    "@pytest.mark.describe('Math with Girl Scout Cookies - XXX')\n",
    "class TestPrint(TestCase):"
   ]
  }
 ],
 "metadata": {},
 "nbformat": 4,
 "nbformat_minor": 2
}
