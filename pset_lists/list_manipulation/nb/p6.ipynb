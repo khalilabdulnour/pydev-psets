{
 "cells": [
  {
   "cell_type": "code",
   "execution_count": null,
   "metadata": {},
   "outputs": [],
   "source": [
    "\"\"\"\n",
    "CHALLENGE - Extensions\n",
    "\"\"\"\n",
    "\n",
    "# ** Challenge** Add each element of the tuple1 to list1 *individually* and print the result.\n",
    "\n",
    "list1 = [6, 12, 9, 4, 10, 1]\n",
    "tuple1 = [(15,3), (6,2), (1, 8)]\n"
   ]
  }
 ],
 "metadata": {},
 "nbformat": 4,
 "nbformat_minor": 2
}
