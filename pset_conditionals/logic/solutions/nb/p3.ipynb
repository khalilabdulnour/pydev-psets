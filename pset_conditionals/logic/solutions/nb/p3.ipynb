{
 "cells": [
  {
   "cell_type": "code",
   "execution_count": null,
   "metadata": {},
   "outputs": [],
   "source": [
    "\"\"\"\n",
    "Any Uppercase\n",
    "\"\"\"\n",
    "\n",
    "# Given a string str, determine if there are any uppercase values in it. Use only conditional statements and string methods (you may have to look some up!)\n",
    "\n",
    "# EXAMPLE: str = \"teSt\", print True\n",
    "\n",
    "\n",
    "str1 = 'teSt'\n",
    "str2 = 'test'\n",
    "\n",
    "\n",
    "\n",
    "if str1.islower() == True:\n",
    "\tprint('Y')\n",
    "else:\n",
    "  print('N') # 'N'\n",
    "\n",
    "\n",
    "if str2.islower() == True:\n",
    "\tprint('Y') # 'Y'\n",
    "else:\n",
    "  print('N')\n"
   ]
  }
 ],
 "metadata": {},
 "nbformat": 4,
 "nbformat_minor": 2
}
