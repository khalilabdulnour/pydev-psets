{
 "cells": [
  {
   "cell_type": "code",
   "execution_count": null,
   "metadata": {},
   "outputs": [],
   "source": [
    "\"\"\"\n",
    "Addition II - Booleans\n",
    "\"\"\"\n",
    "\n",
    "# Add the below sets of variables together.\n",
    "\n",
    "# A)\n",
    "a = True\n",
    "b = True\n",
    "\n",
    "\n",
    "\n",
    "# B)\n",
    "c = False\n",
    "d = False\n",
    "\n",
    "\n",
    "\n",
    "# C)\n",
    "e = True\n",
    "f = False"
   ]
  }
 ],
 "metadata": {},
 "nbformat": 4,
 "nbformat_minor": 2
}
