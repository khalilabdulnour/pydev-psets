{
 "cells": [
  {
   "cell_type": "code",
   "execution_count": null,
   "metadata": {},
   "outputs": [],
   "source": [
    "\"\"\"\n",
    "Write a function to compute 5/0 and use try/except to catch the exceptions.\n",
    "\"\"\"\n",
    "\n",
    "\"\"\"Write a function to compute 5/0 and use try/except to catch the exceptions.\n",
    "Hints:\n",
    "Use try/except to catch exceptions.\n",
    "\n",
    "\"\"\""
   ]
  }
 ],
 "metadata": {},
 "nbformat": 4,
 "nbformat_minor": 2
}
