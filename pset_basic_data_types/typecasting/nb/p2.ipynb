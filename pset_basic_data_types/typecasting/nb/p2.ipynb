{
 "cells": [
  {
   "cell_type": "code",
   "execution_count": null,
   "metadata": {},
   "outputs": [],
   "source": [
    "\"\"\"\n",
    "Typcasting w. Strings\n",
    "\"\"\"\n",
    "\n",
    "# Convert these variables into strings and then back to their original data types. Print out each result as well as its data type. What do you notice about the last one?\n",
    "\n",
    "five = 5\n",
    "zero = 0\n",
    "neg_8 = -8\n",
    "T = True\n",
    "F = False"
   ]
  }
 ],
 "metadata": {},
 "nbformat": 4,
 "nbformat_minor": 2
}
