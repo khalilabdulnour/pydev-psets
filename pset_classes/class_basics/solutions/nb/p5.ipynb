{
 "cells": [
  {
   "cell_type": "code",
   "execution_count": null,
   "metadata": {},
   "outputs": [],
   "source": [
    "\"\"\"\n",
    "Vehicles I \n",
    "\"\"\"\n",
    "\n",
    "# Create a \"Vehicle\" class with a class attribute for category ('transportion') and a method called \"start_engine()\" that prints \"Vroom!\". Add \"name\" and \"owner\" as instance attributes and instantiate a Vehicle called \"submarine\". Access all its attributes and methods for practice.\n",
    "\n",
    "# Note: See Vehicles II in p6 for an explanation of why we chose \"submarine\" as a vehicle instance!\n",
    "\n",
    "class Vehicle():\n",
    "    def __init__(self, name, owner):\n",
    "        self.name = name\n",
    "        self.owner = owner\n",
    "\n",
    "    category = 'transportation'\n",
    "\n",
    "    def start_engine(self):\n",
    "        print('Vrrrrrooomm!')\n",
    "\n",
    "\n",
    "submarine = Vehicle('Yellow Submarine', 'Sgt. Pepper')\n",
    "\n",
    "print(submarine.category) # transportation\n",
    "print(submarine.name) # Yellow Submarine\n",
    "print(submarine.owner) # Sgt. Pepper\n",
    "submarine.start_engine() # Vrrrrrooomm!\n",
    "\n"
   ]
  }
 ],
 "metadata": {},
 "nbformat": 4,
 "nbformat_minor": 2
}
