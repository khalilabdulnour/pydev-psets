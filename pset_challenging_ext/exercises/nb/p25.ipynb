{
 "cells": [
  {
   "cell_type": "code",
   "execution_count": null,
   "metadata": {},
   "outputs": [],
   "source": [
    "\"\"\"\n",
    "    Define a class, which have a class parameter and have a same instance parameter.\n",
    "\"\"\"\n",
    "\n",
    "\"\"\"Question 25\n",
    "Level 1\n",
    "Question:\n",
    "    Define a class, which have a class parameter and have a same instance parameter.\n",
    "Hints:\n",
    "    Define a instance parameter, need add it in __init__ method\n",
    "    You can init a object with construct parameter or set the value later\n",
    "\n",
    "\"\"\""
   ]
  }
 ],
 "metadata": {},
 "nbformat": 4,
 "nbformat_minor": 2
}
