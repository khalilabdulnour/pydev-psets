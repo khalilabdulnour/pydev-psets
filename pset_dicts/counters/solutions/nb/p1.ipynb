{
 "cells": [
  {
   "cell_type": "code",
   "execution_count": null,
   "metadata": {},
   "outputs": [],
   "source": [
    "\"\"\"\n",
    "Word Frequency - SOLUTION\n",
    "\"\"\"\n",
    "\n",
    "from collections import Counter\n",
    "\n",
    "princess_bride = [\n",
    "'Hello', 'my', 'name', 'is', 'Inigo', 'Montoya',\n",
    "'You', 'killed', 'my', 'father',\n",
    "'Prepare', 'to', 'die'\n",
    "]\n",
    "\n",
    "fave_word = Counter(princess_bride)\n",
    "\n",
    "print(fave_word.most_common(1))"
   ]
  }
 ],
 "metadata": {},
 "nbformat": 4,
 "nbformat_minor": 2
}
