{
 "cells": [
  {
   "cell_type": "code",
   "execution_count": null,
   "metadata": {},
   "outputs": [],
   "source": [
    "\"\"\"\n",
    "Write a program which can filter() to make a list whose elements are even number between 1 and 20 (both included).\n",
    "\"\"\"\n",
    "\n",
    "\"\"\"Question:\n",
    "Write a program which can filter() to make a list whose elements are even number between 1 and 20 (both included).\n",
    "Hints:\n",
    "Use filter() to filter elements of a list.\n",
    "Use lambda to define anonymous functions.\n",
    "\n",
    "\"\"\"\n",
    "evenNumbers = filter(lambda x: x%2==0, range(1,21))\n",
    "print evenNumbers\n"
   ]
  }
 ],
 "metadata": {},
 "nbformat": 4,
 "nbformat_minor": 2
}
