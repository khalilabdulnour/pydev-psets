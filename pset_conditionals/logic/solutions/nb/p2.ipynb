{
 "cells": [
  {
   "cell_type": "code",
   "execution_count": null,
   "metadata": {},
   "outputs": [],
   "source": [
    "\"\"\"\n",
    "Sign of Product\n",
    "\"\"\"\n",
    "\n",
    "# Given three numbers, a, b, c, without multiplying, determine the sign of their product.\n",
    "\n",
    "# EXAMPLE: a = -5, b = 6, c = -4, print 1\n",
    "\n",
    "# EXAMPLE: a = 5, b = 6, c = -4, print -1\n",
    "\n",
    "if a < 0:\n",
    "\tif b < 0:\n",
    "\t\tif c < 0:\n",
    "\t\t\tprint(-1)\n",
    "\t\telif c > 0:\n",
    "\t\t\tprint(1)\n",
    "\telif b > 0:\n",
    "\t\tif c < 0:\n",
    "\t\t\tprint(1)\n",
    "\t\telif c > 0:\n",
    "\t\t\tprint(-1)\n",
    "elif a > 0:\n",
    "\tif b < 0:\n",
    "\t\tif c < 0:\n",
    "\t\t\tprint(1)\n",
    "\t\telif c > 0:\n",
    "\t\t\tprint(-1)\n",
    "\telif b > 0:\n",
    "\t\tif c < 0:\n",
    "\t\t\tprint(-1)\n",
    "\t\telif c > 0:\n",
    "\t\t\tprint(1)"
   ]
  }
 ],
 "metadata": {},
 "nbformat": 4,
 "nbformat_minor": 2
}
