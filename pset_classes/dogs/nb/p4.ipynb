{
 "cells": [
  {
   "cell_type": "code",
   "execution_count": null,
   "metadata": {},
   "outputs": [],
   "source": [
    "\"\"\"\n",
    "Dogs IV - Tricks (CHALLENGE!)\n",
    "\"\"\"\n",
    "\n",
    "# Many dogs know how to do common tricks or follow common commands. You could create methods for each trick/command in the Dog parent class, but the problem is that not all dogs know all tricks/commands. \n",
    "\n",
    "# However, it would be inefficient to define a custom set of instance methods for tricks/commands every time you instantiate a unique Collie (or SiberianHuskey or Pekingese etc.).\n",
    "\n",
    "# Find an efficient way to specify which tricks each unique dog knows and to call them. You can use \"roll_over\", \"fetch\", \"shake_hands\", and \"spin\". Secondly, find a way to teach a dog new trick from this set.\n",
    "\n",
    "\n"
   ]
  }
 ],
 "metadata": {},
 "nbformat": 4,
 "nbformat_minor": 2
}
