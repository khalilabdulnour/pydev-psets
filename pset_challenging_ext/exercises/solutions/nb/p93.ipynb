{
 "cells": [
  {
   "cell_type": "code",
   "execution_count": null,
   "metadata": {},
   "outputs": [],
   "source": [
    "\"\"\"\n",
    "With two given lists [1,3,6,78,35,55] and [12,24,35,24,88,120,155], write a program to make a list whose elements are intersection of the above given lists.\n",
    "\"\"\"\n",
    "\n",
    "\"\"\"Question:\n",
    "With two given lists [1,3,6,78,35,55] and [12,24,35,24,88,120,155], write a program to make a list whose elements are intersection of the above given lists.\n",
    "Hints:\n",
    "Use set() and \"&=\" to do set intersection operation.\n",
    "\n",
    "\"\"\"\n",
    "set1=set([1,3,6,78,35,55])\n",
    "set2=set([12,24,35,24,88,120,155])\n",
    "set1 &= set2\n",
    "li=list(set1)\n",
    "print li\n"
   ]
  }
 ],
 "metadata": {},
 "nbformat": 4,
 "nbformat_minor": 2
}
