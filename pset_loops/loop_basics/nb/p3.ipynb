{
 "cells": [
  {
   "cell_type": "code",
   "execution_count": null,
   "metadata": {},
   "outputs": [],
   "source": [
    "\"\"\"\n",
    "Temperature Conversions\n",
    "\"\"\"\n",
    "\n",
    "# You're studying climate change, and over the last 3 years, you've recorded the temperature at noon every day in degrees Fahrenheit (F). The var sampleF holds a portion of those recordings. \n",
    "\n",
    "sampleF = [71.6, 82.4, 91.4, 107.6, 125.6]\n",
    "\n",
    "# Convert each item in this list into degrees Celsius and add the results to a dict called sample_temps so that the conversion of each day's temperature is easily accessible. For reference, the conversion equation between F and C is:\n",
    "# Celsius = (Fahrenheit - 32) * 5.0/9.0\n",
    "\n",
    "\n",
    "# sample_temps = \n",
    "\n"
   ]
  }
 ],
 "metadata": {},
 "nbformat": 4,
 "nbformat_minor": 2
}
