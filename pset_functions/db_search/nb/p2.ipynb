{
 "cells": [
  {
   "cell_type": "code",
   "execution_count": null,
   "metadata": {},
   "outputs": [],
   "source": [
    "\"\"\"\n",
    "RGB to HEX\n",
    "\"\"\"\n",
    "\n",
    "# Write a and call a function called \"rgb_hex\" that takes a parameter called \"color.\" The function should be able to intake a color in rgb format and return it in hex format as well as vice versa. A sample of color conversions are below. Write in logic so the function can interpret rgb and hex colors entered in different formats such as \"rgb_hex((255,255,255))\" or \"rgb_hex('ffffff')\". Also make sure to account for someone inputting a color not in the database.\n",
    "\n",
    "color_conversions = {\n",
    "'#4286f4': 'rgb(66, 134, 244)',\n",
    "'#5905c6': 'rgb(89, 5, 198)',\n",
    "'#fce702': 'rgb(252, 231, 2)',\n",
    "'#ffffff': 'rgb(255, 255, 255)',\n",
    "'#000000': 'rgb(0, 0, 0)',\n",
    "'#0ac913': 'rgb(10, 201, 19)',\n",
    "'#65c672': 'rgb(101, 198, 114)',\n",
    "'#f8d6ff': 'rgb(248, 214, 255)',\n",
    "'#b70782': 'rgb(183, 7, 130)',\n",
    "'#001184': 'rgb(0, 17, 132)',\n",
    "'#495eed': 'rgb(73, 94, 237)',\n",
    "'#b7ffb8': 'rgb(183, 255, 184)',\n",
    "'#ffbf00': 'rgb(255, 191, 0)',\n",
    "'#7a020e': 'rgb(122, 2, 14)',\n",
    "'#ff5e6e': 'rgb(255, 94, 110)',\n",
    "'#22003d': 'rgb(34, 0, 61)'\n",
    "}\n",
    "\n"
   ]
  }
 ],
 "metadata": {},
 "nbformat": 4,
 "nbformat_minor": 2
}
