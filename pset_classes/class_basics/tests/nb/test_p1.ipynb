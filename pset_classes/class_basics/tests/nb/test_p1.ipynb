{
 "cells": [
  {
   "cell_type": "code",
   "execution_count": null,
   "metadata": {},
   "outputs": [],
   "source": [
    "\"\"\"\n",
    "RGB to HEX\n",
    "\"\"\"\n",
    "\n",
    "import io\n",
    "import pytest\n",
    "from unittest import TestCase\n",
    "from unittest.mock import patch\n",
    "\n",
    "from p1 import Color\n",
    "\n",
    "\n",
    "@pytest.mark.describe('it returns ')\n",
    "class TestColor(TestCase):\n",
    "\n",
    "    def test_init(self):\n",
    "        c = Color('rgb(0, 0, 0)', '#000000')\n",
    "        assert c.rgb == 'rgb(0, 0, 0)'\n",
    "        assert c.hex_code == '#000000'\n",
    "\n",
    "    def test_convert_codes(self):\n",
    "        c = Color('rgb(0, 0, 0)', '#000000')\n",
    "        assert c.convert_codes('rgb(0, 0, 0)') == '#000000'\n",
    "        assert c.convert_codes('#000000') == 'rgb(0, 0, 0)'"
   ]
  }
 ],
 "metadata": {},
 "nbformat": 4,
 "nbformat_minor": 2
}
