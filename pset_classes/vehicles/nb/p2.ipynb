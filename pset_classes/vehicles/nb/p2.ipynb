{
 "cells": [
  {
   "cell_type": "code",
   "execution_count": null,
   "metadata": {},
   "outputs": [],
   "source": [
    "\"\"\"\n",
    "Vehicles II\n",
    "\"\"\"\n",
    "\n",
    "# Define 3 unique child classes for Vehicle - Car, Plane, and Boat. Each of these should have its own class attributes for \"motion\" and \"terrain\". (For Car, these would be something like \"drive\" and \"land\".)\n",
    "\n"
   ]
  }
 ],
 "metadata": {},
 "nbformat": 4,
 "nbformat_minor": 2
}
