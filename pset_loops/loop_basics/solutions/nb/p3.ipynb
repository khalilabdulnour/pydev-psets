{
 "cells": [
  {
   "cell_type": "code",
   "execution_count": null,
   "metadata": {},
   "outputs": [],
   "source": [
    "f\"\"\"\n",
    "Temperature Conversions - SOLUTIONS\n",
    "\"\"\"\n",
    "\n",
    "# You're studying climate change, and over the last 3 years, you've recorded the temperature at noon every day in degrees Fahrenheit (F). The var sampleF holds a portion of those recordings. \n",
    "\n",
    "sampleF = [91.4, 82.4, 71.6, 107.6, 115.6]\n",
    "\n",
    "# Convert each item in this list into degrees Celsius and add the results to a dict called sample_temps so that the conversion of each day's temperature is easily accessible (no need to round). For reference, the conversion equation between F and C is:\n",
    "# Celsius = (Fahrenheit - 32) * 5.0/9.0\n",
    "\n",
    "sample_temps = {}\n",
    "\n",
    "for f in sampleF:\n",
    "  c = (f - 32)*(5/9)\n",
    "  sample_temps.update({f: format(c, '.2f')})\n",
    "\n",
    "for k, v in sample_temps.items():\n",
    "    print(f'{k} F -> {v} C')\n",
    "\n",
    "\"\"\"\n",
    "91.4 F -> 33.00 C\n",
    "82.4 F -> 28.00 C\n",
    "71.6 F -> 22.00 C\n",
    "107.6 F -> 42.00 C\n",
    "115.6 F -> 46.44 C\n",
    "\"\"\""
   ]
  }
 ],
 "metadata": {},
 "nbformat": 4,
 "nbformat_minor": 2
}
