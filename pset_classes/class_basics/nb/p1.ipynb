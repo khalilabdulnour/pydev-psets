{
 "cells": [
  {
   "cell_type": "code",
   "execution_count": null,
   "metadata": {},
   "outputs": [],
   "source": [
    "\"\"\"\n",
    "Dog Class\n",
    "\"\"\"\n",
    "\n",
    "# Implement a class called \"Dog\" with the following properties:\n",
    "# name\n",
    "# breed\n",
    "# age\n"
   ]
  }
 ],
 "metadata": {},
 "nbformat": 4,
 "nbformat_minor": 2
}
