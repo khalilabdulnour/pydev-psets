{
 "cells": [
  {
   "cell_type": "code",
   "execution_count": null,
   "metadata": {},
   "outputs": [],
   "source": [
    "\"\"\"\n",
    "Merge Lists with Duplicates\n",
    "\"\"\"\n",
    "\n",
    "# Use the two lists below to solve this problem. Print out the result from each section as you go along.\n",
    "\n",
    "list1, list2 = [2, 8, 6], [10, 4, 12]\n",
    "\n",
    "\n",
    "# Add another instance of each item in list1 to list1 again and assign the results to list3.\n",
    "list3 = list1 * 2\n",
    "print(list3) # [2, 8, 6, 2, 8, 6]\n",
    "\n",
    "\n",
    "# Combine the two given lists and assign them to list4.\n",
    "list4 = list2 + list3\n",
    "print(list4) # [10, 4, 12, 2, 8, 6, 2, 8, 6]\n",
    "\n",
    "\n",
    "# Replace the first 3 items in list 3 with the numbers 13, 16, 9.\n",
    "list3[:2] = [13, 16, 9]\n",
    "print(list3) # [13, 16, 9, 6, 2, 8, 6]\n",
    "\n",
    "# Create a variable list5. Merge list3 and list4 to create a list containing no duplicates.\n",
    "list5 = set(list3 + list4)\n",
    "list5 = list(list5)\n",
    "print(list5) # [2, 4, 6, 8, 9, 10, 12, 13, 16]\n",
    "\n",
    "\n",
    "# Take a look at your printed statements to see the evolution of your lists with each step of this problem.\n",
    "\n",
    "\n"
   ]
  }
 ],
 "metadata": {},
 "nbformat": 4,
 "nbformat_minor": 2
}
