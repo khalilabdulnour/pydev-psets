{
 "cells": [
  {
   "cell_type": "code",
   "execution_count": null,
   "metadata": {},
   "outputs": [],
   "source": [
    "\"\"\"\n",
    "Booleans I - Typecasting w. Numbers\n",
    "\"\"\"\n",
    "\n",
    "# A) Use typecasting to turn these variables into boolean values. Print the result and the datatype of the result. \n",
    "\n",
    "one = 1\n",
    "zero = 0\n",
    "\n",
    "\n",
    "# B) Use typecasting to turn the resultant variables from part A into floats. Print the result and the datatype of the result.\n",
    "\n",
    "\n",
    "# C) Use typecasting to turn the resultant variables from part B back into booleans. Print the result and the datatype of the result.\n",
    "\n",
    "\n",
    "# C) Use typecasting to turn the resultant variables from part C into integers. Print the result and the datatype of the result.\n",
    "\n",
    "\n",
    "# E) Use typecasting to turn the variable below into a boolean value. Print the result and the datatype of the result. \n",
    "\n",
    "ten = 10\n",
    "\n"
   ]
  }
 ],
 "metadata": {},
 "nbformat": 4,
 "nbformat_minor": 2
}
