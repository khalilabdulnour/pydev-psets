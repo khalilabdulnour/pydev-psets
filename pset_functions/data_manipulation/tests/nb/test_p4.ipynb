{
 "cells": [
  {
   "cell_type": "code",
   "execution_count": null,
   "metadata": {},
   "outputs": [],
   "source": [
    "\"\"\"\n",
    "Rainbows & Wobniars\n",
    "\"\"\"\n",
    "\n",
    "import io\n",
    "import pytest\n",
    "from unittest import TestCase\n",
    "from unittest.mock import patch\n",
    "from p4 import *\n",
    "\n",
    "@pytest.mark.describe('it returns a list with red, yellow, blue, & violet spelled backwards')\n",
    "def test_wobniar():\n",
    "\tassert wobniar() == ['der', 'wolley', 'eulb', 'teloiv']"
   ]
  }
 ],
 "metadata": {},
 "nbformat": 4,
 "nbformat_minor": 2
}
