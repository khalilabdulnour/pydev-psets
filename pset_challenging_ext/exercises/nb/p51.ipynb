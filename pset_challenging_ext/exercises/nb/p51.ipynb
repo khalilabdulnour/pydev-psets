{
 "cells": [
  {
   "cell_type": "code",
   "execution_count": null,
   "metadata": {},
   "outputs": [],
   "source": [
    "\"\"\"\n",
    "Define a class named American and its subclass NewYorker. \n",
    "\"\"\"\n",
    "\n",
    "\"\"\"Question:\n",
    "Define a class named American and its subclass NewYorker. \n",
    "Hints:\n",
    "Use class Subclass(ParentClass) to define a subclass.\n",
    "\n",
    "\"\"\""
   ]
  }
 ],
 "metadata": {},
 "nbformat": 4,
 "nbformat_minor": 2
}
