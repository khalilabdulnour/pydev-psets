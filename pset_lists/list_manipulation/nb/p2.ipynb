{
 "cells": [
  {
   "cell_type": "code",
   "execution_count": null,
   "metadata": {},
   "outputs": [],
   "source": [
    "\"\"\"\n",
    "Core Statistics Calculations\n",
    "\"\"\"\n",
    "\n",
    "# Given the list below, assign the correct values to the variables below.\n",
    "\t# my_sum = \n",
    "\t# my_min = \n",
    "\t# my_max = \n",
    "\t# my_range = \n",
    "\t# my_mean =\n",
    "\n",
    "nums = [2, 19, 20, 12, 6, 24, 8, 30, 28, 25]\n",
    "\n",
    "\n",
    "# Once you finish, print out each value **on its own line** in this format: \"sum = \" etc.\n",
    "\n",
    "\n",
    "\n",
    "# **challenge** Find the median, mode, variance, and standard deviation of this sample. Print them out separately, but in the same format as before.\n"
   ]
  }
 ],
 "metadata": {},
 "nbformat": 4,
 "nbformat_minor": 2
}
