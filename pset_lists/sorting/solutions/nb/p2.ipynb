{
 "cells": [
  {
   "cell_type": "code",
   "execution_count": null,
   "metadata": {},
   "outputs": [],
   "source": [
    "\"\"\"\n",
    "Ordering Random Numbers\n",
    "\"\"\"\n",
    "\n",
    "# Create a list of 6 randomly generated numbers called numbers and sort it in descending order.\n",
    "\n",
    "from random import randint\n",
    "\n",
    "numbers = []\n",
    "numbers.append(randint(6, 100))\n",
    "numbers.append(randint(6, 100))\n",
    "numbers.append(randint(6, 100))\n",
    "numbers.append(randint(6, 100))\n",
    "numbers.append(randint(6, 100))\n",
    "numbers.append(randint(6, 100))\n",
    "numbers.append(randint(6, 100))\n",
    "\n",
    "print(f'Unsorted: {numbers}\\n')\n",
    "\n",
    "\n",
    "numbers.sort(reverse = True)\n",
    "# OR... numbers = sorted(numbers, reverse = True)\n",
    "\n",
    "print(f'Sorted: {numbers}\\n')"
   ]
  }
 ],
 "metadata": {},
 "nbformat": 4,
 "nbformat_minor": 2
}
