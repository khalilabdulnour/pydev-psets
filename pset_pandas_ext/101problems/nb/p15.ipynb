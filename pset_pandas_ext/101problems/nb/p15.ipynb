{
 "cells": [
  {
   "cell_type": "code",
   "execution_count": null,
   "metadata": {},
   "outputs": [],
   "source": [
    "\"\"\"\n",
    "15. How to stack two series vertically and horizontally ?\n",
    "\"\"\"\n",
    "\"\"\"\n",
    "Difficulty Level: L1\n",
    "\"\"\"\n",
    "\"\"\"\n",
    "Stack ser1 and ser2 vertically and horizontally (to form a dataframe).\n",
    "\"\"\"\n",
    "\"\"\"\n",
    "Input\n",
    "\"\"\"\n",
    "\"\"\"\n",
    "ser1 = pd.Series(range(5))\n",
    "ser2 = pd.Series(list('abcde'))\n",
    "\"\"\"\n"
   ]
  }
 ],
 "metadata": {},
 "nbformat": 4,
 "nbformat_minor": 2
}
