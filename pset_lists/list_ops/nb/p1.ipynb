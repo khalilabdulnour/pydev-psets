{
 "cells": [
  {
   "cell_type": "code",
   "execution_count": null,
   "metadata": {},
   "outputs": [],
   "source": [
    "\"\"\"\n",
    "Basic List Operations\n",
    "\"\"\"\n",
    "\n",
    "# Create a list including these five animals - elephant, tiger, otter, orangutan, and penguin.\n",
    "\n",
    "\n",
    "# Print the 4th animal on the list.\n",
    "\n",
    "\n",
    "# Add 'tortoise' to the beginning of the list.\n",
    "\n",
    "\n",
    "# Print the length of the list.\n",
    "\n",
    "\n",
    "# Remove 'orangutan' from the list.\n",
    "\n",
    "\n",
    "# Sort the list alphabetically and print it out.\n"
   ]
  }
 ],
 "metadata": {},
 "nbformat": 4,
 "nbformat_minor": 2
}
