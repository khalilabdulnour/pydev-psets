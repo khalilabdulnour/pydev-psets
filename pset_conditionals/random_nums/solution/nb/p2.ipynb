{
 "cells": [
  {
   "cell_type": "code",
   "execution_count": null,
   "metadata": {},
   "outputs": [],
   "source": [
    "\"\"\"\n",
    "Generate Phone Number w/Area Code\n",
    "\"\"\"\n",
    "\n",
    "# Generate a random phone number using these SPECS:\n",
    "### Should be a string in this format: 1-718-786-2825\n",
    "### Must randomly choose one of these area codes: 646, 718, 212\n",
    "\n",
    "from random import randint\n",
    "\n",
    "areacode = randint(1, 3)\n",
    "\n",
    "str_ = \"1-\"\n",
    "if areacode == 1:\n",
    "    str_ += \"718\"\n",
    "if areacode == 2:\n",
    "    str_ += \"646\"\n",
    "if areacode == 3:\n",
    "    str_ += \"212\"\n",
    "\n",
    "str_ += f\"-{randint(100,999)}-{randint(1000,9999)}\"\n",
    "\n",
    "print(str_)\n"
   ]
  }
 ],
 "metadata": {},
 "nbformat": 4,
 "nbformat_minor": 2
}
