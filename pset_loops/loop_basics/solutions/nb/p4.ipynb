{
 "cells": [
  {
   "cell_type": "code",
   "execution_count": null,
   "metadata": {},
   "outputs": [],
   "source": [
    "\"\"\"\n",
    "Factorial - SOLUTION\n",
    "\"\"\"\n",
    "\n",
    "# Find the factorial of a number input by a user. Then print out the factors within the factorial and then print out the actual numeric answer. Hint: The formula for a factorial is n! = (n-1)*n.\n",
    "\n",
    "# Example output:\n",
    "\"\"\"\n",
    "8! = 8*7*6*5*4*3*2*1\n",
    "8! = 40320\n",
    "\"\"\"\n",
    "\n",
    "print('Enter a number to find its factorial: ')\n",
    "initial = input()\n",
    "num = int(initial)\n",
    "\n",
    "fac = []\n",
    "\n",
    "while num >= 1:\n",
    "  fac.append(num)\n",
    "  num -= 1\n",
    "\n",
    "factorial = f'{initial}! = '\n",
    "product = 1\n",
    "\n",
    "for index, value in enumerate(fac):\n",
    "  if value > 1:\n",
    "    factorial = factorial+str(value)+'*'\n",
    "    product = product*value\n",
    "  elif value == 1:\n",
    "    factorial = factorial+str(value)\n",
    "\n",
    "print(factorial+'\\n8! =', product)"
   ]
  }
 ],
 "metadata": {},
 "nbformat": 4,
 "nbformat_minor": 2
}
