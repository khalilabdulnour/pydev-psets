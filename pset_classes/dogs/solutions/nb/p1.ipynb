{
 "cells": [
  {
   "cell_type": "code",
   "execution_count": null,
   "metadata": {},
   "outputs": [],
   "source": [
    "\"\"\"\n",
    "Dog Class\n",
    "\"\"\"\n",
    "\n",
    "# Create a class called \"Dog\". It should include: \n",
    "## A class attribute \"domesticated\" w. value True\n",
    "## An instance method called \"bark()\" that prints \"Woof!\"\n",
    "\n",
    "\n",
    "class Dog():\n",
    "    def __init__(self, name):\n",
    "        self.name = name\n",
    "\n",
    "    domesticated = True\n",
    "\n",
    "    def bark(self):\n",
    "        print('Woof!')\n",
    "\n"
   ]
  }
 ],
 "metadata": {},
 "nbformat": 4,
 "nbformat_minor": 2
}
