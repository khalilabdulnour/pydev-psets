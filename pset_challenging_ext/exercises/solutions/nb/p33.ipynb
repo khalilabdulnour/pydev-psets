{
 "cells": [
  {
   "cell_type": "code",
   "execution_count": null,
   "metadata": {},
   "outputs": [],
   "source": [
    "\"\"\"\n",
    "Define a function which can print a dictionary where the keys are numbers between 1 and 3 (both included) and the values are square of keys.\n",
    "\"\"\"\n",
    "\n",
    "\"\"\"Question:\n",
    "Define a function which can print a dictionary where the keys are numbers between 1 and 3 (both included) and the values are square of keys.\n",
    "Hints:\n",
    "Use dict[key]=value pattern to put entry into a dictionary.\n",
    "Use ** operator to get power of a number.\n",
    "\n",
    "\"\"\"\n",
    "def printDict():\n",
    "\td=dict()\n",
    "\td[1]=1\n",
    "\td[2]=2**2\n",
    "\td[3]=3**2\n",
    "\tprint d\n",
    "\t\t\n",
    "printDict()\n"
   ]
  }
 ],
 "metadata": {},
 "nbformat": 4,
 "nbformat_minor": 2
}
