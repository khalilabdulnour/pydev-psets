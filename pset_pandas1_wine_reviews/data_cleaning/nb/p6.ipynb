{
 "cells": [
  {
   "cell_type": "code",
   "execution_count": null,
   "metadata": {},
   "outputs": [],
   "source": [
    "\"\"\"\n",
    "Data Cleaning VI - Bulk Replace Across Multiple DataFrame Columns\n",
    "\"\"\"\n",
    "\n",
    "import numpy as np\n",
    "import pandas as pd\n",
    "wine_reviews = pd.read_csv('raw_data/winemag-data-130k.csv')\n",
    "\n",
    "# (Obviously, these changes are geographically incorrect and just for the sake of example.)\n",
    "\n",
    "# Using this DataFrame, replace all instances in the following columns according to the directions below. HINT: You should be able to do this in one function call!\n",
    "## 'country' column\n",
    "#### 'US' should become 'Morocco'\n",
    "#### 'France' should become 'Mexico'\n",
    "## 'province' column\n",
    "#### 'Oregon' should become 'Ouezzane'\n",
    "#### 'Michigan' should become 'Fahs-Anjra'\n",
    "#### 'Sicily & Sardinia' should become 'Tuscany'\n",
    "\n",
    "wine_geography = wine_reviews.copy()[['variety', 'country', 'province']]\n",
    "\n"
   ]
  }
 ],
 "metadata": {},
 "nbformat": 4,
 "nbformat_minor": 2
}
