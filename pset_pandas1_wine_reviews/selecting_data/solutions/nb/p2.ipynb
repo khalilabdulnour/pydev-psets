{
 "cells": [
  {
   "cell_type": "code",
   "execution_count": null,
   "metadata": {},
   "outputs": [],
   "source": [
    "\"\"\"\n",
    "Selecting Data II - Access a Column\n",
    "\"\"\"\n",
    "\n",
    "import numpy as np\n",
    "import pandas as pd\n",
    "wine_reviews = pd.read_csv('../../winemag-data-130k.csv')\n",
    "\n",
    "\n",
    "# Return the winery column in a variable called \"wineries\".\n",
    "\n",
    "wineries = wine_reviews['winery']\n",
    "\n",
    "# Run a command to return the type of wineries.\n",
    "\n",
    "print(type(wineries)) # <class 'pandas.core.series.Series'>"
   ]
  }
 ],
 "metadata": {},
 "nbformat": 4,
 "nbformat_minor": 2
}
