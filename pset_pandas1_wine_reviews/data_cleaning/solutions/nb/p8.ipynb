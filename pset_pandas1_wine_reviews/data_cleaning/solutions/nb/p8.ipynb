{
 "cells": [
  {
   "cell_type": "code",
   "execution_count": null,
   "metadata": {},
   "outputs": [],
   "source": [
    "\"\"\"\n",
    "Cleaning Data VIII - Find Null Values\n",
    "\"\"\"\n",
    "\n",
    "import numpy as np\n",
    "import pandas as pd\n",
    "wine_reviews = pd.read_csv('raw_data/winemag-data-130k.csv')\n",
    "wine_reviews.rename(columns={'points': 'rating'}, inplace=True)\n",
    "\n",
    "# Use the below df for these problems:\n",
    "\n",
    "wine_ratings = wine_reviews[['title', 'country', 'rating', 'price']]\n",
    "\n",
    "\n",
    "# Return a count of the null values in wine_ratings.\n",
    "print(wine_ratings.isnull().sum())\n",
    "\"\"\"\n",
    "title         0\n",
    "country      63\n",
    "rating        0\n",
    "price      8996\n",
    "\"\"\"\n",
    "\n",
    "# Print out the number of rows in wine_ratings.\n",
    "print(len(wine_ratings)) # 129971\n",
    "\n"
   ]
  }
 ],
 "metadata": {},
 "nbformat": 4,
 "nbformat_minor": 2
}
