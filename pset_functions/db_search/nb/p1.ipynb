{
 "cells": [
  {
   "cell_type": "code",
   "execution_count": null,
   "metadata": {},
   "outputs": [],
   "source": [
    "\"\"\"\n",
    "GPA Calculator\n",
    "\"\"\"\n",
    "\n",
    "# Write a function called \"simple_gpa\" to find GPA when student enters a letter grade as a string. Assign the result to a variable called \"gpa\".\n",
    "\n",
    "\"\"\"\n",
    "Use these conversions:\n",
    "A+ --> 4.0\n",
    "A --> 4.0\n",
    "A- --> 3.7\n",
    "B+ --> 3.3\n",
    "B --> 3.0\n",
    "B- --> 2.7\n",
    "C+ --> 2.3\n",
    "C --> 2.0\n",
    "C- --> 1.7\n",
    "D+ --> 1.3\n",
    "D --> 1.0\n",
    "D- --> 0.7\n",
    "F --> 0.0\n",
    "\"\"\"\n",
    "\n"
   ]
  }
 ],
 "metadata": {},
 "nbformat": 4,
 "nbformat_minor": 2
}
