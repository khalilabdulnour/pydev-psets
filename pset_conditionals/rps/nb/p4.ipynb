{
 "cells": [
  {
   "cell_type": "code",
   "execution_count": null,
   "metadata": {},
   "outputs": [],
   "source": [
    "\"\"\"\n",
    "Play RPS w/Bad Input\n",
    "\"\"\"\n",
    "\n",
    "p1 = None  # can be invalid!\n",
    "p2 = None  # can be invalid!\n",
    "\n",
    "\"\"\"\n",
    "This is the same as the original RPS problem, \n",
    "except that cannot expect the input to be valid. \n",
    "While we *want* `r` or `p` or `s`, there is a possibility \n",
    "that input can be anything like...\n",
    "\n",
    "* `ROCK` (all caps)\n",
    "* `R` (`r` but capitalized)\n",
    "* `PAPrrRR` (incorrectly spelled, upper/lowercased)\n",
    "\n",
    "Implement conditional statements that will sanitize the \n",
    "user input or let user know that input is invalid.\n",
    "\"\"\"\n"
   ]
  }
 ],
 "metadata": {},
 "nbformat": 4,
 "nbformat_minor": 2
}
