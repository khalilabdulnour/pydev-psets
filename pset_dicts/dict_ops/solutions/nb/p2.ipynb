{
 "cells": [
  {
   "cell_type": "code",
   "execution_count": null,
   "metadata": {},
   "outputs": [],
   "source": [
    "\"\"\"\n",
    "Merging Dicts - SOLUTION\n",
    "\"\"\"\n",
    "\n",
    "# Merge these two dicts without creating a new one.\n",
    "\n",
    "d1 = {'a': 100, 'b': 200}\n",
    "d2 = {'c': 300, 'd': 400, 'e': 500}\n",
    "\n",
    "d1.update(d2)\n",
    "print(d1)\n",
    "\n",
    "# {'a': 100, 'b': 200, 'c': 300, 'd': 400, 'e': 500}"
   ]
  }
 ],
 "metadata": {},
 "nbformat": 4,
 "nbformat_minor": 2
}
