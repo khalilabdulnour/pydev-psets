{
 "cells": [
  {
   "cell_type": "code",
   "execution_count": null,
   "metadata": {},
   "outputs": [],
   "source": [
    "\"\"\"\n",
    "Please write a program to randomly generate a list with 5 even numbers between 100 and 200 inclusive.\n",
    "\"\"\"\n",
    "\n",
    "\"\"\"Question:\n",
    "Please write a program to randomly generate a list with 5 even numbers between 100 and 200 inclusive.\n",
    "Hints:\n",
    "Use random.sample() to generate a list of random values.\n",
    "\n",
    "\"\"\"\n",
    "import random\n",
    "print random.sample([i for i in range(100,201) if i%2==0], 5)\n"
   ]
  }
 ],
 "metadata": {},
 "nbformat": 4,
 "nbformat_minor": 2
}
