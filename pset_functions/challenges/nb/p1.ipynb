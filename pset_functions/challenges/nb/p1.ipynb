{
 "cells": [
  {
   "cell_type": "code",
   "execution_count": null,
   "metadata": {},
   "outputs": [],
   "source": [
    "\"\"\"\n",
    "Sum of Squares\n",
    "\"\"\"\n",
    "\n",
    "\n",
    "# Write a function called \"sum_squares\" that finds the sum of the squares of any number of integers passed into the function.\n",
    "\n",
    "# For example, someone could enter three individual integers, a list of five integers, or a tuple nested in a list of eight integers.\n",
    "\n",
    "# Hint: The solution tests out different scenarios, so you can pass those numbers into your function to see if you can get the same answer for different scenarios.\n",
    "\n"
   ]
  }
 ],
 "metadata": {},
 "nbformat": 4,
 "nbformat_minor": 2
}
