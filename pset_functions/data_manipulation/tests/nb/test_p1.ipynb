{
 "cells": [
  {
   "cell_type": "code",
   "execution_count": null,
   "metadata": {},
   "outputs": [],
   "source": [
    "\"\"\"\n",
    "File Organization\n",
    "\"\"\"\n",
    "\n",
    "import io\n",
    "import pytest\n",
    "from unittest import TestCase\n",
    "from unittest.mock import patch\n",
    "from p1 import *\n",
    "\n",
    "\n",
    "@pytest.mark.describe('')\n",
    "def test_group_by_owners():\n",
    "\tfiles = {\n",
    "\t'Input1.txt': 'Beau',\\\n",
    "\t'Code1.py': 'Mischa',\n",
    "\t'Output1.txt': 'Beau',\n",
    "\t'Input2.txt': 'Beau',\n",
    "\t'Code2.py': 'Mischa',\n",
    "\t'Output2.txt': 'Beau',\n",
    "\t'Input3.txt': 'Percy',\n",
    "\t'Code3.py': 'Alejandra',\n",
    "\t'Output3.txt': 'Percy'\n",
    "\t}\n",
    "\n",
    "\tassert group_by_owners(files) == {'Beau': ['Input1.txt', 'Output1.txt', 'Input2.txt', 'Output2.txt'], 'Mischa': ['Code1.py', 'Code2.py'], 'Percy': ['Input3.txt', 'Output3.txt'], 'Alejandra': 'Code3.py'}\n",
    "\n",
    "\n"
   ]
  }
 ],
 "metadata": {},
 "nbformat": 4,
 "nbformat_minor": 2
}
