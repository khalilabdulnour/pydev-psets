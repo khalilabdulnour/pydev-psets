{
 "cells": [
  {
   "cell_type": "code",
   "execution_count": null,
   "metadata": {},
   "outputs": [],
   "source": [
    "\"\"\"\n",
    "52. How to find the position of the nth largest value greater than a given value?\n",
    "\"\"\"\n",
    "\"\"\"\n",
    "Difficulty Level: L2\n",
    "\"\"\"\n",
    "\"\"\"\n",
    "In ser, find the position of the 2nd largest value greater than the mean.\n",
    "\"\"\"\n",
    "\"\"\"\n",
    "Input\n",
    "\"\"\"\n",
    "\"\"\"\n",
    "ser = pd.Series(np.random.randint(1, 100, 15))\n",
    "\"\"\"\n"
   ]
  }
 ],
 "metadata": {},
 "nbformat": 4,
 "nbformat_minor": 2
}
