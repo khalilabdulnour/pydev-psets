{
 "cells": [
  {
   "cell_type": "code",
   "execution_count": null,
   "metadata": {},
   "outputs": [],
   "source": [
    "\"\"\"\n",
    "Empty Strings\n",
    "\"\"\"\n",
    "\n",
    "# Given any empty string, of the form:\n",
    "\n",
    "# ''\n",
    "# ' '\n",
    "# '  '\n",
    "# any other num of spaces...\n",
    "\n",
    "# determine if the str is empty or not (print True or False). Hint: You'll need to look up how to remove trailing spaces from a string.\n",
    "\n",
    "\n",
    "my_str = '    '\n",
    "\n",
    "if my_str.strip() == '':\n",
    "  print(True)\n",
    "else:\n",
    "  print(False)\n",
    "\n",
    "\n",
    "# .strip() removes any spaces from a string. you do this because a string with spaces has a length and would otherwise evaluate to empty == True. But an empty string is really a falsy.\n"
   ]
  }
 ],
 "metadata": {},
 "nbformat": 4,
 "nbformat_minor": 2
}
