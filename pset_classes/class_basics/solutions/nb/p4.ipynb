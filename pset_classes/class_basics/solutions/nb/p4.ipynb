{
 "cells": [
  {
   "cell_type": "code",
   "execution_count": null,
   "metadata": {},
   "outputs": [],
   "source": [
    "\"\"\"\n",
    "Rectangle\n",
    "\"\"\"\n",
    "\n",
    "# Write a Python class named \"Rectangle\" constructed by values for length and width. It should include two methods to calculate the \"area\" and the \"perimeter\" of a rectangle. Instantiate a Rectangle and call both methods.\n",
    "\n",
    "\n",
    "class Rectangle():\n",
    "    def __init__(self, l, w):\n",
    "        self.length = l\n",
    "        self.width  = w\n",
    "\n",
    "    def area(self):\n",
    "        return self.length*self.width\n",
    "\n",
    "    def perimeter(self):\n",
    "    \treturn self.length*2 + self.width*2\n",
    "\n",
    "rect1 = Rectangle(12, 10)\n",
    "print(rect1.area()) # 120 \n",
    "print(rect1.perimeter()) # 44"
   ]
  }
 ],
 "metadata": {},
 "nbformat": 4,
 "nbformat_minor": 2
}
