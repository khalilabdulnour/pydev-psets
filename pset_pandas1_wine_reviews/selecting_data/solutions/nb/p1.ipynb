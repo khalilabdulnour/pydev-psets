{
 "cells": [
  {
   "cell_type": "code",
   "execution_count": null,
   "metadata": {},
   "outputs": [],
   "source": [
    "\"\"\"\n",
    "Selecting Data I - Access a Row\n",
    "\"\"\"\n",
    "\n",
    "import numpy as np\n",
    "import pandas as pd\n",
    "wine_reviews = pd.read_csv('../../winemag-data-130k.csv')\n",
    "\n",
    "\n",
    "# Return the 12th row in the wine_reviews dataframe.\n",
    "\n",
    "print(wine_reviews.iloc[12,:])\n",
    "\n",
    "\"\"\"\n",
    "country                                                                 US\n",
    "description              Slightly reduced, this wine offers a chalky, t...\n",
    "designation                                                            NaN\n",
    "points                                                                  87\n",
    "price                                                                   34\n",
    "province                                                        California\n",
    "region_1                                                  Alexander Valley\n",
    "region_2                                                            Sonoma\n",
    "taster_name                                                 Virginie Boone\n",
    "taster_twitter_handle                                              @vboone\n",
    "title                    Louis M. Martini 2012 Cabernet Sauvignon (Alex...\n",
    "variety                                                 Cabernet Sauvignon\n",
    "winery                                                    Louis M. Martini\n",
    "\"\"\""
   ]
  }
 ],
 "metadata": {},
 "nbformat": 4,
 "nbformat_minor": 2
}
