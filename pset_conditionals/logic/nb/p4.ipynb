{
 "cells": [
  {
   "cell_type": "code",
   "execution_count": null,
   "metadata": {},
   "outputs": [],
   "source": [
    "\"\"\"\n",
    "Empty Strings\n",
    "\"\"\"\n",
    "\n",
    "# Given any empty string, of the form:\n",
    "\n",
    "# ''\n",
    "# ' '\n",
    "# '  '\n",
    "# any other num of spaces...\n",
    "\n",
    "# determine if the str is empty or not (print True or False). Hint: You'll need to look up how to remove trailing spaces from a string.\n"
   ]
  }
 ],
 "metadata": {},
 "nbformat": 4,
 "nbformat_minor": 2
}
