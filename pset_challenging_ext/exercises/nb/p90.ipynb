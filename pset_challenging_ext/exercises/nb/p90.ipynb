{
 "cells": [
  {
   "cell_type": "code",
   "execution_count": null,
   "metadata": {},
   "outputs": [],
   "source": [
    "\"\"\"\n",
    "\n",
    "\"\"\"\n",
    "\n",
    "\"\"\"\n",
    "Question:\n",
    "By using list comprehension, please write a program generate a 3*5*8 3D array whose each element is 0.\n",
    "Hints:\n",
    "Use list comprehension to make an array.\n",
    "\n",
    "\"\"\""
   ]
  }
 ],
 "metadata": {},
 "nbformat": 4,
 "nbformat_minor": 2
}
