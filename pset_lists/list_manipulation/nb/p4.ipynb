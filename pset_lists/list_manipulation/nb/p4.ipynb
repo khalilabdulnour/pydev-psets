{
 "cells": [
  {
   "cell_type": "code",
   "execution_count": null,
   "metadata": {},
   "outputs": [],
   "source": [
    "\"\"\"\n",
    "Cool Runnings!\n",
    "\"\"\"\n",
    "\n",
    "# Here's a quote from the movie 'Cool Runnings'. :)\n",
    "\n",
    "# Replace the word bobsled with \"YOLO\" and print the resultant list as 4 sentences (i.e. NOT a list), each on a new line.\n",
    "\n",
    "cool_runnings = [\n",
    "\t'Feel', 'the', 'rhythm.',\n",
    "\t'Feel', 'the', 'rhyme.',\n",
    "\t'Get', 'on', 'up.',\n",
    "\t'It\\'s', 'bobsled', 'time!'\n",
    "]\n",
    "\n"
   ]
  }
 ],
 "metadata": {},
 "nbformat": 4,
 "nbformat_minor": 2
}
