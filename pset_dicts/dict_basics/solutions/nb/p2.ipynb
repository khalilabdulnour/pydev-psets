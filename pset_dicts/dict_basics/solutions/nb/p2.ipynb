{
 "cells": [
  {
   "cell_type": "code",
   "execution_count": null,
   "metadata": {},
   "outputs": [],
   "source": [
    "\"\"\"\n",
    "Predators & Prey\n",
    "\"\"\"\n",
    "\n",
    "# A) Create a dict called \"pred_prey\", containing:\n",
    "### 3 carnivorous marine animals\n",
    "### For each carnivore, 3 examples of its prey\n",
    "\n",
    "pred_prey = {\n",
    "    'dolphin': ['shrimp', 'herring', 'squid'],\n",
    "    'orca whale': ['sea turtle', 'harp seal', 'squid'],\n",
    "    'great white shark': ['sea lion', 'sea turtle', 'harp seal']\n",
    "}\n",
    "\n",
    "# B) Print out the 2nd predator and its prey in this format:\n",
    "#### predator2: prey1, prey2, & prey3\n",
    "\n",
    "items = list(pred_prey.items())\n",
    "print(f'{items[1][0]}: {items[1][1][0]}, {items[1][1][1]}, & {items[1][1][2]}')\n",
    "\n",
    "\n",
    "# C) Print a unique collection of all the prey in a variable called \"prey\".\n",
    "\n",
    "prey_lists = list(pred_prey.values())\n",
    "\n",
    "prey = []\n",
    "prey.extend(prey_lists[0])\n",
    "prey.extend(prey_lists[1])\n",
    "prey.extend(prey_lists[2])\n",
    "\n",
    "prey = set(prey)\n",
    "print(prey)"
   ]
  }
 ],
 "metadata": {},
 "nbformat": 4,
 "nbformat_minor": 2
}
