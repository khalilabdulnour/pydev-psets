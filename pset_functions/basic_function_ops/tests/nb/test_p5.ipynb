{
 "cells": [
  {
   "cell_type": "code",
   "execution_count": null,
   "metadata": {},
   "outputs": [],
   "source": [
    "\"\"\"\n",
    "Function Basics V - Indeterminate Arguments\n",
    "\"\"\"\n",
    "\n",
    "import io\n",
    "import pytest\n",
    "from unittest import TestCase\n",
    "from unittest.mock import patch\n",
    "from p5 import *\n",
    "\n",
    "@pytest.mark.describe('it returns highest and lowest value of input numbers')\n",
    "def test_high_low():\n",
    "\tassert high_low(15, 4, 8, 21, 11) == (21, 4)\n",
    "\n",
    "\n",
    "@pytest.mark.describe('it returns an error if argument pass is not int type')\n",
    "def test_high_low():\n",
    "\tassert high_low(15, [21, 3], 6, 11) == ('Error: ', 'Please enter only individual integers.')"
   ]
  }
 ],
 "metadata": {},
 "nbformat": 4,
 "nbformat_minor": 2
}
