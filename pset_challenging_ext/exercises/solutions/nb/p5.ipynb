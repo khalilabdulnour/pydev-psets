{
 "cells": [
  {
   "cell_type": "code",
   "execution_count": null,
   "metadata": {},
   "outputs": [],
   "source": [
    "\"\"\"\n",
    "Define a class which has at least two methods:\n",
    "\"\"\"\n",
    "\n",
    "\"\"\"Question 5\n",
    "Level 1\n",
    "Question:\n",
    "Define a class which has at least two methods:\n",
    "getString: to get a string from console input\n",
    "printString: to print the string in upper case.\n",
    "Also please include simple test function to test the class methods.\n",
    "Hints:\n",
    "Use __init__ method to construct some parameters\n",
    "\n",
    "\"\"\"\n",
    "class InputOutString(object):\n",
    "    def __init__(self):\n",
    "        self.s = \"\"\n",
    "    def getString(self):\n",
    "        self.s = raw_input()\n",
    "    def printString(self):\n",
    "        print self.s.upper()\n",
    "strObj = InputOutString()\n",
    "strObj.getString()\n",
    "strObj.printString()\n"
   ]
  }
 ],
 "metadata": {},
 "nbformat": 4,
 "nbformat_minor": 2
}
