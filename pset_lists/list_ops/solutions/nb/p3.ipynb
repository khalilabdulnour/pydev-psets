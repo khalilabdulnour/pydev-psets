{
 "cells": [
  {
   "cell_type": "code",
   "execution_count": null,
   "metadata": {},
   "outputs": [],
   "source": [
    "\"\"\"\n",
    "Math Operations\n",
    "\"\"\"\n",
    "\n",
    "# Save a list with the numbers `2`, `4`, `6`, and `8` into a variable called `numbers`. Use this variable for all the problems in this PSET.\n",
    "\n",
    "numbers = [2, 4, 6, 8]\n",
    "print(numbers, '\\n')\n",
    "\n",
    "# Print the max of `numbers`.\n",
    "print(max(numbers), '\\n')\n",
    "\n",
    "# Pop the last element in `numbers` off; re-insert it at index `2`.\n",
    "removed = numbers.pop()\n",
    "print(removed)\n",
    "numbers.insert(2, removed)\n",
    "print(numbers, '\\n')\n",
    "\n",
    "# Pop the second number in `numbers` off.\n",
    "print(numbers.pop(1), '\\n')\n",
    "\n",
    "\n",
    "# Append `3` to `numbers`.\n",
    "numbers.append(3)\n",
    "\n",
    "\n",
    "# Print out the average number.\n",
    "avg = sum(numbers) / len(numbers)\n",
    "print(avg, '\\n')\n",
    "\n",
    "\n",
    "# Print `numbers`.\n",
    "print(numbers)\n"
   ]
  }
 ],
 "metadata": {},
 "nbformat": 4,
 "nbformat_minor": 2
}
