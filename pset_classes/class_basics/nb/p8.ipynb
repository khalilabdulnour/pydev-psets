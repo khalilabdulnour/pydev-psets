{
 "cells": [
  {
   "cell_type": "code",
   "execution_count": null,
   "metadata": {},
   "outputs": [],
   "source": [
    "\"\"\"\n",
    "Dogs I - Breeds\n",
    "\"\"\" \n",
    "\n",
    "# A) Create a class called \"Dog\". It should include: \n",
    "### A class attribute \"domesticated\" w. value True\n",
    "### An instance method called \"bark()\" that prints \"Woof!\"\n",
    "\n",
    "# B) Create child class for 3 dog breeds - Collie, Siberian Husky, and Pekingese. Each should have:\n",
    "### 2 class attributes for \"breed\" and \"temperament\". The latter should be a list.\n",
    "### 3 instance attributes for \"name\", \"age\", and \"gender\".\n",
    "\n",
    "# C) Add an instance method to Collie called \"herd_the_kids()\" that prints \"Here are your children!\"\n",
    "\n",
    "# D) Add an instance method called \"bark()\" to Pekingese. This should override the parent method \"bark()\" such that when you call bark() on an instance of Pekingese, it prints \"Yap!\" instead.\n",
    "\n",
    "# E) Instantiate one of each breed. Access the attributes, methods, and parent methods of each one. BONUS: Aside from herd_the_kids(), you should be able to do this in a loop.\n",
    "\n",
    "\n"
   ]
  }
 ],
 "metadata": {},
 "nbformat": 4,
 "nbformat_minor": 2
}
