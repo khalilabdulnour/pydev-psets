{
 "cells": [
  {
   "cell_type": "code",
   "execution_count": null,
   "metadata": {},
   "outputs": [],
   "source": [
    "\"\"\"\n",
    "Fromagerie II - Product Categories\n",
    "\"\"\"\n",
    "\n",
    "# Create a class called \"ProductCat.\" This is where you store the full inventories of each category of product at your fromagerie (e.g. cheese, dips, sauces, yogurts, etc.). Instantiate the category \"cheeses\" using your \"cheese_inventory\" dict from p1.\n",
    "\n",
    "# Your class should include the following:\n",
    "### instance attributes - name & inventory\n",
    "### class attributes - food_group, production_standards (e.g. organic, non-GMO, and carbon neutral), & source (some farm)\n",
    "### instance methods - \"view_inventory()\", which prints out each item in your inventory for that category\n",
    "\n",
    "class ProductCat():\n",
    "    def __init__(self, name, inventory, *args):\n",
    "        self.name = name\n",
    "        self.inventory = inventory\n",
    "\n",
    "    food_group = 'dairy'\n",
    "\n",
    "    production_standards = ['organic', 'non-GMO', 'carbon neutral']\n",
    "\n",
    "    source = 'Cheesequake Farms' # <-- real place by the way\n",
    "\n",
    "    def view_inventory(self):\n",
    "        for k, v in self.inventory.items():\n",
    "            print(f'{k}: {v}')\n",
    "\n",
    "cheese_inventory = {'brie': ['DRY8900', 27, 11, 5], 'feta': ['DRY7730', 74, 13, 9], 'cheddar': ['DRY3673', 2, 15, 1], 'mozzarella': ['DRY7506', 17, 13, 3], 'ricotta': ['DRY9723', 60, 14, 3], 'provolone': ['DRY5895', 55, 14, 7], 'gruyere': ['DRY3934', 49, 11, 4], 'pecorino romano': ['DRY9980', 24, 10, 8], 'parmigiano reggiano': ['DRY1601', 79, 10, 0], 'gorgonzola': ['DRY6408', 72, 18, 8], 'pepper jack': ['DRY2506', 85, 10, 9], 'gouda': ['DRY4270', 83, 15, 9], 'asiago': ['DRY1592', 42, 18, 2], 'mascarpone': ['DRY6230', 62, 17, 9], 'cotija': ['DRY4128', 95, 16, 5], 'manchego': ['DRY8027', 47, 11, 3]}\n",
    "\n",
    "cheeses = ProductCat('cheese', cheese_inventory)\n",
    "\n",
    "cheeses.view_inventory()"
   ]
  }
 ],
 "metadata": {},
 "nbformat": 4,
 "nbformat_minor": 2
}
