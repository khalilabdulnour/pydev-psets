{
 "cells": [
  {
   "cell_type": "code",
   "execution_count": null,
   "metadata": {},
   "outputs": [],
   "source": [
    "\"\"\"\n",
    "Dogs I\n",
    "\"\"\"\n",
    "\n",
    "# Create a class called \"Dog\". It should include: \n",
    "## A class attribute \"domesticated\" w. value True\n",
    "## An instance method called \"bark()\" that prints \"Woof!\""
   ]
  }
 ],
 "metadata": {},
 "nbformat": 4,
 "nbformat_minor": 2
}
