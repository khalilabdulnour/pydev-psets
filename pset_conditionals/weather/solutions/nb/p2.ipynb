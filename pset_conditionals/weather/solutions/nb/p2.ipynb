{
 "cells": [
  {
   "cell_type": "code",
   "execution_count": null,
   "metadata": {},
   "outputs": [],
   "source": [
    "\"\"\"\n",
    "Weather II - Precipitation\n",
    "\"\"\"\n",
    "\n",
    "# Repeat the same process as p1, using this new set of variables.\n",
    "\n",
    "\n",
    "sunny = True\n",
    "raining = True\n",
    "snowing = False\n",
    "\n",
    "is_it_sunny = sunny\n",
    "print(is_it_sunny) # True\n",
    "\n",
    "is_there_precipitation = raining or snowing\n",
    "print(is_there_precipitation) # True\n",
    "\n",
    "is_it_sleeting = raining and snowing\n",
    "print(is_it_sleeting) # False\n",
    "\n",
    "is_there_rainbow = raining and sunny\n",
    "print(is_there_rainbow) # True"
   ]
  }
 ],
 "metadata": {},
 "nbformat": 4,
 "nbformat_minor": 2
}
