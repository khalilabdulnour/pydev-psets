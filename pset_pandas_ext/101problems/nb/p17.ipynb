{
 "cells": [
  {
   "cell_type": "code",
   "execution_count": null,
   "metadata": {},
   "outputs": [],
   "source": [
    "\"\"\"\n",
    "17. How to compute the mean squared error on a truth and predicted series?\n",
    "\"\"\"\n",
    "\"\"\"\n",
    "Difficulty Level: L2\n",
    "\"\"\"\n",
    "\"\"\"\n",
    "Compute the mean squared error of truth and pred series.\n",
    "\"\"\"\n",
    "\"\"\"\n",
    "Input\n",
    "\"\"\"\n",
    "\"\"\"\n",
    "truth = pd.Series(range(10))\n",
    "pred = pd.Series(range(10)) + np.random.random(10)\n",
    "\"\"\"\n"
   ]
  }
 ],
 "metadata": {},
 "nbformat": 4,
 "nbformat_minor": 2
}
