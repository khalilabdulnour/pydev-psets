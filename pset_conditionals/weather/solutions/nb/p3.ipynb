{
 "cells": [
  {
   "cell_type": "code",
   "execution_count": null,
   "metadata": {},
   "outputs": [],
   "source": [
    "\"\"\"\n",
    "Weather III - Describe Conditions\n",
    "\"\"\"\n",
    "\n",
    "# Repeat the same process as p1, using this new set of variables.\n",
    "\n",
    "\n",
    "is_it_warm = True\n",
    "is_it_humid = True\n",
    "is_it_cold = False\n",
    "is_it_icy = False\n",
    "is_it_foggy = False\n",
    "is_it_windy = False\n",
    "is_it_overcast = True\n",
    "\n",
    "\n",
    "is_it_summer_weather = is_it_warm and is_it_humid and not is_it_windy # True \n",
    "print(is_it_summer_weather) # True and True and not False == True\n",
    "\n",
    "\n",
    "is_rain_coming = is_it_overcast or is_it_foggy or is_it_humid\n",
    "print(is_rain_coming) # True or False or True == True\n",
    "\n",
    "\n",
    "is_it_muggy = is_it_humid or is_it_foggy and is_it_warm\n",
    "print(is_it_muggy) # True or False and True == True\n",
    "\n",
    "\n",
    "do_i_need_coat = is_it_cold and is_it_overcast or is_it_windy\n",
    "print(do_i_need_coat) # True or False and False == False\n"
   ]
  }
 ],
 "metadata": {},
 "nbformat": 4,
 "nbformat_minor": 2
}
