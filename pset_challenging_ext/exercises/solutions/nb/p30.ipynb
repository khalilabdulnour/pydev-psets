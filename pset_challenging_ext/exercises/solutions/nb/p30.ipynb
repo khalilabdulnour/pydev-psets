{
 "cells": [
  {
   "cell_type": "code",
   "execution_count": null,
   "metadata": {},
   "outputs": [],
   "source": [
    "\"\"\"\n",
    "Define a function that can accept two strings as input and concatenate them and then print it in console.\n",
    "\"\"\"\n",
    "\n",
    "\"\"\"Question:\n",
    "Define a function that can accept two strings as input and concatenate them and then print it in console.\n",
    "Hints:\n",
    "Use + to concatenate the strings\n",
    "\n",
    "\"\"\"\n",
    "def printValue(s1,s2):\n",
    "\tprint s1+s2\n",
    "printValue(\"3\",\"4\") #34\n"
   ]
  }
 ],
 "metadata": {},
 "nbformat": 4,
 "nbformat_minor": 2
}
