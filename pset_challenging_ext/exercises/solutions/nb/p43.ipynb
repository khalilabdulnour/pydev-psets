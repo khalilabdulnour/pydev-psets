{
 "cells": [
  {
   "cell_type": "code",
   "execution_count": null,
   "metadata": {},
   "outputs": [],
   "source": [
    "\"\"\"\n",
    "Write a program to generate and print another tuple whose values are even numbers in the given tuple (1,2,3,4,5,6,7,8,9,10). \n",
    "\"\"\"\n",
    "\n",
    "\"\"\"Question:\n",
    "Write a program to generate and print another tuple whose values are even numbers in the given tuple (1,2,3,4,5,6,7,8,9,10). \n",
    "Hints:\n",
    "Use \"for\" to iterate the tuple\n",
    "Use tuple() to generate a tuple from a list.\n",
    "\n",
    "\"\"\"\n",
    "tp=(1,2,3,4,5,6,7,8,9,10)\n",
    "li=list()\n",
    "for i in tp:\n",
    "\tif tp[i]%2==0:\n",
    "\t\tli.append(tp[i])\n",
    "tp2=tuple(li)\n",
    "print tp2\n"
   ]
  }
 ],
 "metadata": {},
 "nbformat": 4,
 "nbformat_minor": 2
}
