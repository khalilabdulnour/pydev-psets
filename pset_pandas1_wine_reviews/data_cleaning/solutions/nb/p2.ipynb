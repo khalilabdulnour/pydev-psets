{
 "cells": [
  {
   "cell_type": "code",
   "execution_count": null,
   "metadata": {},
   "outputs": [],
   "source": [
    "\"\"\"\n",
    "Data Cleaning II - Rename Columns\n",
    "\"\"\"\n",
    "\n",
    "import numpy as np\n",
    "import pandas as pd\n",
    "wine_reviews = pd.read_csv('raw_data/winemag-data-130k.csv')\n",
    "\n",
    "# Rename the 'designation' column to 'vineyard' and the 'points' column to 'rating'.\n",
    "\n",
    "wine_reviews.rename(columns={'designation': 'vineyard', 'points': 'rating'}, inplace=True)\n",
    "\n",
    "print(wine_reviews.columns)\n",
    "# Index(['country', 'description', 'vineyard', 'rating', 'price', 'province', 'region_1', 'region_2', 'taster_name', 'taster_twitter_handle', 'title', 'variety', 'winery'], dtype='object')"
   ]
  }
 ],
 "metadata": {},
 "nbformat": 4,
 "nbformat_minor": 2
}
