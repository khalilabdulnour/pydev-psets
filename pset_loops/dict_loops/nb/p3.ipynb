{
 "cells": [
  {
   "cell_type": "code",
   "execution_count": null,
   "metadata": {},
   "outputs": [],
   "source": [
    "\"\"\"\n",
    "Price Inventory\n",
    "\"\"\"\n",
    "\n",
    "# Imagine you're the owner of an Italian restaurant. You're evaluating your pricing to make sure it's up to date with the latest costs of making each menu item (see the menu prices and costs dicts below). Evaluate whether each item's price returns a profit margin of at least $1.00. If it doesn't, update the menu_prices dict with a new price that gives the item a $1.00 profit margin. Then print out the items which you've repriced in a new dict called price_increases.\n",
    "\n",
    "menu_prices = {\n",
    "\t'fettuccine bolognese': 14.99,\n",
    "\t'gnocchi gorgonzola': 10.99,\n",
    "\t'chicken parmigiano': 13.99,\n",
    "\t'butternut squash risotto': 9.99,\n",
    "\t'spaghetti carbonara': 12.99,\n",
    "\t'pizza margherita': 12.99,\n",
    "\t'chicken marsala': 13.99\n",
    "}\n",
    "\n",
    "menu_costs = {\n",
    "\t'fettuccine bolognese': 12.50,\n",
    "\t'gnocchi gorgonzola': 11.25,\n",
    "\t'chicken parmigiano': 11.75,\n",
    "\t'butternut squash risotto': 6.33,\n",
    "\t'spaghetti carbonara': 12.90,\n",
    "\t'pizza margherita': 14.00,\n",
    "\t'chicken marsala': 11.75\n",
    "}\n",
    "\n",
    "# price_increases = \n",
    "\n"
   ]
  }
 ],
 "metadata": {},
 "nbformat": 4,
 "nbformat_minor": 2
}
