{
 "cells": [
  {
   "cell_type": "code",
   "execution_count": null,
   "metadata": {},
   "outputs": [],
   "source": [
    "\"\"\"\n",
    "\n",
    "\"\"\"\n",
    "\n",
    "\"\"\"\n",
    "Please raise a RuntimeError exception.\n",
    "Hints:\n",
    "Use raise() to raise an exception.\n",
    "\n",
    "\"\"\"\n",
    "raise RuntimeError('something wrong')\n"
   ]
  }
 ],
 "metadata": {},
 "nbformat": 4,
 "nbformat_minor": 2
}
