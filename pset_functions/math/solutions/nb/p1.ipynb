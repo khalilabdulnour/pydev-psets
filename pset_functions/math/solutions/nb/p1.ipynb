{
 "cells": [
  {
   "cell_type": "code",
   "execution_count": null,
   "metadata": {},
   "outputs": [],
   "source": [
    "\"\"\"\n",
    "Simple Interest Calculator\n",
    "\"\"\"\n",
    "\n",
    "# Write a function called \"simple_interest\" that will allow a user to find out how much they will have in savings based on their current funds and an interest rate. (Instead of collecting user input, you can directly pass values of your choosing for the arguments.)\n",
    "\n",
    "# The formula for simple interest is...\n",
    "# A = P(1 + rt), where...\n",
    "# P = principal amount of money\n",
    "# r = interest rate\n",
    "# t = number of time periods the principal will earn interest\n",
    "\n",
    "def simple_interest(p,r,t):\n",
    "  p, r, t = float(p), float(r), float(t)\n",
    "\n",
    "  A = (p + r + t) / 100\n",
    "  A = round(A,2)\n",
    "\n",
    "  total = p + A\n",
    "  total = round(total,2)\n",
    "\n",
    "  return A, total\n",
    "\n",
    "p = 1500\n",
    "r = 2.4\n",
    "t = 60\n",
    "\n",
    "interest_accrued, total = simple_interest(p,r,t)\n",
    "\n",
    "print(f'\\nPrincipal: ${p} \\nInterest Earned: ${interest_accrued} \\nTotal Funds: ${total}')"
   ]
  }
 ],
 "metadata": {},
 "nbformat": 4,
 "nbformat_minor": 2
}
