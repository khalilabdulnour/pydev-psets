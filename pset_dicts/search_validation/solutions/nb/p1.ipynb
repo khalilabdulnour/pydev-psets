{
 "cells": [
  {
   "cell_type": "code",
   "execution_count": null,
   "metadata": {},
   "outputs": [],
   "source": [
    "\"\"\"\n",
    "Basic Login Search - SOLUTION\n",
    "\"\"\"\n",
    "\n",
    "users = {\n",
    "\t'person@email.com': 'PassWord',\n",
    "\t'someone@email.com': 'p@$$w0rd',\n",
    "\t'me@email.com': 'myPassword',\n",
    "\t'anyone@email.com': 'p@ssw0rd',\n",
    "\t'guy@email.com': 'pa$$word'\n",
    "\t# etc\n",
    "}\n",
    "\n",
    "# A user enters the below login info (email and password) for your app. Search your database of user logins to see if this account exists and if the password matches what you have on file. If the login credentials are correct, print \"Successful login!\". Otherwise, print \"The login info you entered does not match any of our records.\"\n",
    "\n",
    "\n",
    "current_user = { 'me@email.com': 'myPassword' }\n",
    "name = list(current_user.keys())\n",
    "name = name[0]\n",
    "pw = list(current_user.values())\n",
    "pw = pw[0]\n",
    "\n",
    "if name in users.keys() and users[name] is pw:\n",
    "\tprint('Successful login!')\n",
    "else:\n",
    "\tprint('The login info you entered does not match any of our records.')"
   ]
  }
 ],
 "metadata": {},
 "nbformat": 4,
 "nbformat_minor": 2
}
