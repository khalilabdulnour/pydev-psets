{
 "cells": [
  {
   "cell_type": "code",
   "execution_count": null,
   "metadata": {},
   "outputs": [],
   "source": [
    "\"\"\"\n",
    "ndarray properties\n",
    "\"\"\"\n",
    "\n",
    "import numpy as np\n",
    "\n",
    "# Creating array object\n",
    "arr = np.array([[1, 2, 3],\n",
    "                [4, 2, 5]])\n",
    "\n",
    "# Given the above:\n",
    "\n",
    "# Printing type of arr object\n",
    "print(\"Array is of type: \", None)  # how would you print type?\n",
    "\n",
    "# Printing array dimensions (axes)\n",
    "print(\"No. of dimensions: \", None)  # how would you print dimensions?\n",
    "\n",
    "# Printing shape of array\n",
    "print(\"Shape of array: \", None)  # how would you print \"shape\"\n",
    "\n",
    "# Printing size (total number of elements) of array\n",
    "print(\"Size of array: \", None)  # how would you print size?\n",
    "\n",
    "# Printing type of elements in array\n",
    "# how would you print element type?\n",
    "print(\"Array stores elements of type: \", None)\n"
   ]
  }
 ],
 "metadata": {},
 "nbformat": 4,
 "nbformat_minor": 2
}
