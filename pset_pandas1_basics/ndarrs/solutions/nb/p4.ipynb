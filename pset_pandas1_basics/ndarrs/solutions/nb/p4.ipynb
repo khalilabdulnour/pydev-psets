{
 "cells": [
  {
   "cell_type": "code",
   "execution_count": null,
   "metadata": {},
   "outputs": [],
   "source": [
    "\"\"\"\n",
    "basic operations\n",
    "\"\"\"\n",
    "\n",
    "import numpy as np\n",
    "\n",
    "arr = np.array([1, 2, 5, 3])\n",
    "\n",
    "# add 1 to every element\n",
    "a = arr + 1\n",
    "print(\"Adding 1 to every element:\", a)\n",
    "\n",
    "# subtract 3 from each element\n",
    "b = arr - 3\n",
    "print(\"Subtracting 3 from each element:\", b)\n",
    "\n",
    "# multiply each element by 10\n",
    "c = arr * 10\n",
    "print(\"Multiplying each element by 10:\", c)\n",
    "\n",
    "# square each element\n",
    "d = arr ** 2\n",
    "print(\"Squaring each element:\", d)\n",
    "\n",
    "# Doubled each element of *original* array\n",
    "print(\"Doubled each element of original array:\", arr *= 2)\n"
   ]
  }
 ],
 "metadata": {},
 "nbformat": 4,
 "nbformat_minor": 2
}
