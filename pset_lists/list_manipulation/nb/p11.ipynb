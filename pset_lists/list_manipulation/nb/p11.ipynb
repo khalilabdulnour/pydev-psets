{
 "cells": [
  {
   "cell_type": "code",
   "execution_count": null,
   "metadata": {},
   "outputs": [],
   "source": [
    "\"\"\"\n",
    "Merge Lists with Duplicates\n",
    "\"\"\"\n",
    "\n",
    "# Use the two lists below to solve this problem. Print out the result from each section as you go along.\n",
    "\n",
    "list1, list2 = [2, 8, 6], [10, 4, 12]\n",
    "\n",
    "\n",
    "# Double the items in list1 and assign them to list3.\n",
    "\n",
    "list3 = None\n",
    "\n",
    "\n",
    "# Combine the two given lists and assign them to list4.\n",
    "\n",
    "list4 = None\n",
    "\n",
    "\n",
    "# Replace the first 3 items in list 3 with the numbers 4, 3, 12.\n",
    "\n",
    "\n",
    "# Create a variable list5. Merge list3 and list4 to create a list containing no duplicates.\n",
    "\n",
    "list5 = None\n",
    "\n",
    "\n",
    "# Take a look at your printed statements to see the evolution of your lists with each step of this problem.\n"
   ]
  }
 ],
 "metadata": {},
 "nbformat": 4,
 "nbformat_minor": 2
}
