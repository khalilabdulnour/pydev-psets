{
 "cells": [
  {
   "cell_type": "code",
   "execution_count": null,
   "metadata": {},
   "outputs": [],
   "source": [
    "\"\"\"\n",
    "Build a Triangle - SOLUTION\n",
    "\"\"\"\n",
    "\n",
    "# Use a while loop to print a 5-level triangle of stars that looks like this:\n",
    "\n",
    "i = 1\n",
    "while i <= 5:\n",
    "\tprint('*'*i)\n",
    "\ti += 1\n",
    "\n",
    "\"\"\"\n",
    "*\n",
    "**\n",
    "***\n",
    "****\n",
    "*****\n",
    "\"\"\"\n",
    "\n",
    "\n",
    "# PREVIEW!\n",
    "\n",
    "# Here's what it would look like if we defined a function called triangle and told it to make that 5-level triangle. \n",
    "\n",
    "# def triangle(levels):\n",
    "# \ti = 1\n",
    "# \twhile i <= levels:\n",
    "# \t\tprint('*'*i)\n",
    "# \t\ti += 1\n",
    "\n",
    "# triangle(5)"
   ]
  }
 ],
 "metadata": {},
 "nbformat": 4,
 "nbformat_minor": 2
}
