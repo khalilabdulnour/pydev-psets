{
 "cells": [
  {
   "cell_type": "code",
   "execution_count": null,
   "metadata": {},
   "outputs": [],
   "source": [
    "f\"\"\"\n",
    "Temperature Conversions - SOLUTIONS\n",
    "\"\"\"\n",
    "\n",
    "# You're studying climate change, and over the last 3 years, you've recorded the temperature at noon every day in degrees Fahrenheit (F). The var sampleF holds a portion of those recordings. \n",
    "\n",
    "sampleF = [91.4, 82.4, 71.6, 107.6, 115.6]\n",
    "\n",
    "# Convert each item in this list into degrees Celsius and add the results to a dict called sample_temps so that the conversion of each day's temperature is easily accessible (no need to round). For reference, the conversion equation between F and C is:\n",
    "# Celsius = (Fahrenheit - 32) * 5.0/9.0\n",
    "\n",
    "sample_temps = {}\n",
    "\n",
    "for f in sampleF:\n",
    "  c = (f - 32)*(5/9)\n",
    "  sample_temps.update({f: c})\n",
    "\n",
    "print(sample_temps)\n",
    "\"\"\"\n",
    "{91.4: 33.00000000000001, \n",
    "82.4: 28.000000000000004,\n",
    "71.6: 21.999999999999996,\n",
    "107.6: 42.0,\n",
    "115.6: 46.44444444444444}\n",
    "\"\"\""
   ]
  }
 ],
 "metadata": {},
 "nbformat": 4,
 "nbformat_minor": 2
}
