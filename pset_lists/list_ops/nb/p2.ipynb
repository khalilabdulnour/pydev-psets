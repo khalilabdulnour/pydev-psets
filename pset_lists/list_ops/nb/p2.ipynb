{
 "cells": [
  {
   "cell_type": "code",
   "execution_count": null,
   "metadata": {},
   "outputs": [],
   "source": [
    "\"\"\"\n",
    "Basic List Operations II\n",
    "\"\"\"\n",
    "\n",
    "# Declare a list with 5 names, and print out the length of that list.\n",
    "names = None\n",
    "\n",
    "# Print the 3rd name on the list\n",
    "\n",
    "\n",
    "\n",
    "# Delete the first name on the list\n",
    "\n",
    "\n",
    "\n",
    "# Re-add the name you deleted to the end of the list\n",
    "\n",
    "\n",
    "\n",
    "# Replace the 2nd name on the list with a new name.\n",
    "\n",
    "\n",
    "\n",
    "# Add 3 new names to the end of the list.\n",
    "\n",
    "\n"
   ]
  }
 ],
 "metadata": {},
 "nbformat": 4,
 "nbformat_minor": 2
}
