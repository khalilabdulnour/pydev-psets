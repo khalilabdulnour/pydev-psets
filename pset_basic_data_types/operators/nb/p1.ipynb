{
 "cells": [
  {
   "cell_type": "code",
   "execution_count": null,
   "metadata": {},
   "outputs": [],
   "source": [
    "\"\"\"\n",
    "Game Show Score\n",
    "\"\"\"\n",
    "\n",
    "# Imagine the var below represents the latest score of a competitor on a game show. As this person plays, you need to update their score to reflect gains and losses in points. Each math operation below dictates the change in the competitor's score to be made after each of his or her actions.\n",
    "\n",
    "# Complete the below math operations and print the results to show the changes in the competitor's score throughout the game.\n",
    "\n",
    "latest_score = 100\n",
    "print(latest_score)\n",
    "\n",
    "# Add 50\n",
    "\n",
    "\n",
    "\n",
    "# Subtract 90\n",
    "\n",
    "\n",
    "\n",
    "# Multiply 10\n",
    "\n",
    "\n",
    "\n",
    "# Divide 150\n",
    "\n",
    "\n",
    "\n",
    "# Modulus 3\n",
    "\n",
    "\n"
   ]
  }
 ],
 "metadata": {},
 "nbformat": 4,
 "nbformat_minor": 2
}
