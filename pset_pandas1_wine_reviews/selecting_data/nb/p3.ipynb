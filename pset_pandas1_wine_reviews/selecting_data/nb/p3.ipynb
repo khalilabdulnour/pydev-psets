{
 "cells": [
  {
   "cell_type": "code",
   "execution_count": null,
   "metadata": {},
   "outputs": [],
   "source": [
    "\"\"\"\n",
    "Selecting Data III - Access Single Values\n",
    "\"\"\"\n",
    "\n",
    "import numpy as np\n",
    "import pandas as pd\n",
    "wine_reviews = pd.read_csv('../winemag-data-130k.csv')\n",
    "\n",
    "# Print the value in the 5th column of the 7th row.\n",
    "\n",
    "\n",
    "# Create a Series called \"countries\" from the 'country' column and print item at index 18.\n",
    "\n",
    "\n",
    "# Print the 10th item in countries.\n"
   ]
  }
 ],
 "metadata": {},
 "nbformat": 4,
 "nbformat_minor": 2
}
