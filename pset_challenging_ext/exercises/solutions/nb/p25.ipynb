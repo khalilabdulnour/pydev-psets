{
 "cells": [
  {
   "cell_type": "code",
   "execution_count": null,
   "metadata": {},
   "outputs": [],
   "source": [
    "\"\"\"\n",
    "    Define a class, which have a class parameter and have a same instance parameter.\n",
    "\"\"\"\n",
    "\n",
    "\"\"\"Question 25\n",
    "Level 1\n",
    "Question:\n",
    "    Define a class, which have a class parameter and have a same instance parameter.\n",
    "Hints:\n",
    "    Define a instance parameter, need add it in __init__ method\n",
    "    You can init a object with construct parameter or set the value later\n",
    "\n",
    "\"\"\"\n",
    "class Person:\n",
    "    # Define the class parameter \"name\"\n",
    "    name = \"Person\"\n",
    "    \n",
    "    def __init__(self, name = None):\n",
    "        # self.name is the instance parameter\n",
    "        self.name = name\n",
    "jeffrey = Person(\"Jeffrey\")\n",
    "print \"%s name is %s\" % (Person.name, jeffrey.name)\n",
    "nico = Person()\n",
    "nico.name = \"Nico\"\n",
    "print \"%s name is %s\" % (Person.name, nico.name)\n"
   ]
  }
 ],
 "metadata": {},
 "nbformat": 4,
 "nbformat_minor": 2
}
