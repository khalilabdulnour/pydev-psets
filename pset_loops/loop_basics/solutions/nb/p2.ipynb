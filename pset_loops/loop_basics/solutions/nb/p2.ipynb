{
 "cells": [
  {
   "cell_type": "code",
   "execution_count": null,
   "metadata": {},
   "outputs": [],
   "source": [
    "\"\"\"\n",
    "Lists with Duplicates - SOLUTION\n",
    "\"\"\"\n",
    "\n",
    "# First remove dups from a\n",
    "\n",
    "# then merge b without adding dups\n",
    "\n",
    "a = [2, 4, 10, 20, 5, 2, 20, 4]\n",
    "b = [13, 2, 25, 20, 4, 8]\n",
    "\n",
    "x = []\n",
    "\n",
    "print(a)\n",
    "\n",
    "for i in a:\n",
    "  if i not in x:\n",
    "    x.append(i)\n",
    "\n",
    "a = x\n",
    "\n",
    "print(a)\n",
    "\n",
    "for i in b:\n",
    "  if i not in a:\n",
    "    a.append(i)\n",
    "\n",
    "print(a)"
   ]
  }
 ],
 "metadata": {},
 "nbformat": 4,
 "nbformat_minor": 2
}
