{
 "cells": [
  {
   "cell_type": "code",
   "execution_count": null,
   "metadata": {},
   "outputs": [],
   "source": [
    "\"\"\"\n",
    "Predators & Prey\n",
    "\"\"\"\n",
    "\n",
    "# A) Create a dict called \"pred_prey\", containing:\n",
    "### 3 carnivorous marine animals\n",
    "### For each carnivore, 3 examples of its prey\n",
    "\n",
    "pred_prey = None\n",
    "\n",
    "\n",
    "\n",
    "# B) Print out the 2nd predator and its prey in this format:\n",
    "#### predator2: prey1, prey2, & prey3\n",
    "\n",
    "\n",
    "\n",
    "\n",
    "# C) Print a unique collection of all the prey in a variable called \"prey\".\n",
    "\n",
    "prey = None"
   ]
  }
 ],
 "metadata": {},
 "nbformat": 4,
 "nbformat_minor": 2
}
