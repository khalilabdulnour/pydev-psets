{
 "cells": [
  {
   "cell_type": "code",
   "execution_count": null,
   "metadata": {},
   "outputs": [],
   "source": [
    "\"\"\"\n",
    "Weather I - Do you need boots?\n",
    "\"\"\"\n",
    "\n",
    "# Use the values of the vars defined below to ouput the correct contextual answer to the questions below. (Note: The variables themselves ARE the questions.)\n",
    "\n",
    "# Example:\n",
    "## am_i_hungry = False\n",
    "## am_i_tired = True\n",
    "## do_i_need_to_stay_awake = False\n",
    "\n",
    "## should_i_drink_coffee_now = am_i_tired and do_i_need_to_stay_awake\n",
    "\n",
    "## ^^ This ^^ evaluates to False. If you're tired and don't need to stay awake, you don't need to drink coffee!\n",
    "\n",
    "\n",
    "is_it_raining = True\n",
    "is_it_snowing = False\n",
    "\n",
    "\n",
    "do_i_need_snow_boots = is_it_snowing # False\n",
    "print(do_i_need_snow_boots)\n",
    "\n",
    "can_i_skip_snow_boots = not is_it_snowing # True\n",
    "print(can_i_skip_snow_boots)\n",
    "\n",
    "do_i_need_rain_boots = is_it_raining # True\n",
    "print(do_i_need_rain_boots)\n",
    "\n",
    "can_i_skip_rain_boots = not is_it_raining # False\n",
    "print(can_i_skip_rain_boots)"
   ]
  }
 ],
 "metadata": {},
 "nbformat": 4,
 "nbformat_minor": 2
}
