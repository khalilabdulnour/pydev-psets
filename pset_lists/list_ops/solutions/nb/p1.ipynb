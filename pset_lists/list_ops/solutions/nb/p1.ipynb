{
 "cells": [
  {
   "cell_type": "code",
   "execution_count": null,
   "metadata": {},
   "outputs": [],
   "source": [
    "\"\"\"\n",
    "Basic List Operations I\n",
    "\"\"\"\n",
    "\n",
    "# Create a list including these five animals - elephant, tiger, otter, orangutan, and penguin.\n",
    "\n",
    "animals = ['elephant', 'tiger', 'rattlesnake', 'orangutan', 'penguin']\n",
    "\n",
    "\n",
    "# Print the 4th animal on the list.\n",
    "print(animals[3])\n",
    "\n",
    "\n",
    "# Add 'tortoise' to the beginning of the list.\n",
    "print(animals.insert(0,'tortoise'))\n",
    "\n",
    "\n",
    "# Print the length of the list.\n",
    "print(len(animals))\n",
    "\n",
    "\n",
    "# Remove 'orangutan' from the list.\n",
    "print(animals.pop(4))\n",
    "\n",
    "\n",
    "# Sort the list alphabetically and print it out.\n",
    "print(sorted(animals))\n",
    "\n"
   ]
  }
 ],
 "metadata": {},
 "nbformat": 4,
 "nbformat_minor": 2
}
