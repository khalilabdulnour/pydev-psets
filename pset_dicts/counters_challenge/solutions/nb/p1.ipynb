{
 "cells": [
  {
   "cell_type": "code",
   "execution_count": null,
   "metadata": {},
   "outputs": [],
   "source": [
    "\"\"\"\n",
    "Word Frequency - SOLUTION\n",
    "\"\"\"\n",
    "\n",
    "# Print out the number of words in this movie quote. Find and print out the most common word in the quote and how many times it was used.\n",
    "### Hint: You do not need a loop for this. Look up the Counter docs in python3.\n",
    "\n",
    "from collections import Counter\n",
    "\n",
    "princess_bride = [\n",
    "'Hello', 'my', 'name', 'is', 'Inigo', 'Montoya',\n",
    "'You', 'killed', 'my', 'father',\n",
    "'Prepare', 'to', 'die'\n",
    "]\n",
    "\n",
    "fave_word = Counter(princess_bride)\n",
    "\n",
    "print(fave_word.most_common(1))"
   ]
  }
 ],
 "metadata": {},
 "nbformat": 4,
 "nbformat_minor": 2
}
