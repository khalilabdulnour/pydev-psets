{
 "cells": [
  {
   "cell_type": "code",
   "execution_count": null,
   "metadata": {},
   "outputs": [],
   "source": [
    "\"\"\"\n",
    "Basic List Operations\n",
    "\"\"\"\n",
    "\n",
    "\n",
    "animals = ['elephant', 'tiger', 'rattlesnake', 'orangutan', 'penguin']\n",
    "print(animals[3])\n",
    "\n",
    "\n",
    "\n",
    "animals.insert(0,'tortoise')\n",
    "print(len(animals))\n",
    "\n",
    "\n",
    "\n",
    "animals.pop(4)\n",
    "\n",
    "print(sorted(animals))\n",
    "\n"
   ]
  }
 ],
 "metadata": {},
 "nbformat": 4,
 "nbformat_minor": 2
}
