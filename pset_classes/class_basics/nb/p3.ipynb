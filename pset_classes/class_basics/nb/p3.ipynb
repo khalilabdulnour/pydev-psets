{
 "cells": [
  {
   "cell_type": "code",
   "execution_count": null,
   "metadata": {},
   "outputs": [],
   "source": [
    "\"\"\"\n",
    "Phone Contacts\n",
    "\"\"\" \n",
    "\n",
    "# Create a class called \"Contact\" that will store the below items for each contact in your phone. The starred items should be required. Instantiate two Contact instance objects and access each of their attributes.\n",
    "    ### name*\n",
    "    ### mobile_num\n",
    "    ### work_num\n",
    "    ### email\n"
   ]
  }
 ],
 "metadata": {},
 "nbformat": 4,
 "nbformat_minor": 2
}
