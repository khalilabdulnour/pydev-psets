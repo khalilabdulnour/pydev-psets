{
 "cells": [
  {
   "cell_type": "code",
   "execution_count": null,
   "metadata": {},
   "outputs": [],
   "source": [
    "\"\"\"\n",
    "Vehicles I \n",
    "\"\"\"\n",
    "\n",
    "# Create a \"Vehicle\" class with a class attribute for category ('transportion') and a method called \"start_engine()\" that prints \"Vroom!\". Add \"name\" as an instance method and instantiate a Vehicle called \"submarine\". Access all its attributes and methods for practice.\n",
    "\n",
    "# Note: See Vehicles II in p6 for an explanation of why we chose \"submarine\" as a vehicle instance!\n",
    "\n"
   ]
  }
 ],
 "metadata": {},
 "nbformat": 4,
 "nbformat_minor": 2
}
