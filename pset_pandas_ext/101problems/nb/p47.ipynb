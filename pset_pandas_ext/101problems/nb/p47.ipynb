{
 "cells": [
  {
   "cell_type": "code",
   "execution_count": null,
   "metadata": {},
   "outputs": [],
   "source": [
    "\"\"\"\n",
    "47. How to format or suppress scientific notations in a pandas dataframe?\n",
    "\"\"\"\n",
    "\"\"\"\n",
    "Difficulty Level: L2\n",
    "\"\"\"\n",
    "\"\"\"\n",
    "Suppress scientific notations like ‘e-03’ in df and print upto 4 numbers after decimal.\n",
    "\"\"\"\n",
    "\"\"\"\n",
    "Input\n",
    "\"\"\"\n",
    "\"\"\"\n",
    "df = pd.DataFrame(np.random.random(4)**10, columns=['random'])\n",
    "df\n",
    "#>          random\n",
    "#> 0  3.474280e-03\n",
    "#> 1  3.951517e-05\n",
    "#> 2  7.469702e-02\n",
    "#> 3  5.541282e-28\n",
    "\"\"\"\n",
    "\"\"\"\n",
    "Desired Output\n",
    "\"\"\"\n",
    "\"\"\"\n",
    "#>    random\n",
    "#> 0  0.0035\n",
    "#> 1  0.0000\n",
    "#> 2  0.0747\n",
    "#> 3  0.0000\n",
    "\"\"\"\n"
   ]
  }
 ],
 "metadata": {},
 "nbformat": 4,
 "nbformat_minor": 2
}
