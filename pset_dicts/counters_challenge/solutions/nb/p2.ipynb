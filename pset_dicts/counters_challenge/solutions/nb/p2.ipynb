{
 "cells": [
  {
   "cell_type": "code",
   "execution_count": null,
   "metadata": {},
   "outputs": [],
   "source": [
    "\"\"\"\n",
    "Summing Dict Values - SOLUTION\n",
    "\"\"\"\n",
    "\n",
    "shopping_list = Counter(poll1) + Counter(poll2)\n",
    "# print(final_tally) # Counter({'bananas': 18, 'apples': 14, 'clementines': 8})\n",
    "\n",
    "poll1 = dict(shopping_list)\n",
    "print(poll1) # {'apples': 14, 'bananas': 18, 'clementines': 8}"
   ]
  }
 ],
 "metadata": {},
 "nbformat": 4,
 "nbformat_minor": 2
}
