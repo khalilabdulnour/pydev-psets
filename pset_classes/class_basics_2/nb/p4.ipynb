{
 "cells": [
  {
   "cell_type": "code",
   "execution_count": null,
   "metadata": {},
   "outputs": [],
   "source": [
    "\"\"\"\n",
    "Person class\n",
    "\"\"\"\n",
    "\n",
    "# Create a Person class with the following properties\n",
    "# 1. name\n",
    "# 2. age\n",
    "# 3. social security number\n"
   ]
  }
 ],
 "metadata": {},
 "nbformat": 4,
 "nbformat_minor": 2
}
