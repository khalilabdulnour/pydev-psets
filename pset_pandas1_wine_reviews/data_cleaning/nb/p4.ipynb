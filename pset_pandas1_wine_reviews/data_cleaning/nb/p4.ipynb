{
 "cells": [
  {
   "cell_type": "code",
   "execution_count": null,
   "metadata": {},
   "outputs": [],
   "source": [
    "\"\"\"\n",
    "Data Cleaning IV - Bulk Replace in a Single DataFrame Column (Like a Series)\n",
    "\"\"\"\n",
    "\n",
    "import numpy as np\n",
    "import pandas as pd\n",
    "wine_reviews = pd.read_csv('raw_data/winemag-data-130k.csv')\n",
    "\n",
    "# (Obviously, these changes are geographically incorrect and just for the sake of example.)\n",
    "\n",
    "# Using this DataFrame, replace all instances of 'US' in the 'country' column with 'UNITED ARAB EMIRATES'.\n",
    "\n",
    "wine_geography = wine_reviews.copy()[['variety', 'country', 'province']]\n",
    "\n",
    "\n",
    "\n",
    "# Again using the original DataFrame, replace all instances of 'US' in the 'country' column with 'COSTA RICA' and all instances of 'Italy' in the 'country' column with 'UNITED ARAB EMIRATES'.\n",
    "\n",
    "\n",
    "\n"
   ]
  }
 ],
 "metadata": {},
 "nbformat": 4,
 "nbformat_minor": 2
}
