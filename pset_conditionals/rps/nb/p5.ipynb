{
 "cells": [
  {
   "cell_type": "code",
   "execution_count": null,
   "metadata": {},
   "outputs": [],
   "source": [
    "\"\"\"\n",
    "Play RPS against Computer\n",
    "\"\"\"\n",
    "\n",
    "p1 = None  # from user input - we still want validation from above!\n",
    "p2 = None  # randomly generated against computer\n",
    "\n",
    "# Given a p1 and p2\n",
    "# print 1 if p1 has won\n",
    "# print 2 if p2 has won\n",
    "# print 0 if tie\n",
    "# print -1 if invalid input\n",
    "# expects both p1 and p2 inputs to be either\n",
    "# \"r\", \"p\", or \"s\"\n"
   ]
  }
 ],
 "metadata": {},
 "nbformat": 4,
 "nbformat_minor": 2
}
