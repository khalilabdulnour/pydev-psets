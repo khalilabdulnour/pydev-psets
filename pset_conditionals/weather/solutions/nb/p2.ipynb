{
 "cells": [
  {
   "cell_type": "code",
   "execution_count": null,
   "metadata": {},
   "outputs": [],
   "source": [
    "\"\"\"\n",
    "Weather II - Precipitation\n",
    "\"\"\"\n",
    "\n",
    "# Repeat the same process as p1, using this new set of variables.\n",
    "\n",
    "\n",
    "is_it_raining = True\n",
    "is_it_snowing = False\n",
    "\n",
    "\n",
    "do_i_need_snow_boots = is_it_snowing # False\n",
    "print(do_i_need_snow_boots)\n",
    "\n",
    "can_i_skip_snow_boots = not is_it_snowing # True\n",
    "print(can_i_skip_snow_boots)\n",
    "\n",
    "do_i_need_rain_boots = is_it_raining # True\n",
    "print(do_i_need_rain_boots)\n",
    "\n",
    "can_i_skip_rain_boots = not is_it_raining # False\n",
    "print(can_i_skip_rain_boots)"
   ]
  }
 ],
 "metadata": {},
 "nbformat": 4,
 "nbformat_minor": 2
}
