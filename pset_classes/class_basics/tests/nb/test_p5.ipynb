{
 "cells": [
  {
   "cell_type": "code",
   "execution_count": null,
   "metadata": {},
   "outputs": [],
   "source": [
    "\"\"\"\n",
    "Vehicles I\n",
    "\"\"\"\n",
    "\n",
    "import io\n",
    "import pytest\n",
    "from unittest import TestCase\n",
    "from unittest.mock import patch\n",
    "\n",
    "from p5 import Vehicle\n",
    "\n",
    "@pytest.mark.describe('it returns correct instance & class attribute values per arg input')\n",
    "class TestVehicle(TestCase):\n",
    "\n",
    "    def test_init(self):\n",
    "        v = Vehicle('Yellow Submarine', 'Sgt. Pepper')\n",
    "        assert v.name == 'Yellow Submarine'\n",
    "        assert v.owner == 'Sgt. Pepper'\n",
    "        assert v.category == 'transportation'\n",
    "\n",
    "    @patch(\"p5.print\")\n",
    "    def test_start_engine(self, mock_patch):\n",
    "        v = Vehicle('Yellow Submarine', 'Sgt. Pepper')\n",
    "        v.start_engine()\n",
    "        mock_patch.assert_called_with('Vrrrrrooomm!')\n",
    "\n"
   ]
  }
 ],
 "metadata": {},
 "nbformat": 4,
 "nbformat_minor": 2
}
