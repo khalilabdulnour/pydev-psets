{
 "cells": [
  {
   "cell_type": "code",
   "execution_count": null,
   "metadata": {},
   "outputs": [],
   "source": [
    "\"\"\"\n",
    "Define a function that can accept two strings as input and print the string with maximum length in console. If two strings have the same length, then the function should print al l strings line by line.\n",
    "\"\"\"\n",
    "\n",
    "\"\"\"Question:\n",
    "Define a function that can accept two strings as input and print the string with maximum length in console. If two strings have the same length, then the function should print al l strings line by line.\n",
    "Hints:\n",
    "Use len() function to get the length of a string\n",
    "\n",
    "\"\"\"\n",
    "def printValue(s1,s2):\n",
    "\tlen1 = len(s1)\n",
    "\tlen2 = len(s2)\n",
    "\tif len1>len2:\n",
    "\t\tprint s1\n",
    "\telif len2>len1:\n",
    "\t\tprint s2\n",
    "\telse:\n",
    "\t\tprint s1\n",
    "\t\tprint s2\n",
    "\t\t\n",
    "printValue(\"one\",\"three\")\n"
   ]
  }
 ],
 "metadata": {},
 "nbformat": 4,
 "nbformat_minor": 2
}
