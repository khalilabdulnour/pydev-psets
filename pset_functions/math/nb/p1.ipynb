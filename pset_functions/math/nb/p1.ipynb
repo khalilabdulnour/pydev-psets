{
 "cells": [
  {
   "cell_type": "code",
   "execution_count": null,
   "metadata": {},
   "outputs": [],
   "source": [
    "\"\"\"\n",
    "Simple Interest Calculator\n",
    "\"\"\"\n",
    "\n",
    "# Write a function called \"simple_interest\" that will allow a user to find out how much they will have in savings based on their current funds and an interest rate. (Instead of collecting user input, you can directly pass values of your choosing for the arguments.)\n",
    "\n",
    "# The formula for simple interest is...\n",
    "# A = P(1 + rt), where...\n",
    "# P = principal amount of money\n",
    "# r = interest rate\n",
    "# t = number of time periods the principal will earn interest\n",
    "\n"
   ]
  }
 ],
 "metadata": {},
 "nbformat": 4,
 "nbformat_minor": 2
}
