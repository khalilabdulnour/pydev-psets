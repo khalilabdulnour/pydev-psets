{
 "cells": [
  {
   "cell_type": "code",
   "execution_count": null,
   "metadata": {},
   "outputs": [],
   "source": [
    "\"\"\"\n",
    "8. How to get the minimum, 25th percentile, median, 75th, and max of a numeric series?\n",
    "\"\"\"\n",
    "\"\"\"\n",
    "Difficuty Level: L2\n",
    "\"\"\"\n",
    "\"\"\"\n",
    "Compute the minimum, 25th percentile, median, 75th, and maximum of ser.\n",
    "\"\"\"\n",
    "\"\"\"\n",
    "Input\n",
    "\"\"\"\n",
    "\"\"\"\n",
    "ser = pd.Series(np.random.normal(10, 5, 25))\n",
    "\"\"\"\n"
   ]
  }
 ],
 "metadata": {},
 "nbformat": 4,
 "nbformat_minor": 2
}
