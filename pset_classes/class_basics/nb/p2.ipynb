{
 "cells": [
  {
   "cell_type": "code",
   "execution_count": null,
   "metadata": {},
   "outputs": [],
   "source": [
    "\"\"\"\n",
    "Cat class\n",
    "\"\"\"\n",
    "\n",
    "# Implement a class called \"Cat\" with the following properties:\n",
    "# name\n",
    "# breed\n",
    "# age\n",
    "\n",
    "# also, implement a method called \"speak\" that should print out \"purr\"\n"
   ]
  }
 ],
 "metadata": {},
 "nbformat": 4,
 "nbformat_minor": 2
}
