{
 "cells": [
  {
   "cell_type": "code",
   "execution_count": null,
   "metadata": {},
   "outputs": [],
   "source": [
    "\"\"\"\n",
    "Merge Lists with Duplicates\n",
    "\"\"\"\n",
    "\n",
    "# Use the two lists below to solve this problem. Print out the result from each section as you go along.\n",
    "\n",
    "list1, list2 = [2, 8, 6], [10, 4, 12]\n",
    "\n",
    "\n",
    "# A) Add another instance of each item in list1 to list1 again and assign the results to list3.\n",
    "list3 = None\n",
    "\n",
    "\n",
    "# B) Combine the two given lists and assign them to list4.\n",
    "list4 = None\n",
    "\n",
    "\n",
    "# C) Replace the first 3 items in list 3 with the numbers 13, 16, 9.\n",
    "list3[:2] = None\n",
    "\n",
    "# D) Merge list3 and list4 to create a list containing no duplicates and store this in list5.\n",
    "list5 = None\n",
    "\n",
    "\n",
    "# Take a look at your printed statements to see the evolution of your lists with each step of this problem.\n"
   ]
  }
 ],
 "metadata": {},
 "nbformat": 4,
 "nbformat_minor": 2
}
