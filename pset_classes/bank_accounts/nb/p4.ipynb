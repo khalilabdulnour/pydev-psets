{
 "cells": [
  {
   "cell_type": "code",
   "execution_count": null,
   "metadata": {},
   "outputs": [],
   "source": [
    "\"\"\"\n",
    "Bank Accounts IV - Checking Accounts\n",
    "\"\"\"\n",
    "\n",
    "# Create a \"CheckingAccount\" class that inherits from the general Account class. It should have its own \"int_rate\" as a class attribute and a \"withdraw\" instance method. The latter should work the same as the \"deposit()\" method in the parent class. Create at least once instance of CheckingAccount and call both the deposit and withdraw() methods on it."
   ]
  }
 ],
 "metadata": {},
 "nbformat": 4,
 "nbformat_minor": 2
}
