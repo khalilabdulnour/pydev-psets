{
 "cells": [
  {
   "cell_type": "code",
   "execution_count": null,
   "metadata": {},
   "outputs": [],
   "source": [
    "\"\"\"\n",
    "Cat class\n",
    "\"\"\"\n",
    "\n",
    "# Implement a class called \"Cat\" with the following properties:\n",
    "# name\n",
    "# breed\n",
    "# age\n",
    "\n",
    "# also, implement a method called \"speak\" that should print out \"purr\"\n",
    "\n",
    "\n",
    "class Cat:\n",
    "    def __init__(self, name, breed, age):\n",
    "        self.name = name\n",
    "        self.breed = breed\n",
    "        self.age = age\n",
    "\n",
    "    def speak(self):\n",
    "        print('purr')\n",
    "\n",
    "\n",
    "c = Cat(\"test\", \"test\", 5)\n",
    "c.speak()\n"
   ]
  }
 ],
 "metadata": {},
 "nbformat": 4,
 "nbformat_minor": 2
}
