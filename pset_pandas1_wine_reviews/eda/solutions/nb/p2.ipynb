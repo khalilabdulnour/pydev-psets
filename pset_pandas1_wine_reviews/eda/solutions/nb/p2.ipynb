{
 "cells": [
  {
   "cell_type": "code",
   "execution_count": null,
   "metadata": {},
   "outputs": [],
   "source": [
    "\"\"\"\n",
    "Exploratory Data Analysis II - Unique Values\n",
    "\"\"\"\n",
    "\n",
    "import numpy as np\n",
    "import pandas as pd\n",
    "wine_reviews = pd.read_csv('raw_data/winemag-data-130k.csv')\n",
    "\n",
    "# Print a list of all the unique countries in the wine_reviews DataFrame in alphabetical order. Also print the number of unique countries that exist in the dataset. Hint: Don't just find the length of your first result.\n",
    "\n",
    "countries = wine_reviews['country']\n",
    "unique_countries = countries.unique()\n",
    "unique_countries.sort()\n",
    "\n",
    "print(f'There are {countries.nunique()} unique countries: \\n', unique_countries) \n",
    "\"\"\"\n",
    "There are 42 unique countries:\n",
    "['Argentina' 'Armenia' 'Australia' 'Austria' 'Bosnia and Herzegovina'\n",
    " 'Brazil' 'Bulgaria' 'Canada' 'Chile' 'China' 'Croatia' 'Cyprus'\n",
    " 'Czech Republic' 'England' 'France' 'Georgia' 'Germany' 'Greece'\n",
    " 'Hungary' 'India' 'Israel' 'Italy' 'Lebanon' 'Luxembourg' 'Macedonia'\n",
    " 'Mexico' 'Moldova' 'Morocco' 'New Zealand' 'Peru' 'Portugal' 'Romania'\n",
    " 'Serbia' 'Slovakia' 'Slovenia' 'South Africa' 'Spain' 'Switzerland'\n",
    " 'Turkey' 'US' 'Ukraine' 'Uruguay']\n",
    "\"\"\""
   ]
  }
 ],
 "metadata": {},
 "nbformat": 4,
 "nbformat_minor": 2
}
