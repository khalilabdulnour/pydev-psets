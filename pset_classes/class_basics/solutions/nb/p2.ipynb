{
 "cells": [
  {
   "cell_type": "code",
   "execution_count": null,
   "metadata": {},
   "outputs": [],
   "source": [
    "\"\"\"\n",
    "Phone Contacts\n",
    "\"\"\" \n",
    "\n",
    "# Create a class called \"Contact\" that will store the below items for each contact in your phone. Instantiate two Contact instance objects.\n",
    "    ### name (required)\n",
    "    ### mobile_num\n",
    "    ### work_num\n",
    "    ### email\n",
    "\n",
    "class Contact():\n",
    "    def __init__(self, first_name, last_name = None, mobile_num = None, work_num = None, email = None):\n",
    "        self.first_name = first_name\n",
    "        self.last_name = last_name\n",
    "        self.mobile_num = mobile_num\n",
    "        self.work_num = work_num\n",
    "        self.email = email\n",
    "\n",
    "\n",
    "alejandra = Contact('Alejandra', 'Ochoa', 19034882739, 17243756608, 'alejandra.ochoa@gmail.com')\n",
    "\n",
    "brad = Contact('Brad', 'Fenworth', 12284001753, email = 'brad.fenworth@gmail.com')\n",
    "\n"
   ]
  }
 ],
 "metadata": {},
 "nbformat": 4,
 "nbformat_minor": 2
}
