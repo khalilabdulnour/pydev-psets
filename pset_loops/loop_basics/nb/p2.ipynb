{
 "cells": [
  {
   "cell_type": "code",
   "execution_count": null,
   "metadata": {},
   "outputs": [],
   "source": [
    "\"\"\"\n",
    "Lists with Duplicates\n",
    "\"\"\"\n",
    "\n",
    "# First, print list a below as it is now.\n",
    "\n",
    "a = [2, 4, 10, 20, 5, 2, 20, 4]\n",
    "b = [13, 2, 25, 20, 4, 8]\n",
    "\n",
    "# Using a loop, remove the duplicate items from list a and print out the updated list.\n",
    "\n",
    "\n",
    "# Using a loop, merge list b into list a without adding any duplicates."
   ]
  }
 ],
 "metadata": {},
 "nbformat": 4,
 "nbformat_minor": 2
}
