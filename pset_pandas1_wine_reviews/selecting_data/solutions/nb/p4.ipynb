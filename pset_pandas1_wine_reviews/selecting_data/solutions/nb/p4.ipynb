{
 "cells": [
  {
   "cell_type": "code",
   "execution_count": null,
   "metadata": {},
   "outputs": [],
   "source": [
    "\"\"\"\n",
    "Selecting Data IV - Access Slices\n",
    "\"\"\"\n",
    "\n",
    "import numpy as np\n",
    "import pandas as pd\n",
    "wine_reviews = pd.read_csv('../../winemag-data-130k.csv')\n",
    "\n",
    "\n",
    "# Print the first 3 values in the 'province' column.\n",
    "print(wine_reviews['province'][:3])\n",
    "\n",
    "\n",
    "# Create a Series called \"provinces\" and print the first 3 values.\n",
    "provinces = wine_reviews['province']\n",
    "print(provinces.iloc[:3])\n",
    "\n",
    "\"\"\"\n",
    "A & B both output:\n",
    "\n",
    "0    Sicily & Sardinia\n",
    "1                Douro\n",
    "2               Oregon\n",
    "\"\"\""
   ]
  }
 ],
 "metadata": {},
 "nbformat": 4,
 "nbformat_minor": 2
}
