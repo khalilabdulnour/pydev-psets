{
 "cells": [
  {
   "cell_type": "code",
   "execution_count": null,
   "metadata": {},
   "outputs": [],
   "source": [
    "\"\"\"\n",
    "    Write a method which can calculate square value of number\n",
    "\"\"\"\n",
    "\n",
    "\"\"\"Question 23\n",
    "level 1\n",
    "Question:\n",
    "    Write a method which can calculate square value of number\n",
    "Hints:\n",
    "    Using the ** operator\n",
    "\n",
    "\"\"\""
   ]
  }
 ],
 "metadata": {},
 "nbformat": 4,
 "nbformat_minor": 2
}
