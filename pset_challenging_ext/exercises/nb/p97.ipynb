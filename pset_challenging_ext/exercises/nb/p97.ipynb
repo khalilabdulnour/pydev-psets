{
 "cells": [
  {
   "cell_type": "code",
   "execution_count": null,
   "metadata": {},
   "outputs": [],
   "source": [
    "\"\"\"\n",
    "\n",
    "\"\"\"\n",
    "\n",
    "\"\"\"\n",
    "Question:\n",
    "Please write a program which accepts a string from console and print it in reverse order.\n",
    "Example:\n",
    "If the following string is given as input to the program:\n",
    "rise to vote sir\n",
    "Then, the output of the program should be:\n",
    "ris etov ot esir\n",
    "Hints:\n",
    "Use list[::-1] to iterate a list in a reverse order.\n",
    "\n",
    "\"\"\""
   ]
  }
 ],
 "metadata": {},
 "nbformat": 4,
 "nbformat_minor": 2
}
