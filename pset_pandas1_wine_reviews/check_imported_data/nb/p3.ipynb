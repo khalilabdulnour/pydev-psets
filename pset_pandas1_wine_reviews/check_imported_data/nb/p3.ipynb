{
 "cells": [
  {
   "cell_type": "code",
   "execution_count": null,
   "metadata": {},
   "outputs": [],
   "source": [
    "\"\"\"\n",
    "Checking Imported Data III - DataFrame Labels\n",
    "\"\"\"\n",
    "\n",
    "import numpy as np\n",
    "import pandas as pd\n",
    "wine_reviews = pd.read_csv('raw_data/winemag-data-130k.csv')\n",
    "\n",
    "\n",
    "# Access the labels on the rows of data.\n",
    "\n",
    "\n",
    "\n",
    "\n",
    "# Access the labels on the columns of data.\n",
    "\n",
    "\n",
    "\n",
    "# Return the labels for the rows and columns in wine_reviews in one command.\n",
    "\n",
    "\n"
   ]
  }
 ],
 "metadata": {},
 "nbformat": 4,
 "nbformat_minor": 2
}
