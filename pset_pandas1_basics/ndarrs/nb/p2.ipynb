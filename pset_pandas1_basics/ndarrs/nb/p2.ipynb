{
 "cells": [
  {
   "cell_type": "code",
   "execution_count": null,
   "metadata": {},
   "outputs": [],
   "source": [
    "\"\"\"\n",
    "ndarrays operations \n",
    "\"\"\"\n",
    "\n",
    "import numpy as np\n",
    "\n",
    "# Create array from list with type float\n",
    "a = None\n",
    "\n",
    "# Create array from tuple\n",
    "b = None\n",
    "\n",
    "# Create a 3X4 array with all zeros\n",
    "c = None\n"
   ]
  }
 ],
 "metadata": {},
 "nbformat": 4,
 "nbformat_minor": 2
}
