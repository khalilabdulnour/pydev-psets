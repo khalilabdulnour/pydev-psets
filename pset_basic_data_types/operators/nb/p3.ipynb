{
 "cells": [
  {
   "cell_type": "code",
   "execution_count": null,
   "metadata": {},
   "outputs": [],
   "source": [
    "\"\"\"\n",
    "Addition I - Numbers & Strings\n",
    "\"\"\"\n",
    "\n",
    "# Add the below sets of variables together without causing any Type Errors. \n",
    "\n",
    "# A)\n",
    "a = 0\n",
    "b = 2\n",
    "\n",
    "\n",
    "\n",
    "# B)\n",
    "c = '0'\n",
    "d = '2'\n",
    "\n",
    "\n",
    "\n",
    "# C)\n",
    "e = '0'\n",
    "f = 2"
   ]
  }
 ],
 "metadata": {},
 "nbformat": 4,
 "nbformat_minor": 2
}
