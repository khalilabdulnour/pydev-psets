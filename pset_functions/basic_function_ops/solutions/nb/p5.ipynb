{
 "cells": [
  {
   "cell_type": "code",
   "execution_count": null,
   "metadata": {},
   "outputs": [],
   "source": [
    "\"\"\"\n",
    "Function Basics V - Indeterminate Arguments\n",
    "\"\"\"\n",
    "\n",
    "# Write a and call a function called \"high_low\" that takes 3 numbers and returns the highest and lowest ones.\n",
    "\n",
    "def high_low(*nums):\n",
    "  group = list(nums)\n",
    "  length = len(group)\n",
    "\n",
    "  for i in group:\n",
    "    if not isinstance(i,int):\n",
    "      return 'Error: ', 'Please enter only individual integers.'\n",
    "    else:\n",
    "      continue\n",
    "\n",
    "  sorted = group.sort()\n",
    "  \n",
    "  high = group[length-1]\n",
    "  low = group[0]\n",
    "\n",
    "  return high, low\n",
    "\n",
    "x = high_low(5, 13, 10, 7)\n",
    "high, low = x\n",
    "print(high,low)\n",
    "\n",
    "y = high_low(15, 4, 8, 21, 11)\n",
    "high, low = y\n",
    "print(high,low)\n",
    "\n",
    "z = high_low(15, [21, 3], 6, 11)\n",
    "high, low = z\n",
    "print(high,low)"
   ]
  }
 ],
 "metadata": {},
 "nbformat": 4,
 "nbformat_minor": 2
}
