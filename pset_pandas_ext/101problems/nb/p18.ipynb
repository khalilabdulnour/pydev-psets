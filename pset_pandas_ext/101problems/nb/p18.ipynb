{
 "cells": [
  {
   "cell_type": "code",
   "execution_count": null,
   "metadata": {},
   "outputs": [],
   "source": [
    "\"\"\"\n",
    "18. How to convert the first character of each element in a series to uppercase?\n",
    "\"\"\"\n",
    "\"\"\"\n",
    "Difficulty Level: L2\n",
    "\"\"\"\n",
    "\"\"\"\n",
    "Change the first character of each word to upper case in each word of ser.\n",
    "\"\"\"\n",
    "\"\"\"\n",
    "ser = pd.Series(['how', 'to', 'kick', 'ass?'])\n",
    "\"\"\"\n"
   ]
  }
 ],
 "metadata": {},
 "nbformat": 4,
 "nbformat_minor": 2
}
