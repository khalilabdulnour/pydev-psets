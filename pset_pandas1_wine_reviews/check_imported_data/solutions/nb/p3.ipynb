{
 "cells": [
  {
   "cell_type": "code",
   "execution_count": null,
   "metadata": {},
   "outputs": [],
   "source": [
    "\"\"\"\n",
    "Checking Imported Data III - DataFrame Labels\n",
    "\"\"\"\n",
    "\n",
    "import numpy as np\n",
    "import pandas as pd\n",
    "wine_reviews = pd.read_csv('raw_data/winemag-data-130k.csv')\n",
    "\n",
    "\n",
    "# Access the labels on the rows of data.\n",
    "\n",
    "print(wine_reviews.index) # RangeIndex(start=0, stop=129971, step=1)\n",
    "\n",
    "# Access the labels on the columns of data.\n",
    "\n",
    "print(wine_reviews.columns) # Index(['country', 'description', 'designation', 'points', 'price', 'province', 'region_1', 'region_2', 'taster_name', 'taster_twitter_handle', 'title', 'variety', 'winery'], dtype='object')\n",
    "\n",
    "# Return the labels for the rows and columns in wine_reviews in one command.\n",
    "\n",
    "print(wine_reviews.axes)\n",
    "\"\"\"\n",
    "[RangeIndex(start=0, stop=129971, step=1), Index(['country', 'description', 'designation', 'points', 'price', 'province', 'region_1', 'region_2', 'taster_name', 'taster_twitter_handle', 'title', 'variety', 'winery'], dtype='object')\n",
    "\"\"\""
   ]
  }
 ],
 "metadata": {},
 "nbformat": 4,
 "nbformat_minor": 2
}
