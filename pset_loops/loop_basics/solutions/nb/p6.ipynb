{
 "cells": [
  {
   "cell_type": "code",
   "execution_count": null,
   "metadata": {},
   "outputs": [],
   "source": [
    "\"\"\"\n",
    "GCD\n",
    "\"\"\"\n",
    "\n",
    "# Find the greatest common denominator (GCD) of two number input by a user. Then print out 'The GCD of <first number> and <second number> is <your result>.'\n",
    "\n",
    "print(\"Enter two numbers to find their greatest common denominator.\")\n",
    "\n",
    "user_input1 = input(\"First number: \")\n",
    "user_input2 = input(\"Second number: \")\n",
    "a = int(user_input1)\n",
    "b = int(user_input2)\n",
    "\n",
    "print(f'The GCD of {a} and {b} is: ')\n",
    "\n",
    "while b != 0:\n",
    "  a, b = b, a % b\n",
    "\n",
    "print(a)\n",
    "\n"
   ]
  }
 ],
 "metadata": {},
 "nbformat": 4,
 "nbformat_minor": 2
}
