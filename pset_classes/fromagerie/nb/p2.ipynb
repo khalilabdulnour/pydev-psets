{
 "cells": [
  {
   "cell_type": "code",
   "execution_count": null,
   "metadata": {},
   "outputs": [],
   "source": [
    "\"\"\"\n",
    "Fromagerie II - Product Categories\n",
    "\"\"\"\n",
    "\n",
    "# Create a class called \"ProductCat.\" This is where you store the full inventories of each category of product at your fromagerie (e.g. cheese, dips, sauces, yogurts, etc.). Instantiate the category \"cheeses\" using your \"cheese_inventory\" dict from p1.\n",
    "\n",
    "# Your class should include the following:\n",
    "### instance attributes - name & inventory\n",
    "### class attributes - food_group, production_standards (e.g. organic, non-GMO, and carbon neutral), & source (some farm)\n",
    "### instance methods - \"view_inventory()\", which prints out each item in your inventory for that category"
   ]
  }
 ],
 "metadata": {},
 "nbformat": 4,
 "nbformat_minor": 2
}
