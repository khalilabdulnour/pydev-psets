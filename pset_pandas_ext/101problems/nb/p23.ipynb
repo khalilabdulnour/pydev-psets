{
 "cells": [
  {
   "cell_type": "code",
   "execution_count": null,
   "metadata": {},
   "outputs": [],
   "source": [
    "\"\"\"\n",
    "23. How to convert year-month string to dates corresponding to the 4th day of the month?\n",
    "\"\"\"\n",
    "\"\"\"\n",
    "Difficiulty Level: L2\n",
    "\"\"\"\n",
    "\"\"\"\n",
    "Change ser to dates that start with 4th of the respective months.\n",
    "\"\"\"\n",
    "\"\"\"\n",
    "Input\n",
    "\"\"\"\n",
    "\"\"\"\n",
    "ser = pd.Series(['Jan 2010', 'Feb 2011', 'Mar 2012'])\n",
    "\"\"\"\n",
    "\"\"\"\n",
    "Desired Output\n",
    "\"\"\"\n",
    "\"\"\"\n",
    "0   2010-01-04\n",
    "1   2011-02-04\n",
    "2   2012-03-04\n",
    "dtype: datetime64[ns]\n",
    "\"\"\"\n"
   ]
  }
 ],
 "metadata": {},
 "nbformat": 4,
 "nbformat_minor": 2
}
