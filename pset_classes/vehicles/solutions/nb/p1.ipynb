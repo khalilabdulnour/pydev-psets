{
 "cells": [
  {
   "cell_type": "code",
   "execution_count": null,
   "metadata": {},
   "outputs": [],
   "source": [
    "\"\"\"\n",
    "Vehicles I \n",
    "\"\"\"\n",
    "\n",
    "# Create a \"Vehicle\" class with instance attributes for \"name\" and \"owner\". \n",
    "# Add a method called \"start_engine()\" that prints \"Vroom!\". \n",
    "# Instantiate a Vehicle called \"submarine\" and then access all its attributes and methods for practice.\n",
    "\n",
    "class Vehicle():\n",
    "    def __init__(self, name, owner):\n",
    "        self.name = name\n",
    "        self.owner = owner\n",
    "\n",
    "    def start_engine(self):\n",
    "        print('Vrrrrrooomm!')\n",
    "\n",
    "\n",
    "submarine = Vehicle('Yellow Submarine', 'Sgt. Pepper')\n",
    "\n",
    "print(submarine.category) # transportation\n",
    "print(submarine.name) # Yellow Submarine\n",
    "print(submarine.owner) # Sgt. Pepper\n",
    "submarine.start_engine() # Vrrrrrooomm!\n",
    "\n"
   ]
  }
 ],
 "metadata": {},
 "nbformat": 4,
 "nbformat_minor": 2
}
