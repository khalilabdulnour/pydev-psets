{
 "cells": [
  {
   "cell_type": "code",
   "execution_count": null,
   "metadata": {},
   "outputs": [],
   "source": [
    "\"\"\"\n",
    "Basic List Operations II\n",
    "\"\"\"\n",
    "\n",
    "# Declare a list with 5 names, and print out the length of that list.\n",
    "names = ['Alana', 'Christen', 'Priya', 'Raina', 'Stacey']\n",
    "print(names, '\\n')\n",
    "\n",
    "# Print the 3rd name on the list\n",
    "print('2nd name:', names[2])\n",
    "\n",
    "\n",
    "# Delete the first name on the list\n",
    "removed = names.pop(0)\n",
    "print(f'Pop: {removed} \\n')\n",
    "\n",
    "\n",
    "# Re-add the name you deleted to the end of the list\n",
    "names.append(removed)\n",
    "print(names, '\\n')\n",
    "\n",
    "# Replace the 2nd name on the list with a new name.\n",
    "names.insert(1, 'Natasha')\n",
    "print(names, '\\n')\n",
    "\n",
    "# Add 3 new names to the end of the list.\n",
    "names.extend(['Christen', 'Anvesh', 'Taqqui'])\n",
    "print(names)"
   ]
  }
 ],
 "metadata": {},
 "nbformat": 4,
 "nbformat_minor": 2
}
