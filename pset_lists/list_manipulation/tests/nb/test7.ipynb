{
 "cells": [
  {
   "cell_type": "code",
   "execution_count": null,
   "metadata": {},
   "outputs": [],
   "source": [
    "# import io\n",
    "# import pytest\n",
    "\n",
    "# from unittest import TestCase\n",
    "# from unittest.mock import patch\n",
    "\n",
    "\n",
    "# SOLUTION - EXTENSIONS\n",
    "\n",
    "\n",
    "list1 = [6, 12, 9, 4, 10, 1]\n",
    "tuple1 = [(15,3), (6,2), (1, 8)]\n",
    "\n",
    "list1.extend(tuple1)\n",
    "print(list1) # [6, 12, 9, 4, 10, 1, (15, 3), (6, 2), (1, 8)]\n",
    "\n",
    "\n",
    "@pytest.mark.describe('Extensions - XXX')\n",
    "class TestPrint(TestCase):\n",
    "\n",
    "\n",
    "\n",
    "@pytest.mark.describe('Extensions - XXX')\n",
    "class TestPrint(TestCase):\n",
    "\n",
    "\n",
    "\n",
    "@pytest.mark.describe('Extensions - XXX')\n",
    "class TestPrint(TestCase):\n"
   ]
  }
 ],
 "metadata": {},
 "nbformat": 4,
 "nbformat_minor": 2
}
