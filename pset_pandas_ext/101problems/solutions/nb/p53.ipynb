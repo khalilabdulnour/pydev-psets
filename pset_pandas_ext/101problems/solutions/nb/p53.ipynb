{
 "cells": [
  {
   "cell_type": "code",
   "execution_count": null,
   "metadata": {},
   "outputs": [],
   "source": [
    "\"\"\"\n",
    "53. How to get the last n rows of a dataframe with row sum > 100?\n",
    "\"\"\"\n",
    "\"\"\"\n",
    "Difficulty Level: L2\n",
    "\"\"\"\n",
    "\"\"\"\n",
    "Get the last two rows of df whose row sum is greater than 100.\n",
    "\"\"\"\n",
    "\"\"\"\n",
    "df = pd.DataFrame(np.random.randint(10, 40, 60).reshape(-1, 4))\n",
    "\"\"\"\n",
    "\n",
    "# Input\n",
    "df = pd.DataFrame(np.random.randint(10, 40, 60).reshape(-1, 4))\n",
    "\n",
    "# Solution\n",
    "# print row sums\n",
    "rowsums = df.apply(np.sum, axis=1)\n",
    "\n",
    "# last two rows with row sum greater than 100\n",
    "last_two_rows = df.iloc[np.where(rowsums > 100)[0][-2:], :]"
   ]
  }
 ],
 "metadata": {},
 "nbformat": 4,
 "nbformat_minor": 2
}
