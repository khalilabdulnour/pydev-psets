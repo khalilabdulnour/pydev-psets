{
 "cells": [
  {
   "cell_type": "code",
   "execution_count": null,
   "metadata": {},
   "outputs": [],
   "source": [
    "\"\"\"\n",
    "33. How to import only every nth row from a csv file to create a dataframe?\n",
    "\"\"\"\n",
    "\"\"\"\n",
    "Difficiulty Level: L2\n",
    "\"\"\"\n",
    "\"\"\"\n",
    "Import every 50th row of BostonHousing dataset as a dataframe.\n",
    "\"\"\"\n",
    "\"\"\"\n",
    " \n",
    "\"\"\"\n"
   ]
  }
 ],
 "metadata": {},
 "nbformat": 4,
 "nbformat_minor": 2
}
