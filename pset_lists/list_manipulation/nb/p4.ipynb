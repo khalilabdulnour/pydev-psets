{
 "cells": [
  {
   "cell_type": "code",
   "execution_count": null,
   "metadata": {},
   "outputs": [],
   "source": [
    "\"\"\"\n",
    "Spotify Playlists - Sorting\n",
    "\"\"\"\n",
    "\n",
    "# You work for Spotify and are creating a feature for users to alphabetize their playlists by song title. Below is a list of titles from a sample playlist.\n",
    "\n",
    "playlist_titles = ['Tiny Dancer', 'At Last', 'Fortunate Son', \n",
    "'Hey Jude', 'Isn\\'t She Lovely', 'Just the Way You Are', 'I\\'m Yours',\n",
    "'Vienna', 'Roxanne', 'Dancing in the Moonlight']\n",
    "\n",
    "# Alphabetize these songs and print the result.\n",
    "\n",
    "\n",
    "\n",
    "# Now do the reverse.\n",
    "\n"
   ]
  }
 ],
 "metadata": {},
 "nbformat": 4,
 "nbformat_minor": 2
}
