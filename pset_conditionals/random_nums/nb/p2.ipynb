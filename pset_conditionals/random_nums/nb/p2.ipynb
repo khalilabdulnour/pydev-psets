{
 "cells": [
  {
   "cell_type": "code",
   "execution_count": null,
   "metadata": {},
   "outputs": [],
   "source": [
    "\"\"\"\n",
    "Generate Phone Number w/Area Code\n",
    "\"\"\"\n",
    "\n",
    "# Generate a random phone number using these SPECS:\n",
    "### Should be a string in this format: 1-718-786-2825\n",
    "### Must randomly choose one of these area codes: 646, 718, 212"
   ]
  }
 ],
 "metadata": {},
 "nbformat": 4,
 "nbformat_minor": 2
}
