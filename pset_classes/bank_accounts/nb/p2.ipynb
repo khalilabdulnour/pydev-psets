{
 "cells": [
  {
   "cell_type": "code",
   "execution_count": null,
   "metadata": {},
   "outputs": [],
   "source": [
    "\"\"\"\n",
    "Bank Accounts II - Deposit Money\n",
    "\"\"\"\n",
    "\n",
    "# Write and call a method \"deposit()\" that allows you to deposit money into the instance of Account. It should update the current account balance, record the transaction in an attribute called \"transactions\", and prints out a deposit confirmation message.\n",
    "\n",
    "# Note 1: You can format the transaction records like this - \"Deposit: <starting balance>, <ending balance>\"\n",
    "# Note 2: You can format the deposit confirmation message like this - \"$<amount> deposit complete.\""
   ]
  }
 ],
 "metadata": {},
 "nbformat": 4,
 "nbformat_minor": 2
}
