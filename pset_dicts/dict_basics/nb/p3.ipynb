{
 "cells": [
  {
   "cell_type": "code",
   "execution_count": null,
   "metadata": {},
   "outputs": [],
   "source": [
    "\"\"\"\n",
    "Merging Dicts\n",
    "\"\"\"\n",
    "\n",
    "# Merge these two dicts without creating a new one.\n",
    "\n",
    "d1 = {'a': 100, 'b': 200}\n",
    "d2 = {'c': 300, 'd': 400, 'e': 500}\n",
    "\n"
   ]
  }
 ],
 "metadata": {},
 "nbformat": 4,
 "nbformat_minor": 2
}
