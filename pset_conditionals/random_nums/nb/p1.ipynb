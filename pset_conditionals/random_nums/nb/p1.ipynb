{
 "cells": [
  {
   "cell_type": "code",
   "execution_count": null,
   "metadata": {},
   "outputs": [],
   "source": [
    "\"\"\"\n",
    "Generate Traffic Light\n",
    "\"\"\"\n",
    "\n",
    "# import python randomint package\n",
    "import random\n",
    "\n",
    "# generates a random number from 1 to 3\n",
    "randn = random.randint(1, 3)\n",
    "\n",
    "# if 1, print 'red'\n",
    "# if 2, print 'green',\n",
    "# if 3, print 'yellow'\n"
   ]
  }
 ],
 "metadata": {},
 "nbformat": 4,
 "nbformat_minor": 2
}
