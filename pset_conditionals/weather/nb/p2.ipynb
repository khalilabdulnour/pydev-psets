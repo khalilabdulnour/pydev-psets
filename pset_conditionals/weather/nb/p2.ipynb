{
 "cells": [
  {
   "cell_type": "code",
   "execution_count": null,
   "metadata": {},
   "outputs": [],
   "source": [
    "\"\"\"\n",
    "Weather II - Precipitation\n",
    "\"\"\"\n",
    "\n",
    "# Repeat the same process as p1, using this new set of variables.\n",
    "\n",
    "sunny = True\n",
    "raining = True\n",
    "snowing = False\n",
    "\n",
    "is_it_sunny = None\n",
    "is_there_precipitation = None\n",
    "is_it_sleeting = None\n",
    "is_there_rainbow = None"
   ]
  }
 ],
 "metadata": {},
 "nbformat": 4,
 "nbformat_minor": 2
}
