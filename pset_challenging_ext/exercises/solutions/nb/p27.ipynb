{
 "cells": [
  {
   "cell_type": "code",
   "execution_count": null,
   "metadata": {},
   "outputs": [],
   "source": [
    "\"\"\"\n",
    "Define a function that can convert a integer into a string and print it in console.\n",
    "\"\"\"\n",
    "\n",
    "\"\"\"Question:\n",
    "Define a function that can convert a integer into a string and print it in console.\n",
    "Hints:\n",
    "Use str() to convert a number to string.\n",
    "\n",
    "\"\"\"\n",
    "def printValue(n):\n",
    "\tprint str(n)\n",
    "printValue(3)\n",
    "\t\n"
   ]
  }
 ],
 "metadata": {},
 "nbformat": 4,
 "nbformat_minor": 2
}
