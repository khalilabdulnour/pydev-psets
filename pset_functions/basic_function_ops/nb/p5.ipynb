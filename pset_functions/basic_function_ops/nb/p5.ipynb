{
 "cells": [
  {
   "cell_type": "code",
   "execution_count": null,
   "metadata": {},
   "outputs": [],
   "source": [
    "\"\"\"\n",
    "Function Basics V - Indeterminate Arguments\n",
    "\"\"\"\n",
    "\n",
    "# Write a and call a function called \"high_low\" that takes 3 numbers and returns the highest and lowest ones.\n",
    "\n"
   ]
  }
 ],
 "metadata": {},
 "nbformat": 4,
 "nbformat_minor": 2
}
