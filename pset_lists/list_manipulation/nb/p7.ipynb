{
 "cells": [
  {
   "cell_type": "code",
   "execution_count": null,
   "metadata": {},
   "outputs": [],
   "source": [
    "\"\"\"\n",
    "CHALLENGE - Core Statistics Calculations\n",
    "\"\"\"\n",
    "\n",
    "# Given the sample below, find the mean, median, mode, variance, and standard deviation of this sample. Print them out separately, but in the same format as before.\n",
    "\t# my_median = \n",
    "\t# my_mode = \n",
    "\t# my_variance = \n",
    "\t# my_sd = \n",
    "\n",
    "sample = [6, 19, 20, 12, 6, 24, 8, 30, 28, 25]\n",
    "\n",
    "\n",
    "# Once you finish, print out each value **on its own line** in this format: \"median = \" etc.\n"
   ]
  }
 ],
 "metadata": {},
 "nbformat": 4,
 "nbformat_minor": 2
}
