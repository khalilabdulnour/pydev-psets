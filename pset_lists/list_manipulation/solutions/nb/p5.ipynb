{
 "cells": [
  {
   "cell_type": "code",
   "execution_count": null,
   "metadata": {},
   "outputs": [],
   "source": [
    "\"\"\"\n",
    "Cool Runnings!\n",
    "\"\"\"\n",
    "\n",
    "cool_runnings = [\n",
    "\t'Feel', 'the', 'rhythm.',\n",
    "\t'Feel', 'the', 'rhyme.',\n",
    "\t'Get', 'on', 'up.',\n",
    "\t'It\\'s', 'bobsled', 'time!'\n",
    "]\n",
    "\n",
    "bobsled = cool_runnings.index('bobsled')\n",
    "cool_runnings[bobsled] = 'YOLO'\n",
    "\n",
    "l1 = cool_runnings[:3]\n",
    "l1 = ' '.join(l1)\n",
    "\n",
    "l2 = cool_runnings[3:6]\n",
    "l2 = ' '.join(l2)\n",
    "\n",
    "l3 = cool_runnings[6:9]\n",
    "l3 = ' '.join(l3)\n",
    "\n",
    "l4 = cool_runnings[9:12]\n",
    "l4 = ' '.join(l4)\n",
    "\n",
    "print(f'''\n",
    "{l1}\n",
    "{l2}\n",
    "{l3}\n",
    "{l4}\n",
    "''')\n"
   ]
  }
 ],
 "metadata": {},
 "nbformat": 4,
 "nbformat_minor": 2
}
