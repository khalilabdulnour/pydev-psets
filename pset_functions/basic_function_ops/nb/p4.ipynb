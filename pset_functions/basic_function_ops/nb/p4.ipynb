{
 "cells": [
  {
   "cell_type": "code",
   "execution_count": null,
   "metadata": {},
   "outputs": [],
   "source": [
    "\"\"\"\n",
    "Function Basics IV - Multiple Return Values\n",
    "\"\"\"\n",
    "\n",
    "# Write a and call a function called \"figures\" that takes any two numbers and **individually** returns the following as integers:\n",
    "# their sum\n",
    "# their product\n",
    "# the quotient for num1 / num2\n",
    "\n",
    "\"\"\"Print each value out individually in this format:\n",
    "(using 12 and 3)\n",
    "sum: 15\n",
    "product: 36\n",
    "quotient: 4\n",
    "\"\"\"\n",
    "\n"
   ]
  }
 ],
 "metadata": {},
 "nbformat": 4,
 "nbformat_minor": 2
}
