{
 "cells": [
  {
   "cell_type": "code",
   "execution_count": null,
   "metadata": {},
   "outputs": [],
   "source": [
    "\"\"\"\n",
    "Please write a program which accepts basic mathematic expression from console and print the evaluation result.\n",
    "\"\"\"\n",
    "\n",
    "\"\"\"Question:\n",
    "Please write a program which accepts basic mathematic expression from console and print the evaluation result.\n",
    "Example:\n",
    "If the following string is given as input to the program:\n",
    "35+3\n",
    "Then, the output of the program should be:\n",
    "38\n",
    "Hints:\n",
    "Use eval() to evaluate an expression.\n",
    "\n",
    "\"\"\""
   ]
  }
 ],
 "metadata": {},
 "nbformat": 4,
 "nbformat_minor": 2
}
