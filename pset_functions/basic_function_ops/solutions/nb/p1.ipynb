{
 "cells": [
  {
   "cell_type": "code",
   "execution_count": null,
   "metadata": {},
   "outputs": [],
   "source": [
    "\"\"\"\n",
    "Function Basics I - No Input\n",
    "\"\"\"\n",
    "\n",
    "# Write a and call a function called \"rand_list\" that generates a list of 5 random numbers between 1 and 500. Print out that list.\n",
    "\n",
    "from random import randint\n",
    "\n",
    "def rand_list():\n",
    "\n",
    "\trand_nums = []\n",
    "\n",
    "\ti = 1\n",
    "\n",
    "\twhile i <=5:\n",
    "\t\tn = randint(1,500)\n",
    "\t\trand_nums.append(n)\n",
    "\t\ti += 1\n",
    "\n",
    "\treturn rand_nums\n",
    "\n",
    "\n",
    "x = rand_list()\n",
    "print(x)"
   ]
  }
 ],
 "metadata": {},
 "nbformat": 4,
 "nbformat_minor": 2
}
