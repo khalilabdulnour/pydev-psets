{
 "cells": [
  {
   "cell_type": "code",
   "execution_count": null,
   "metadata": {},
   "outputs": [],
   "source": [
    "\"\"\"\n",
    "Fromagerie III - Cheeses\n",
    "\"\"\"\n",
    "\n",
    "# Create a \"Cheese\" class that inherits from ProductCat. Create 10 instances based on info from cheese_inventory. \n",
    "\n",
    "# Your class should include the following instance attributes:\n",
    "### sku\n",
    "### name\n",
    "### stock\n",
    "### retail_price\n",
    "### wholesale_price\n",
    "### profit_margin (Hint: You don't need to pass this one during instantiation.)\n",
    "\n",
    "\n",
    "\n",
    "\n",
    "# Based on the info from cheese_inventory, create instances for the cheese below. (Hint: Make sure one has a stock value of < 15. You'll need this later.)\n",
    "### provolone\n",
    "### gorgonzola\n",
    "### mozzarella\n",
    "### ricotta\n",
    "### mascarpone\n",
    "### parmigiano_reggiano\n",
    "### pecorino_romano"
   ]
  }
 ],
 "metadata": {},
 "nbformat": 4,
 "nbformat_minor": 2
}
