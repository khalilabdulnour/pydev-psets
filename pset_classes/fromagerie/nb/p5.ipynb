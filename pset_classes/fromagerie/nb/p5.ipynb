{
 "cells": [
  {
   "cell_type": "code",
   "execution_count": null,
   "metadata": {},
   "outputs": [],
   "source": [
    "\"\"\"\n",
    "Fromagerie V - Check Stock\n",
    "\"\"\"\n",
    "\n",
    "# Add an instance method called \"check_stock\" to the Cheese class. If the amount of a cheese product is less than 15, it should return 'Low stock alert! Order more <that_cheese> now.' Call that on each of the promoted cheeses from p4.\n",
    "\n",
    "\n",
    "promoted_cheeses = [provolone, gorgonzola, mozzarella, ricotta, mascarpone, parmigiano_reggiano, pecorino_romano]"
   ]
  }
 ],
 "metadata": {},
 "nbformat": 4,
 "nbformat_minor": 2
}
