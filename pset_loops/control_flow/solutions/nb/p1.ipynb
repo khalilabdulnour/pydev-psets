{
 "cells": [
  {
   "cell_type": "code",
   "execution_count": null,
   "metadata": {},
   "outputs": [],
   "source": [
    "\"\"\"\n",
    "Control Flow I - SOLUTION\n",
    "\"\"\"\n",
    "\n",
    "# Print the numbers in the range (5:12) until you find a factor of 4. If the range the user enters contains no factors of 4, print \"There are no factors of 4 in this interval.\"\n",
    "\n",
    "# HINT: for the range 5,12 there will likely be multiples of 4 present - to assert the final requirement, try changing range boundaries\n",
    "\n",
    "for i in range(5:12):\n",
    "\tif i % 4 != 0:\n",
    "\t\tprint(i)\n",
    "\telif i % 4 == 0:\n",
    "\t\tbreak\n",
    "else:\n",
    "\t(\"There are no factors of 4 in this interval.\")\n"
   ]
  }
 ],
 "metadata": {},
 "nbformat": 4,
 "nbformat_minor": 2
}
