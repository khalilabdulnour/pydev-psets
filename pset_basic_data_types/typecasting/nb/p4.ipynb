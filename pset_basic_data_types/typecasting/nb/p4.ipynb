{
 "cells": [
  {
   "cell_type": "code",
   "execution_count": null,
   "metadata": {},
   "outputs": [],
   "source": [
    "\"\"\"\n",
    "Booleans II - Typecasting w. Strings\n",
    "\"\"\"\n",
    "\n",
    "# A) Use typecasting to turn these variables into boolean values. Print the result and the datatype of the result. \n",
    "\n",
    "one = 1\n",
    "zero = 0\n",
    "T = True\n",
    "F = False\n",
    "\n",
    "\n",
    "# B) Use typecasting to turn the latest values for variables 'one' and 'zero' back into integers. Print the result and the datatype of the result.\n",
    "\n",
    "\n",
    "\n",
    "# C) Use typecasting to turn the latest values for variables 'T' and 'F' back into boolean values. Print the result and the datatype of the result.\n",
    "\n",
    "\n",
    "\n",
    "\n"
   ]
  }
 ],
 "metadata": {},
 "nbformat": 4,
 "nbformat_minor": 2
}
