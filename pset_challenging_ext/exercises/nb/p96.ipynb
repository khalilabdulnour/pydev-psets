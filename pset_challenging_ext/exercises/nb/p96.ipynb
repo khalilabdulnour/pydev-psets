{
 "cells": [
  {
   "cell_type": "code",
   "execution_count": null,
   "metadata": {},
   "outputs": [],
   "source": [
    "\"\"\"\n",
    "Please write a program which count and print the numbers of each character in a string input by console.\n",
    "\"\"\"\n",
    "\n",
    "\"\"\"Question:\n",
    "Please write a program which count and print the numbers of each character in a string input by console.\n",
    "Example:\n",
    "If the following string is given as input to the program:\n",
    "abcdefgabc\n",
    "Then, the output of the program should be:\n",
    "a,2\n",
    "c,2\n",
    "b,2\n",
    "e,1\n",
    "d,1\n",
    "g,1\n",
    "f,1\n",
    "Hints:\n",
    "Use dict to store key/value pairs.\n",
    "Use dict.get() method to lookup a key with default value.\n",
    "\n",
    "\"\"\""
   ]
  }
 ],
 "metadata": {},
 "nbformat": 4,
 "nbformat_minor": 2
}
