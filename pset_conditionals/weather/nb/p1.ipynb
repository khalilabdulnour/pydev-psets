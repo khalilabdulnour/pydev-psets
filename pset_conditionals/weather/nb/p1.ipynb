{
 "cells": [
  {
   "cell_type": "code",
   "execution_count": null,
   "metadata": {},
   "outputs": [],
   "source": [
    "\"\"\"\n",
    "Weather I - Do you need boots?\n",
    "\"\"\"\n",
    "\n",
    "# Use the values of the vars defined below to ouput the correct contextual answer to the questions below. (Note: The variables themselves ARE the questions.)\n",
    "\n",
    "# Example:\n",
    "## am_i_hungry = False\n",
    "## am_i_tired = True\n",
    "## do_i_need_to_stay_awake = False\n",
    "\n",
    "## should_i_drink_coffee_now = am_i_tired and do_i_need_to_stay_awake\n",
    "\n",
    "## ^^ This ^^ evaluates to False. If you're tired and don't need to stay awake, you don't need to drink coffee!\n",
    "\n",
    "\n",
    "is_it_raining = True\n",
    "is_it_snowing = False\n",
    "\n",
    "\n",
    "do_i_need_snow_boots = None\n",
    "can_i_skip_snow_boots = None\n",
    "do_i_need_rain_boots = None\n",
    "can_i_skip_rain_boots = None"
   ]
  }
 ],
 "metadata": {},
 "nbformat": 4,
 "nbformat_minor": 2
}
