{
 "cells": [
  {
   "cell_type": "code",
   "execution_count": null,
   "metadata": {},
   "outputs": [],
   "source": [
    "\"\"\"\n",
    "Indexing and Selecting Series\n",
    "\"\"\"\n",
    "\n",
    "# import pandas as pd\n",
    "import pandas as pd\n",
    "\n",
    "# import numpy as np\n",
    "import numpy as np\n",
    "\n",
    "# create a new series\n",
    "s = pd.Series(np.nan, index=[49, 48, 47, 46, 45, 1, 2, 3, 4, 5])\n",
    "\n",
    "# using iloc, get the first 3 items in series\n",
    "t = s.iloc[:3]\n",
    "\n",
    "# using loc, do the same\n",
    "u = s.loc[:47]\n",
    "\n",
    "# using index operators, do the same\n",
    "v = s[0:3]\n"
   ]
  }
 ],
 "metadata": {},
 "nbformat": 4,
 "nbformat_minor": 2
}
