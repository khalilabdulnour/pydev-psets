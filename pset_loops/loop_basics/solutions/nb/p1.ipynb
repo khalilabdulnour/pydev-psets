{
 "cells": [
  {
   "cell_type": "code",
   "execution_count": null,
   "metadata": {},
   "outputs": [],
   "source": [
    "\"\"\"\n",
    "Odds & Evens - SOLUTION\n",
    "\"\"\"\n",
    "\n",
    "# Use a loop to make a list of all odd numbers between 1 and 10 and another list with all the evens. When done, print the lists.\n",
    "\n",
    "odds = []\n",
    "evens = []\n",
    "\n",
    "i = 1\n",
    "\n",
    "while i <= 10:\n",
    "    if i % 2 != 0:\n",
    "        odds.append(i)\n",
    "        i += 1\n",
    "    else:\n",
    "        evens.append(i)\n",
    "        i += 1\n",
    "\n",
    "print(odds,'\\n', evens)"
   ]
  }
 ],
 "metadata": {},
 "nbformat": 4,
 "nbformat_minor": 2
}
