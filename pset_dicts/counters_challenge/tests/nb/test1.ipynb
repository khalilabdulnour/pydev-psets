{
 "cells": [
  {
   "cell_type": "code",
   "execution_count": null,
   "metadata": {},
   "outputs": [],
   "source": [
    "\"\"\"\n",
    "Word Frequency\n",
    "\"\"\"\n",
    "\n",
    "# import io\n",
    "# import pytest\n",
    "\n",
    "# from unittest import TestCase\n",
    "# from unittest.mock import patch\n",
    "\n",
    "\n",
    "\n",
    "\n",
    "@pytest.mark.describe('Word Frequency - XXX')\n",
    "class TestPrint(TestCase):\n",
    "\n",
    "\n",
    "\n",
    "@pytest.mark.describe('Word Frequency - XXX')\n",
    "class TestPrint(TestCase):\n",
    "\n",
    "\n",
    "\n",
    "@pytest.mark.describe('Word Frequency - XXX')\n",
    "class TestPrint(TestCase):\n"
   ]
  }
 ],
 "metadata": {},
 "nbformat": 4,
 "nbformat_minor": 2
}
