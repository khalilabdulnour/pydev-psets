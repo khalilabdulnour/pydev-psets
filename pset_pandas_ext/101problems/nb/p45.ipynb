{
 "cells": [
  {
   "cell_type": "code",
   "execution_count": null,
   "metadata": {},
   "outputs": [],
   "source": [
    "\"\"\"\n",
    "45. How to change the order of columns of a dataframe?\n",
    "\"\"\"\n",
    "\"\"\"\n",
    "Difficulty Level: L3\n",
    "\"\"\"\n",
    "\"\"\"\n",
    "Actually 3 questions.\n",
    "\"\"\"\n",
    "\"\"\"\n",
    "In df, interchange columns 'a' and 'c'.Create a generic function to interchange two columns, without hardcoding column names.Sort the columns in reverse alphabetical order, that is colume 'e' first through column 'a' last.\n",
    "\"\"\"\n",
    "\"\"\"\n",
    "Input\n",
    "\"\"\"\n",
    "\"\"\"\n",
    "df = pd.DataFrame(np.arange(20).reshape(-1, 5), columns=list('abcde'))\n",
    "\"\"\"\n"
   ]
  }
 ],
 "metadata": {},
 "nbformat": 4,
 "nbformat_minor": 2
}
