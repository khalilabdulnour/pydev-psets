{
 "cells": [
  {
   "cell_type": "code",
   "execution_count": null,
   "metadata": {},
   "outputs": [],
   "source": [
    "\"\"\"\n",
    "Define a class named American which has a static method called printNationality.\n",
    "\"\"\"\n",
    "\n",
    "\"\"\"Question:\n",
    "Define a class named American which has a static method called printNationality.\n",
    "Hints:\n",
    "Use @staticmethod decorator to define class static method.\n",
    "\n",
    "\"\"\""
   ]
  }
 ],
 "metadata": {},
 "nbformat": 4,
 "nbformat_minor": 2
}
