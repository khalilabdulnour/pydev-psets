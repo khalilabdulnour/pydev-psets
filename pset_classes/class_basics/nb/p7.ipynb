{
 "cells": [
  {
   "cell_type": "code",
   "execution_count": null,
   "metadata": {},
   "outputs": [],
   "source": [
    "\"\"\"\n",
    "Vehicles III\n",
    "\"\"\"\n",
    "\n",
    "# Let's expand the Car class to be more comprehensive. Include attributes for brand name, plates, owner, fuel, fuel_level (a numerical amount that defaults to 50, and max speed in MPH that defaults to None. \n",
    "\n",
    "# Next, define new method called \"check_fuel_level()\". If the fuel_level attribute is < 15, the method should reset fuel_level to 50 and print out how many units it refueled the car, e.g. 'Refueled 38 units.' Otherwise, it should simply print 'No need to refuel right now.'\n",
    "\n",
    "# Create at least TWO instances of Car, one of which has a fuel level below 15. Access the new attributes and call the check_fuel_level() method for each instance. "
   ]
  }
 ],
 "metadata": {},
 "nbformat": 4,
 "nbformat_minor": 2
}
