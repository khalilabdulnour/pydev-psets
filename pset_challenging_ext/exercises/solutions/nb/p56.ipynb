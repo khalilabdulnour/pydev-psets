{
 "cells": [
  {
   "cell_type": "code",
   "execution_count": null,
   "metadata": {},
   "outputs": [],
   "source": [
    "\"\"\"\n",
    "Write a function to compute 5/0 and use try/except to catch the exceptions.\n",
    "\"\"\"\n",
    "\n",
    "\"\"\"Write a function to compute 5/0 and use try/except to catch the exceptions.\n",
    "Hints:\n",
    "Use try/except to catch exceptions.\n",
    "\n",
    "\"\"\"\n",
    "def throws():\n",
    "    return 5/0\n",
    "try:\n",
    "    throws()\n",
    "except ZeroDivisionError:\n",
    "    print \"division by zero!\"\n",
    "except Exception, err:\n",
    "    print 'Caught an exception'\n",
    "finally:\n",
    "    print 'In finally block for cleanup'\n"
   ]
  }
 ],
 "metadata": {},
 "nbformat": 4,
 "nbformat_minor": 2
}
