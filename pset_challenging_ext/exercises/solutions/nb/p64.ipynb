{
 "cells": [
  {
   "cell_type": "code",
   "execution_count": null,
   "metadata": {},
   "outputs": [],
   "source": [
    "\"\"\"\n",
    "Write a program to compute 1/2+2/3+3/4+...+n/n+1 with a given n input by console (n>0).\n",
    "\"\"\"\n",
    "\n",
    "\"\"\"Question:\n",
    "Write a program to compute 1/2+2/3+3/4+...+n/n+1 with a given n input by console (n>0).\n",
    "Example:\n",
    "If the following n is given as input to the program:\n",
    "5\n",
    "Then, the output of the program should be:\n",
    "3.55\n",
    "In case of input data being supplied to the question, it should be assumed to be a console input.\n",
    "Hints:\n",
    "Use float() to convert an integer to a float\n",
    "\n",
    "\"\"\"\n",
    "n=int(raw_input())\n",
    "sum=0.0\n",
    "for i in range(1,n+1):\n",
    "    sum += float(float(i)/(i+1))\n",
    "print sum\n"
   ]
  }
 ],
 "metadata": {},
 "nbformat": 4,
 "nbformat_minor": 2
}
