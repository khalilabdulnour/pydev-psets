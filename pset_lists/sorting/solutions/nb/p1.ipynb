{
 "cells": [
  {
   "cell_type": "code",
   "execution_count": null,
   "metadata": {},
   "outputs": [],
   "source": [
    "\"\"\"\n",
    "Spotify Playlists - Sorting\n",
    "\"\"\"\n",
    "\n",
    "playlist_titles = ['Tiny Dancer', 'At Last', 'Fortunate Son', \n",
    "'Hey Jude', 'Isn\\'t She Lovely', 'Just the Way You Are', 'I\\'m Yours',\n",
    "'Vienna', 'Roxanne', 'Dancing in the Moonlight']\n",
    "\n",
    "# Alphabetize these songs and print the result.\n",
    "\n",
    "print(sorted(playlist_titles))\n",
    "\"\"\"['At Last', 'Dancing in the Moonlight', 'Fortunate Son', 'Hey Jude', \"I'm Yours\", \"Isn't She Lovely\", 'Just the Way You Are', 'Roxanne', 'Tiny Dancer', 'Vienna']\"\"\"\n",
    "\n",
    "\n",
    "# Now do the reverse.\n",
    "\n",
    "print(sorted(playlist_titles, reverse=True))\n",
    "\"\"\"['Vienna', 'Tiny Dancer', 'Roxanne', 'Just the Way You Are', \"Isn't She Lovely\", \"I'm Yours\", 'Hey Jude', 'Fortunate Son', 'Dancing in the Moonlight', 'At Last']\"\"\"\n"
   ]
  }
 ],
 "metadata": {},
 "nbformat": 4,
 "nbformat_minor": 2
}
