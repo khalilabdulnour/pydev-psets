{
 "cells": [
  {
   "cell_type": "code",
   "execution_count": null,
   "metadata": {},
   "outputs": [],
   "source": [
    "\"\"\"\n",
    "Write a program to compute:\n",
    "\"\"\"\n",
    "\n",
    "\"\"\"Question:\n",
    "Write a program to compute:\n",
    "f(n)=f(n-1)+100 when n>0\n",
    "and f(0)=1\n",
    "with a given n input by console (n>0).\n",
    "Example:\n",
    "If the following n is given as input to the program:\n",
    "5\n",
    "Then, the output of the program should be:\n",
    "500\n",
    "In case of input data being supplied to the question, it should be assumed to be a console input.\n",
    "Hints:\n",
    "We can define recursive function in Python.\n",
    "\n",
    "\"\"\"\n",
    "def f(n):\n",
    "    if n==0:\n",
    "        return 0\n",
    "    else:\n",
    "        return f(n-1)+100\n",
    "n=int(raw_input())\n",
    "print f(n)\n"
   ]
  }
 ],
 "metadata": {},
 "nbformat": 4,
 "nbformat_minor": 2
}
