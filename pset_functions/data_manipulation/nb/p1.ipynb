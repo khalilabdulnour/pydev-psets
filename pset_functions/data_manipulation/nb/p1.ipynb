{
 "cells": [
  {
   "cell_type": "code",
   "execution_count": null,
   "metadata": {},
   "outputs": [],
   "source": [
    "\"\"\"\n",
    "File Organization\n",
    "\"\"\"\n",
    "\n",
    "# The dict \"files\" below contains file names and the name of the person who owns each file. Write and call a function to reorganize \"files\" such that it contains each person's name and the files he/she owns. Assign the resultant dict to a new dict called \"grouped_by_owner\". Print out the key value pairs in this format - key: value.\n",
    "\n",
    "# Function name should be: group_by_owners\n",
    "# Dict of results should be named: files_by_owner\n",
    "\n",
    "files = {\n",
    "  'Input1.txt': 'Beau',\n",
    "  'Code1.py': 'Mischa',\n",
    "  'Output1.txt': 'Beau',\n",
    "  'Input2.txt': 'Beau',\n",
    "  'Code2.py': 'Mischa',\n",
    "  'Output2.txt': 'Beau',\n",
    "  'Input3.txt': 'Percy',\n",
    "  'Code3.py': 'Alejandra',\n",
    "  'Output3.txt': 'Percy'\n",
    "}\n",
    "\n",
    "\n"
   ]
  }
 ],
 "metadata": {},
 "nbformat": 4,
 "nbformat_minor": 2
}
