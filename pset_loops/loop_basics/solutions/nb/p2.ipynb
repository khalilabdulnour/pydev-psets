{
 "cells": [
  {
   "cell_type": "code",
   "execution_count": null,
   "metadata": {},
   "outputs": [],
   "source": [
    "\"\"\"\n",
    "Lists with Duplicates - SOLUTION\n",
    "\"\"\"\n",
    "\n",
    "# First remove dups from a\n",
    "\n",
    "# then merge b without adding dups\n",
    "\n",
    "a = [2, 4, 10, 20, 5, 2, 20, 4]\n",
    "b = [13, 2, 25, 20, 4, 8]\n",
    "\n",
    "print(f'BASE LIST: {a}\\n')\n",
    "\n",
    "\n",
    "# USING A LOOP, remove the duplicate items from list a and print out the updated list.\n",
    "\n",
    "x = []\n",
    "\n",
    "for i in a:\n",
    "    if i not in x:\n",
    "        x.append(i)\n",
    "\n",
    "a = x\n",
    "print(f'Removed Dups: {a}\\n')\n",
    "\n",
    "\n",
    "# SING A LOOP, merge list b into list a without adding any duplicates.\n",
    "\n",
    "for i in b:\n",
    "    if i not in a:\n",
    "        a.append(i)\n",
    "\n",
    "print(f'Merged: {a}')\n"
   ]
  }
 ],
 "metadata": {},
 "nbformat": 4,
 "nbformat_minor": 2
}
