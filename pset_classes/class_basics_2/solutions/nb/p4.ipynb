{
 "cells": [
  {
   "cell_type": "code",
   "execution_count": null,
   "metadata": {},
   "outputs": [],
   "source": [
    "\"\"\"\n",
    "Person class\n",
    "\"\"\"\n",
    "\n",
    "# Create a Person class with the following properties\n",
    "# 1. name\n",
    "# 2. age\n",
    "# 3. social security number\n",
    "\n",
    "\n",
    "class Person:\n",
    "    def __init__(self, name, age, social_number):\n",
    "        self.name = name\n",
    "        self.age = age\n",
    "        self.social = social_number\n",
    "\n",
    "\n",
    "p1 = Person(\"John\", 36, \"111-11-1111\")\n",
    "\n",
    "print(p1.name)\n",
    "print(p1.age)\n",
    "print(p1.social)\n"
   ]
  }
 ],
 "metadata": {},
 "nbformat": 4,
 "nbformat_minor": 2
}
