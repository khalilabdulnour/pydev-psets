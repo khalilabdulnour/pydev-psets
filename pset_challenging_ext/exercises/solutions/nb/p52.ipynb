{
 "cells": [
  {
   "cell_type": "code",
   "execution_count": null,
   "metadata": {},
   "outputs": [],
   "source": [
    "\"\"\"\n",
    "Define a class named Circle which can be constructed by a radius. The Circle class has a method which can compute the area. \n",
    "\"\"\"\n",
    "\n",
    "\"\"\"Question:\n",
    "Define a class named Circle which can be constructed by a radius. The Circle class has a method which can compute the area. \n",
    "Hints:\n",
    "Use def methodName(self) to define a method.\n",
    "\n",
    "\"\"\"\n",
    "class Circle(object):\n",
    "    def __init__(self, r):\n",
    "        self.radius = r\n",
    "    def area(self):\n",
    "        return self.radius**2*3.14\n",
    "aCircle = Circle(2)\n",
    "print aCircle.area()\n"
   ]
  }
 ],
 "metadata": {},
 "nbformat": 4,
 "nbformat_minor": 2
}
