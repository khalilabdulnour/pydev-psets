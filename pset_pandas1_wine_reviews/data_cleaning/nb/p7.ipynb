{
 "cells": [
  {
   "cell_type": "code",
   "execution_count": null,
   "metadata": {},
   "outputs": [],
   "source": [
    "\"\"\"\n",
    "Cleaning Data VII - View Null Values\n",
    "\"\"\"\n",
    "\n",
    "import numpy as np\n",
    "import pandas as pd\n",
    "wine_reviews = pd.read_csv('../winemag-data-130k.csv')\n",
    "wine_reviews.rename(columns={'points': 'rating'}, inplace=True)\n",
    "\n",
    "# Use the below df for these problems:\n",
    "\n",
    "wine_ratings = wine_reviews[['title', 'country', 'rating', 'price']]\n",
    "\n",
    "\n",
    "\n",
    "# Return a dataframe of booleans that show True for null values.\n",
    "\n",
    "\n",
    "\n",
    "# Return a dataframe of booleans that show True for values that exist.\n"
   ]
  }
 ],
 "metadata": {},
 "nbformat": 4,
 "nbformat_minor": 2
}
