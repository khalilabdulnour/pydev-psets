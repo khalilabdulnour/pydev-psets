{
 "cells": [
  {
   "cell_type": "code",
   "execution_count": null,
   "metadata": {},
   "outputs": [],
   "source": [
    "\"\"\"\n",
    "Define a function which can generate and print a tuple where the value are square of numbers between 1 and 20 (both included). \n",
    "\"\"\"\n",
    "\n",
    "\"\"\"Question:\n",
    "Define a function which can generate and print a tuple where the value are square of numbers between 1 and 20 (both included). \n",
    "Hints:\n",
    "Use ** operator to get power of a number.\n",
    "Use range() for loops.\n",
    "Use list.append() to add values into a list.\n",
    "Use tuple() to get a tuple from a list.\n",
    "\n",
    "\"\"\"\n",
    "def printTuple():\n",
    "\tli=list()\n",
    "\tfor i in range(1,21):\n",
    "\t\tli.append(i**2)\n",
    "\tprint tuple(li)\n",
    "\t\t\n",
    "printTuple()\n"
   ]
  }
 ],
 "metadata": {},
 "nbformat": 4,
 "nbformat_minor": 2
}
