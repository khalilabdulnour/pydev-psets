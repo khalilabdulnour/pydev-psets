{
 "cells": [
  {
   "cell_type": "code",
   "execution_count": null,
   "metadata": {},
   "outputs": [],
   "source": [
    "\"\"\"\n",
    "Data Organization III - Sorting a DataFrame by Multiple Columns\n",
    "\"\"\"\n",
    "\n",
    "import numpy as np\n",
    "import pandas as pd\n",
    "wine_reviews = pd.read_csv('../winemag-data-130k.csv')\n",
    "\n",
    "# Using this DataFrame, sort the rows first, alphabetically by 'country', and second, by 'rating' from highest to lowest.\n",
    "\n",
    "ratings_by_location = wine_reviews[['country', 'province', 'rating']]\n",
    "\n",
    "\n",
    "\n",
    "# Take a look at the result by printing out the rows from indeces 0 to 10 as well as the rows from indeces 52065 to 52075.\n"
   ]
  }
 ],
 "metadata": {},
 "nbformat": 4,
 "nbformat_minor": 2
}
