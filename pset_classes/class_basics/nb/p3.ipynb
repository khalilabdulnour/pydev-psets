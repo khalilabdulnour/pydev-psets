{
 "cells": [
  {
   "cell_type": "code",
   "execution_count": null,
   "metadata": {},
   "outputs": [],
   "source": [
    "\"\"\"\n",
    "Rectangle\n",
    "\"\"\"\n",
    "\n",
    "# Write a Python class named \"Rectangle\" constructed by values for length and width. It should include two methods to calculate the \"area\" and the \"perimeter\" of a rectangle. Instantiate a Rectangle and call both methods."
   ]
  }
 ],
 "metadata": {},
 "nbformat": 4,
 "nbformat_minor": 2
}
