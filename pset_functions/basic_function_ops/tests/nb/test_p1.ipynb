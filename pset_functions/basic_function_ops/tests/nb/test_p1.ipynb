{
 "cells": [
  {
   "cell_type": "code",
   "execution_count": null,
   "metadata": {},
   "outputs": [],
   "source": [
    "\"\"\"\n",
    "Function Basics I - No Input\n",
    "\"\"\"\n",
    "\n",
    "import io\n",
    "import pytest\n",
    "from unittest import TestCase\n",
    "from unittest.mock import patch\n",
    "\n",
    "from p1 import *\n",
    "from random import randint\n",
    "\n",
    "@pytest.mark.describe('it returns ')\n",
    "def test_rand_list():\n",
    "\tassert rand_list() == randint() * 5"
   ]
  }
 ],
 "metadata": {},
 "nbformat": 4,
 "nbformat_minor": 2
}
