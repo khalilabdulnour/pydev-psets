{
 "cells": [
  {
   "cell_type": "code",
   "execution_count": null,
   "metadata": {},
   "outputs": [],
   "source": [
    "\"\"\"\n",
    "Checking Imported Data IV - Preview Data\n",
    "\"\"\"\n",
    "\n",
    "import numpy as np\n",
    "import pandas as pd\n",
    "wine_reviews = pd.read_csv('../../winemag-data-130k.csv')\n",
    "\n",
    "\n",
    "# Print out the first and last 3 rows of data.\n",
    "\n",
    "print(wine_reviews.head(3))\n",
    "\"\"\"\n",
    "    country  ...               winery\n",
    "0     Italy  ...              Nicosia\n",
    "1  Portugal  ...  Quinta dos Avidagos\n",
    "2        US  ...            Rainstorm\n",
    "\"\"\"\n",
    "print(wine_reviews.tail(3))\n",
    "\"\"\"\n",
    "        country  ...                winery\n",
    "129968   France  ...       Domaine Gresser\n",
    "129969   France  ...  Domaine Marcel Deiss\n",
    "129970   France  ...      Domaine Schoffit\n",
    "\n",
    "[3 rows x 13 columns]\n",
    "\"\"\""
   ]
  }
 ],
 "metadata": {},
 "nbformat": 4,
 "nbformat_minor": 2
}
