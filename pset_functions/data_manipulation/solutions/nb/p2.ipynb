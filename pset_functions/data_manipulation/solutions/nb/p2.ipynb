{
 "cells": [
  {
   "cell_type": "code",
   "execution_count": null,
   "metadata": {},
   "outputs": [],
   "source": [
    "\"\"\"\n",
    "Clean Pairs\n",
    "\"\"\"\n",
    "\n",
    "# Below is a list of common food pairings. Write a function called \"cleaner\" that cleans the data such that each list item is a tuple (e.g. ('Milk', 'Cookies')). Assign the results to a variable called \"clean_pairs\".\n",
    "\n",
    "pairs = [('Milk', 'Cookies'), ('Peanut Butter - Jelly'), ('Spaghetti & Meatballs'), ('Eggs', 'Bacon'), ('Pancakes & Syrup'), ('Chicken - Waffles'), ('Peas', 'Carrots')]\n",
    "\n",
    "def cleaner(data):\n",
    "  for item in pairs:\n",
    "    if '-' in item:\n",
    "      idx = pairs.index(item)\n",
    "      x = tuple(item.split(' - '))\n",
    "      pairs.remove(item)\n",
    "      pairs.insert(idx,x)\n",
    "    elif '&' in item:\n",
    "      idx = pairs.index(item)\n",
    "      y = tuple(item.split(' & '))\n",
    "      pairs.remove(item)\n",
    "      pairs.insert(idx,y)\n",
    "\n",
    "  return pairs\n",
    "\n",
    "clean_pairs = cleaner(pairs)\n",
    "print(clean_pairs)"
   ]
  }
 ],
 "metadata": {},
 "nbformat": 4,
 "nbformat_minor": 2
}
