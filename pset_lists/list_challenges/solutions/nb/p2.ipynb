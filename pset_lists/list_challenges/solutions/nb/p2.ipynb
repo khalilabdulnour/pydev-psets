{
 "cells": [
  {
   "cell_type": "code",
   "execution_count": null,
   "metadata": {},
   "outputs": [],
   "source": [
    "\"\"\"\n",
    "CHALLENGE - Core Statistics Calculations\n",
    "\"\"\"\n",
    "\n",
    "# Given the sample below, find the median, mode, variance, and standard deviation of this sample. Print them out separately, but in the same format as before.\n",
    "\t# my_median = \n",
    "\t# my_mode = \n",
    "\t# my_variance = \n",
    "\t# my_sd = \n",
    "\n",
    "\n",
    "import statistics\n",
    "\n",
    "sample = [6, 19, 20, 12, 6, 24, 8, 30, 28, 25]\n",
    "\n",
    "my_mean = sum(sample) / len(sample)\n",
    "my_median = statistics.median_grouped(sample)\n",
    "my_mode = statistics.mode(sample)\n",
    "my_variance = statistics.variance(sample, my_mean)\n",
    "my_stdev = statistics.stdev(sample, my_mean)\n",
    "\n",
    "\n",
    "# Once you finish, print out each value **on its own line** in this format: \"median = \" etc.\n",
    "\n",
    "print(f'''\n",
    "  median = {my_median}\n",
    "  mode = {my_mode}\n",
    "  variance = {format(my_variance, '.2f')}\n",
    "  standard deviation = {format(my_stdev, '.2f')}\n",
    "''')"
   ]
  }
 ],
 "metadata": {},
 "nbformat": 4,
 "nbformat_minor": 2
}
