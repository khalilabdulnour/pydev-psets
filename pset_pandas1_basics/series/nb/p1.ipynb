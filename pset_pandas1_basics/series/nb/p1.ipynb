{
 "cells": [
  {
   "cell_type": "code",
   "execution_count": null,
   "metadata": {},
   "outputs": [],
   "source": [
    "\"\"\"\n",
    "Simple Series\n",
    "\"\"\"\n",
    "\n",
    "\n",
    "# import pandas as pd\n",
    "import pandas as pd\n",
    "\n",
    "# import numpy as np\n",
    "import numpy as np\n",
    "\n",
    "\n",
    "# simple array\n",
    "data = np.array(['l', 'a', 'y', 'l', 'a'])\n",
    "\n",
    "# convert data to series\n",
    "ser = None\n",
    "\n",
    "# grab the first three items from ser\n",
    "sub = None\n",
    "\n",
    "# create series with custom label such that:\n",
    "\"\"\"\n",
    "a    l\n",
    "b    a\n",
    "c    y\n",
    "d    l\n",
    "e    a\n",
    "dtype: object\n",
    "\"\"\"\n",
    "ser2 = None\n",
    "\n",
    "# access \"y\" from series ser2\n",
    "print(\"accessing 'y'\", None)\n"
   ]
  }
 ],
 "metadata": {},
 "nbformat": 4,
 "nbformat_minor": 2
}
