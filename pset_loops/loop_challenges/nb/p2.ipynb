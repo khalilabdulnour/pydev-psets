{
 "cells": [
  {
   "cell_type": "code",
   "execution_count": null,
   "metadata": {},
   "outputs": [],
   "source": [
    "\"\"\"\n",
    "Prime Numbers I\n",
    "\"\"\"\n",
    "\n",
    "# Check if a number input by a user is prime or not. If it is NOT a prime number, print out that it is not a prime number. If it IS a prime number, print out that it is a prime number and give an example of two of its factors. Hint: Prime numbers must be greater than 1.\n",
    "\n",
    "# Example of output for a NON-prime:\n",
    "# 12 is not a prime number\n",
    "# For example, 2 x 6 = 12\n",
    "\n",
    "\n",
    "\n",
    "# user_input = input(\"Enter a number to check if it's prime: \")\n",
    "\n"
   ]
  }
 ],
 "metadata": {},
 "nbformat": 4,
 "nbformat_minor": 2
}
