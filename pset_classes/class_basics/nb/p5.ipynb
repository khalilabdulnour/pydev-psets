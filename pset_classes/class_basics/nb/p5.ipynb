{
 "cells": [
  {
   "cell_type": "code",
   "execution_count": null,
   "metadata": {},
   "outputs": [],
   "source": [
    "\"\"\"\n",
    "Vehicle class\n",
    "\"\"\"\n",
    "\n",
    "# Create a Vehicle class with the following properties\n",
    "\n",
    "# * name\n",
    "# * kind\n",
    "# * color\n",
    "# * value\n",
    "\n",
    "# It should also have a description method that returns something like:\n",
    "# \"{name} is a {color} {kind} worth {value}.\"\n"
   ]
  }
 ],
 "metadata": {},
 "nbformat": 4,
 "nbformat_minor": 2
}
