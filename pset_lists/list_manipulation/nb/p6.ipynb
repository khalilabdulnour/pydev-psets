{
 "cells": [
  {
   "cell_type": "code",
   "execution_count": null,
   "metadata": {},
   "outputs": [],
   "source": [
    "\"\"\"\n",
    "Phone Numbers\n",
    "\"\"\"\n",
    "\n",
    "# Parse this phone number so that a computer can process\n",
    "# it. (Hint: It can't include any non-numeric\n",
    "# characters.)\n",
    "\n",
    "cell = '1.192.168.0143'"
   ]
  }
 ],
 "metadata": {},
 "nbformat": 4,
 "nbformat_minor": 2
}
