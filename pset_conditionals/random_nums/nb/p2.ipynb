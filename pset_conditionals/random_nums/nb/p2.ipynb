{
 "cells": [
  {
   "cell_type": "code",
   "execution_count": null,
   "metadata": {},
   "outputs": [],
   "source": [
    "\"\"\"\n",
    "Generate Phone Number w/Area Code\n",
    "\"\"\"\n",
    "\n",
    "# import python randomint package\n",
    "\n",
    "\n",
    "# generate a random phone number of the form:\n",
    "# 1-718-786-2825\n",
    "# This should be a string\n",
    "# Valid Area Codes are: 646, 718, 212\n",
    "# if phone number doesn't have [646, 718, 212]\n",
    "# as area code, pick one of the above at random\n"
   ]
  }
 ],
 "metadata": {},
 "nbformat": 4,
 "nbformat_minor": 2
}
