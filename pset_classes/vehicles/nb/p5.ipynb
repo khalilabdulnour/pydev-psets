{
 "cells": [
  {
   "cell_type": "code",
   "execution_count": null,
   "metadata": {},
   "outputs": [],
   "source": [
    "\"\"\"\n",
    "Vehicles V\n",
    "\"\"\"\n",
    "\n",
    "# Let's expand the Car class to be more comprehensive. Include attributes for...\n",
    "## brand name\n",
    "## plates\n",
    "## owner\n",
    "## fuel (e.g. gasoline, battery, etc.)\n",
    "## fuel_level (a numerical amount that defaults to 50, and max speed in MPH that defaults to None. "
   ]
  }
 ],
 "metadata": {},
 "nbformat": 4,
 "nbformat_minor": 2
}
