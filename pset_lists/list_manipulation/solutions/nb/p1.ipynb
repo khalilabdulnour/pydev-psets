{
 "cells": [
  {
   "cell_type": "code",
   "execution_count": null,
   "metadata": {},
   "outputs": [],
   "source": [
    "\"\"\"\n",
    "Phone Numbers\n",
    "\"\"\"\n",
    "\n",
    "# Parse this phone number so that a computer can process\n",
    "# it. (Hint: It can't include any non-numeric\n",
    "# characters.)\n",
    "\n",
    "cell = '1.192.168.0143'\n",
    "cell = cell.split('.')\n",
    "cell = int(''.join(cell))\n",
    "\n",
    "print(cell) # 11921680143"
   ]
  }
 ],
 "metadata": {},
 "nbformat": 4,
 "nbformat_minor": 2
}
