{
 "cells": [
  {
   "cell_type": "code",
   "execution_count": null,
   "metadata": {},
   "outputs": [],
   "source": [
    "\"\"\"\n",
    "Dogs III\n",
    "\"\"\" \n",
    "\n",
    "# A) Add an instance method to Collie called \"herd_the_kids()\" that prints \"Here are your children!\"\n",
    "\n",
    "# B) Add an instance method called \"bark()\" to Pekingese. This should override the parent method \"bark()\" such that when you call bark() on an instance of Pekingese, it prints \"Yap!\" instead.\n",
    "\n",
    "# C) Instantiate one of each breed. Access the attributes, methods, and parent methods of each one. BONUS: Aside from herd_the_kids(), you should be able to do this in a loop.\n",
    "\n",
    "\n"
   ]
  }
 ],
 "metadata": {},
 "nbformat": 4,
 "nbformat_minor": 2
}
