{
 "cells": [
  {
   "cell_type": "code",
   "execution_count": null,
   "metadata": {},
   "outputs": [],
   "source": [
    "\"\"\"\n",
    "Basic List Operations II\n",
    "\"\"\"\n",
    "\n",
    "# A) Declare a list with 5 names, and print out the length of that list.\n",
    "names = ['Alana', 'Christen', 'Priya', 'Raina', 'Stacey']\n",
    "print('A)', names)\n",
    "\n",
    "# B) Print the 3rd name on the list\n",
    "print('B)', names[2]) # Priya\n",
    "\n",
    "\n",
    "# C) Delete the first name on the list\n",
    "removed = names.pop(0)\n",
    "print('C)', removed) # Alana\n",
    "print(names) # ['Christen', 'Priya', 'Raina', 'Stacey']\n",
    "\n",
    "\n",
    "# D) Re-add the name you deleted to the end of the list\n",
    "names.append(removed)\n",
    "print('D)', names) # ['Christen', 'Priya', 'Raina', 'Stacey', 'Alana']\n",
    "\n",
    "# E) Replace the 2nd name on the list with a new name.\n",
    "names.insert(1, 'Natasha')\n",
    "print('E)', names) # ['Christen', 'Natasha', 'Priya', 'Raina', 'Stacey', 'Alana']\n",
    "\n",
    "# F) Add 3 new names to the end of the list.\n",
    "names.extend(['Christen', 'Anvesh', 'Taqqui'])\n",
    "print('F)', names) # ['Christen', 'Natasha', 'Priya', 'Raina', 'Stacey', 'Alana', 'Christen', 'Anvesh', 'Taqqui']"
   ]
  }
 ],
 "metadata": {},
 "nbformat": 4,
 "nbformat_minor": 2
}
