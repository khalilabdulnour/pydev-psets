{
 "cells": [
  {
   "cell_type": "code",
   "execution_count": null,
   "metadata": {},
   "outputs": [],
   "source": [
    "\"\"\"\n",
    "Series operations\n",
    "\"\"\"\n",
    "\n",
    "# importing pandas module\n",
    "import pandas as pd\n",
    "\n",
    "# creating a series\n",
    "data1 = pd.Series([5, 2, 3, 7], index=['a', 'b', 'c', 'd'])\n",
    "\n",
    "# creating a series\n",
    "data2 = pd.Series([1, 6, 4, 9], index=['a', 'b', 'd', 'e'])\n",
    "\n",
    "# add data1 and data2\n",
    "data1.add(data2, fill_value=0)\n",
    "\n",
    "# subtract data1 and data2\n",
    "data1.sub(data2, fill_value=0)\n"
   ]
  }
 ],
 "metadata": {},
 "nbformat": 4,
 "nbformat_minor": 2
}
