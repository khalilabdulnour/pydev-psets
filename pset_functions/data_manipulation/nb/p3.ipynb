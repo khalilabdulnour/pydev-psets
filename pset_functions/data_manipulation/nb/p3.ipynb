{
 "cells": [
  {
   "cell_type": "code",
   "execution_count": null,
   "metadata": {},
   "outputs": [],
   "source": [
    "\"\"\"\n",
    "Password Requirements\n",
    "\"\"\"\n",
    "\n",
    "# Write a Python program called \"pw_validator\" to validate a password based on the security requirements outlined below.\n",
    "\n",
    "# VALIDATION REQUIREMENTS:\n",
    "## At least 1 lowercase letter [a-z]\n",
    "## At least 1 uppercase letter [A-Z].\n",
    "## At least 1 number [0-9].\n",
    "## At least 1 special character [~!@#$%&*].\n",
    "## Min length 6 characters.\n",
    "## Max length 16 characters.\n",
    "\n"
   ]
  }
 ],
 "metadata": {},
 "nbformat": 4,
 "nbformat_minor": 2
}
