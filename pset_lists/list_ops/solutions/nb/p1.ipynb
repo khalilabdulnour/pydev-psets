{
 "cells": [
  {
   "cell_type": "code",
   "execution_count": null,
   "metadata": {},
   "outputs": [],
   "source": [
    "\"\"\"\n",
    "Basic List Operations I\n",
    "\"\"\"\n",
    "\n",
    "# A) Create a list including these five animals - elephant, tiger, otter, orangutan, and penguin.\n",
    "\n",
    "animals = ['elephant', 'tiger', 'rattlesnake', 'orangutan', 'penguin']\n",
    "print('A)', animals) # ['elephant', 'tiger', 'rattlesnake', 'orangutan', 'penguin']\n",
    "\n",
    "# B) Print the 4th animal on the list.\n",
    "print('B)', animals[3]) # orangutan\n",
    "\n",
    "\n",
    "# C) Add 'tortoise' to the beginning of the list.\n",
    "animals.insert(0,'tortoise')\n",
    "print('C)', animals) # ['tortoise', 'elephant', 'tiger', 'rattlesnake', 'orangutan', 'penguin']\n",
    "\n",
    "\n",
    "# D) Print the length of the list.\n",
    "print('D)', len(animals)) # 6\n",
    "\n",
    "\n",
    "# E) Remove 'orangutan' from the list.\n",
    "print('E)', animals.pop(4)) # orangutan\n",
    "print(animals) # ['tortoise', 'elephant', 'tiger', 'rattlesnake', 'penguin']\n",
    "\n",
    "\n",
    "# F) Sort the list alphabetically and print it out.\n",
    "print('F)', sorted(animals)) # ['elephant', 'penguin', 'rattlesnake', 'tiger', 'tortoise']\n"
   ]
  }
 ],
 "metadata": {},
 "nbformat": 4,
 "nbformat_minor": 2
}
