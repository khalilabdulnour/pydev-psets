{
 "cells": [
  {
   "cell_type": "code",
   "execution_count": null,
   "metadata": {},
   "outputs": [],
   "source": [
    "\"\"\"\n",
    "Inverting Keys & Values\n",
    "\"\"\"\n",
    "\n",
    "# import io\n",
    "# import pytest\n",
    "\n",
    "# from unittest import TestCase\n",
    "# from unittest.mock import patch\n",
    "\n",
    "\n",
    "@pytest.mark.describe('Inverting Keys & Values - XXX')\n",
    "class TestPrint(TestCase):\n",
    "\n",
    "\n",
    "@pytest.mark.describe('Inverting Keys & Values - XXX')\n",
    "class TestPrint(TestCase):\n",
    "\n",
    "\n",
    "@pytest.mark.describe('Inverting Keys & Values - XXX')\n",
    "class TestPrint(TestCase):"
   ]
  }
 ],
 "metadata": {},
 "nbformat": 4,
 "nbformat_minor": 2
}
