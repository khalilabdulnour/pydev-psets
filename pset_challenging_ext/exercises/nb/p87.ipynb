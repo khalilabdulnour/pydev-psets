{
 "cells": [
  {
   "cell_type": "code",
   "execution_count": null,
   "metadata": {},
   "outputs": [],
   "source": [
    "\"\"\"\n",
    "Please write a program to print the list after removing delete even numbers in [5,6,77,45,22,12,24].\n",
    "\"\"\"\n",
    "\n",
    "\"\"\"Please write a program to print the list after removing delete even numbers in [5,6,77,45,22,12,24].\n",
    "Hints:\n",
    "Use list comprehension to delete a bunch of element from a list.\n",
    "\n",
    "\"\"\""
   ]
  }
 ],
 "metadata": {},
 "nbformat": 4,
 "nbformat_minor": 2
}
