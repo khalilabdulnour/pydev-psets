{
 "cells": [
  {
   "cell_type": "code",
   "execution_count": null,
   "metadata": {},
   "outputs": [],
   "source": [
    "\"\"\"\n",
    "Data Organization I - Sorting a Series\n",
    "\"\"\"\n",
    "\n",
    "import numpy as np\n",
    "import pandas as pd\n",
    "wine_reviews = pd.read_csv('raw_data/winemag-data-130k.csv')\n",
    "\n",
    "# Using this Series, sort the elements alphabetically.\n",
    "\n",
    "countries = wine_reviews['country']\n",
    "\n",
    "\n",
    "\n",
    "# Using this Series, sort the elements from highest to lowest.\n",
    "\n",
    "prices = wine_reviews['price']"
   ]
  }
 ],
 "metadata": {},
 "nbformat": 4,
 "nbformat_minor": 2
}
