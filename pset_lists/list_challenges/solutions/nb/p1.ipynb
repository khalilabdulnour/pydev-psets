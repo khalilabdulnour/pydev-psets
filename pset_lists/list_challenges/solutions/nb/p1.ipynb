{
 "cells": [
  {
   "cell_type": "code",
   "execution_count": null,
   "metadata": {},
   "outputs": [],
   "source": [
    "\"\"\"\n",
    "CHALLENGE - Extensions\n",
    "\"\"\"\n",
    "\n",
    "# ** Challenge** Add each element of the tuple1 to list1 *individually* and print the result.\n",
    "\n",
    "list1 = [6, 12, 9, 4, 10, 1]\n",
    "tuples = [(15,3), (6,2), (1, 8)]\n",
    "\n",
    "list2 = []\n",
    "list2.extend(tuple1[0])\n",
    "list2.extend(tuple1[1])\n",
    "list2.extend(tuple1[2])\n",
    "\n",
    "\n",
    "list1.extend(list2)\n",
    "print(list1)\n",
    "\n"
   ]
  }
 ],
 "metadata": {},
 "nbformat": 4,
 "nbformat_minor": 2
}
