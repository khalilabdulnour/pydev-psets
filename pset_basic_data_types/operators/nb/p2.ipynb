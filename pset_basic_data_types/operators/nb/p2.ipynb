{
 "cells": [
  {
   "cell_type": "code",
   "execution_count": null,
   "metadata": {},
   "outputs": [],
   "source": [
    "\"\"\"\n",
    "String Operators\n",
    "\"\"\"\n",
    "\n",
    "# Create two variables, each of which is half of a compound sentence. Do NOT add any punctuation up front. Add the two variables together, and print the result.\n",
    "## Example compound sentence: \"I'll go to the beach today, and I'll go snorkeling.\" "
   ]
  }
 ],
 "metadata": {},
 "nbformat": 4,
 "nbformat_minor": 2
}
