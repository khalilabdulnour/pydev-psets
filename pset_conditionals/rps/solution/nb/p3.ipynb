{
 "cells": [
  {
   "cell_type": "code",
   "execution_count": null,
   "metadata": {},
   "outputs": [],
   "source": [
    "\"\"\"\n",
    "Play RPS w/Input\n",
    "\"\"\"\n",
    "\n",
    "p1 = input('player 1 choice: ')  # from user input\n",
    "p2 = input('player 2 choice: ')  # from user input\n",
    "\n",
    "if p1 == p2:\n",
    "    print(0)\n",
    "elif p1 == 'r' and p2 == 's':\n",
    "    print(1)\n",
    "elif p1 == 'r' and p2 == 'p':\n",
    "    print(2)\n",
    "elif p1 == 'p' and p2 == 's':\n",
    "    print(2)\n",
    "elif p1 == 'p' and p2 == 'r':\n",
    "    print(1)\n",
    "elif p1 == 's' and p2 == 'r':\n",
    "    print(2)\n",
    "elif p1 == 's' and p2 == 'p':\n",
    "    print(1)\n",
    "\n",
    "# Given a p1 and p2\n",
    "# print 1 if p1 has won\n",
    "# print 2 if p2 has won\n",
    "# print 0 if tie\n",
    "# print -1 if invalid input\n",
    "# expects both p1 and p2 inputs to be either\n",
    "# \"r\", \"p\", or \"s\"\n"
   ]
  }
 ],
 "metadata": {},
 "nbformat": 4,
 "nbformat_minor": 2
}
