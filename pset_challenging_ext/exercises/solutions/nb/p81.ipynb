{
 "cells": [
  {
   "cell_type": "code",
   "execution_count": null,
   "metadata": {},
   "outputs": [],
   "source": [
    "\"\"\"\n",
    "\n",
    "\"\"\"\n",
    "\n",
    "\"\"\"\n",
    "Question:\n",
    "Please write a program to randomly print a integer number between 7 and 15 inclusive.\n",
    "Hints:\n",
    "Use random.randrange() to a random integer in a given range.\n",
    "\n",
    "\"\"\"\n",
    "import random\n",
    "print random.randrange(7,16)\n"
   ]
  }
 ],
 "metadata": {},
 "nbformat": 4,
 "nbformat_minor": 2
}
