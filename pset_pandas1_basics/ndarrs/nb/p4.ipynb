{
 "cells": [
  {
   "cell_type": "code",
   "execution_count": null,
   "metadata": {},
   "outputs": [],
   "source": [
    "\"\"\"\n",
    "basic operations\n",
    "\"\"\"\n",
    "\n",
    "import numpy as np\n",
    "\n",
    "a = np.array([1, 2, 5, 3])\n",
    "\n",
    "# add 1 to every element\n",
    "a = None\n",
    "print(\"Adding 1 to every element:\", a)\n",
    "\n",
    "# subtract 3 from each element\n",
    "b = None\n",
    "print(\"Subtracting 3 from each element:\", b)\n",
    "\n",
    "# multiply each element by 10\n",
    "c = None\n",
    "print(\"Multiplying each element by 10:\", c)\n",
    "\n",
    "# square each element\n",
    "d = None\n",
    "print(\"Squaring each element:\", d)\n",
    "\n",
    "# Doubled each element of original array\n",
    "print(\"Doubled each element of original array:\", arr)\n"
   ]
  }
 ],
 "metadata": {},
 "nbformat": 4,
 "nbformat_minor": 2
}
