{
 "cells": [
  {
   "cell_type": "code",
   "execution_count": null,
   "metadata": {},
   "outputs": [],
   "source": [
    "\"\"\"\n",
    "Basic Login\n",
    "\"\"\"\n",
    "\n",
    "# Imagine you work for a movie streaming service. You're in charge of safeguarding user privacy by ensuring the login feature remains secure. For the sake of example only, below is the dict of user login info. Normally, you wouldn't have access to see this unencrypted of course!\n",
    "\n",
    "users = {\n",
    "\t'person@email.com': 'PassWord',\n",
    "\t'someone@email.com': 'hiitsme',\n",
    "\t'me@email.com': 'myPassword',\n",
    "\t'anyone@email.com': 'IMawesome',\n",
    "\t'guy@email.com': 'pa$$wordz'\n",
    "\t# etc\n",
    "}\n",
    "\n",
    "\n",
    "# A user enters the below login info (email and password) for your app. Search your database of user logins to see if this account exists and if the password matches what you have on file. If the login credentials are correct, print \"Successful login!\". Otherwise, print \"The login info you entered does not match any of our records.\"\n",
    "\n",
    "current_user = { 'me@email.com': 'myPassword' }"
   ]
  }
 ],
 "metadata": {},
 "nbformat": 4,
 "nbformat_minor": 2
}
