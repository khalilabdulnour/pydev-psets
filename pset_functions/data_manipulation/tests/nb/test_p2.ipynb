{
 "cells": [
  {
   "cell_type": "code",
   "execution_count": null,
   "metadata": {},
   "outputs": [],
   "source": [
    "\"\"\"\n",
    "Clean Pairs\n",
    "\"\"\"\n",
    "\n",
    "import io\n",
    "import pytest\n",
    "from unittest import TestCase\n",
    "from unittest.mock import patch\n",
    "\n",
    "import math\n",
    "from p2 import *\n",
    "\n",
    "\n",
    "@pytest.mark.describe('it returns True if every item in list is a tuple')\n",
    "def test_cleaner():\n",
    "\tpairs = [('a','b'),('c - d'),('e & f')]\n",
    "\tclean_pairs = cleaner(pairs)\n",
    "\n",
    "\tfor i in clean_pairs:\n",
    "\t\tassert isinstance(i,tuple) == True\n",
    "\n",
    "@pytest.mark.describe('it returns True if every item in list has length 2')\n",
    "def test_cleaner():\n",
    "\tpairs = [('a','b'),('c - d'),('e & f')]\n",
    "\tclean_pairs = cleaner(pairs)\n",
    "\t\n",
    "\tfor i in clean_pairs:\n",
    "\t\tassert len(i) == 2"
   ]
  }
 ],
 "metadata": {},
 "nbformat": 4,
 "nbformat_minor": 2
}
