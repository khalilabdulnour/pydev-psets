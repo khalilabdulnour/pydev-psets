{
 "cells": [
  {
   "cell_type": "code",
   "execution_count": null,
   "metadata": {},
   "outputs": [],
   "source": [
    "\"\"\"\n",
    "Inverting Keys & Values - SOLUTION\n",
    "\"\"\"\n",
    "\n",
    "# Invert dict1 - make the current keys into values and the current values into keys.\n",
    "\n",
    "\n",
    "dict1 = { \"k1\" : \"v1\", \"k2\" : \"v2\", \"k3\" : \"v1\" }\n",
    "\n",
    "a = dict1.keys()\n",
    "b = dict1.values()\n",
    "\n",
    "dict1 = dict(zip(b, a))\n",
    "\n",
    "\n",
    "print(dict1)\n",
    "# {'v1': 'k3', 'v2': 'k2'}\n",
    "\n"
   ]
  }
 ],
 "metadata": {},
 "nbformat": 4,
 "nbformat_minor": 2
}
