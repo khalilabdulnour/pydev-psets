{
 "cells": [
  {
   "cell_type": "code",
   "execution_count": null,
   "metadata": {},
   "outputs": [],
   "source": [
    "\"\"\"\n",
    "Control Flow II\n",
    "\"\"\"\n",
    "\n",
    "# Write a Python program that prints all the numbers from 0 to 6 except 3 and 6. Note : Use 'continue' statement. \n",
    "\n",
    "for i in range(6):\n",
    "    if (i == 3 or i ==6):\n",
    "        continue\n",
    "    print(i,end=' ')\n",
    "print(\"\\n\")"
   ]
  }
 ],
 "metadata": {},
 "nbformat": 4,
 "nbformat_minor": 2
}
