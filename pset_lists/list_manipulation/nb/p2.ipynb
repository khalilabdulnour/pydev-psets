{
 "cells": [
  {
   "cell_type": "code",
   "execution_count": null,
   "metadata": {},
   "outputs": [],
   "source": [
    "\"\"\"\n",
    "Basic Math Ops\n",
    "\"\"\"\n",
    "\n",
    "# Given the list below, assign the correct values to the variables below.\n",
    "\t# my_sum = \n",
    "\t# my_min = \n",
    "\t# my_max = \n",
    "\t# my_range = \n",
    "\t# my_mean =\n",
    "\n",
    "nums = [2, 19, 20, 12, 6, 24, 8, 30, 28, 25]\n",
    "\n",
    "\n",
    "# Once you finish, print out each value **on its own line** in this format: \"my_median = \" etc.\n",
    "\n"
   ]
  }
 ],
 "metadata": {},
 "nbformat": 4,
 "nbformat_minor": 2
}
