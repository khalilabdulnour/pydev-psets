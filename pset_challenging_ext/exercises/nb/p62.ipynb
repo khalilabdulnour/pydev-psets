{
 "cells": [
  {
   "cell_type": "code",
   "execution_count": null,
   "metadata": {},
   "outputs": [],
   "source": [
    "\"\"\"\n",
    "Write a program to read an ASCII string and to convert it to a unicode string encoded by utf-8.\n",
    "\"\"\"\n",
    "\n",
    "\"\"\"Write a program to read an ASCII string and to convert it to a unicode string encoded by utf-8.\n",
    "Hints:\n",
    "Use unicode() function to convert.\n",
    "\n",
    "\"\"\""
   ]
  }
 ],
 "metadata": {},
 "nbformat": 4,
 "nbformat_minor": 2
}
