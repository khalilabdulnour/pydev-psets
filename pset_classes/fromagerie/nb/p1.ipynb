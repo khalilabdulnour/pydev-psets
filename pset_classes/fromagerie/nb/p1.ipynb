{
 "cells": [
  {
   "cell_type": "code",
   "execution_count": null,
   "metadata": {},
   "outputs": [],
   "source": [
    "\"\"\"\n",
    "Fromagerie I - Create Inventory\n",
    "\"\"\"\n",
    "\n",
    "# For the problems in this set, imagine you own a fromagerie (a cheese shop). Write and call function called \"create_inventory\". Use the list of cheeses below. For each cheese, the function should generate variables for SKU, stock, retail_price, and wholesale_price. (Make sure retail_price > wholesale_price!) Store this info for each cheese in a newly created dict called \"inventory\" and return that dict from the function.\n",
    "\n",
    "# *NOTES* To make life easier...\n",
    "# Use the SKU format 'DRY' followed by 4 digits. The whole thing should be a string.\n",
    "# The prices can be integers to avoid rounding decimals.\n",
    "\n",
    "cheese_types = [\n",
    "'brie',\n",
    "'feta',\n",
    "'cheddar',\n",
    "'mozzarella',\n",
    "'ricotta',\n",
    "'provolone',\n",
    "'gruyere',\n",
    "'pecorino romano',\n",
    "'parmigiano reggiano',\n",
    "'gorgonzola',\n",
    "'pepper jack',\n",
    "'gouda',\n",
    "'asiago',\n",
    "'mascarpone',\n",
    "'cotija',\n",
    "'manchego'\n",
    "]"
   ]
  }
 ],
 "metadata": {},
 "nbformat": 4,
 "nbformat_minor": 2
}
