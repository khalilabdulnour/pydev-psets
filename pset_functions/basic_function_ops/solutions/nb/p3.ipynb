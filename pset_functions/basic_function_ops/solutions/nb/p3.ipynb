{
 "cells": [
  {
   "cell_type": "code",
   "execution_count": null,
   "metadata": {},
   "outputs": [],
   "source": [
    "\"\"\"\n",
    "Function Basics III - Default Arguments\n",
    "\"\"\"\n",
    "\n",
    "# Now write a and call function called \"fave_colors\" that separately intakes a person's first name, a person's last name, and **optionally** their favorite color.\n",
    "\n",
    "# The function should create and return a dict with the full name as a key and the favorite color as the value. If the person does not enter a favorite color, you should assume they have no favorite color and assign theirs to None. Try both use cases.\n",
    "\n",
    "def fave_colors(first,last,color=None):\n",
    "\tfull_name = first + ' ' + last\n",
    "\tfave_colors = {full_name: color}\n",
    "\n",
    "\treturn fave_colors\n",
    "\n",
    "taq = fave_colors('Taq','Karim','blue')\n",
    "ricardo = fave_colors('Ricardo','Galbis')\n",
    "\n",
    "print(taq,'\\n',ricardo)\n",
    "# {'Taq Karim': 'blue'}\n",
    "# {'Ricardo Galbis': None}"
   ]
  }
 ],
 "metadata": {},
 "nbformat": 4,
 "nbformat_minor": 2
}
