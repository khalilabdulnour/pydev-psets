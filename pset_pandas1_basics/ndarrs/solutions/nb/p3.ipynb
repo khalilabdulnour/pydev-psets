{
 "cells": [
  {
   "cell_type": "code",
   "execution_count": null,
   "metadata": {},
   "outputs": [],
   "source": [
    "\"\"\"\n",
    "ndarray indexing\n",
    "\"\"\"\n",
    "\n",
    "\n",
    "import numpy as np\n",
    "# given this\n",
    "arr = np.array([[-1, 2, 0, 4],\n",
    "                [4, -0.5, 6, 0],\n",
    "                [2.6, 0, 7, 8],\n",
    "                [3, -7, 4, 2.0]])\n",
    "\n",
    "# grab first two rows of arr\n",
    "a = arr[:2]\n",
    "\n",
    "# grab second and third row of arr\n",
    "b = arr[1:3]\n",
    "\n",
    "# grab first two rows of arr and first two columns\n",
    "c = arr[:2, :2]\n",
    "\n",
    "# grab elements at indices (0, 3), (1, 2), (2, 1), (3, 0)\n",
    "d = arr[[0, 1, 2, 3], [3, 2, 1, 0]]\n",
    "\n",
    "\n",
    "# grab elements > 0\n",
    "cond = arr > 0  # cond is a boolean array\n",
    "e = arr[cond]\n"
   ]
  }
 ],
 "metadata": {},
 "nbformat": 4,
 "nbformat_minor": 2
}
