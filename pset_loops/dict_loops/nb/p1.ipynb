{
 "cells": [
  {
   "cell_type": "code",
   "execution_count": null,
   "metadata": {},
   "outputs": [],
   "source": [
    "\"\"\"\n",
    "Contacts\n",
    "\"\"\"\n",
    "\n",
    "# You went to a conference and got people to sign up for text updates from your startup. Go through this dict to make the phone numbers readable to a computer. \n",
    "\n",
    "# Hint: It can't include any non-numeric\n",
    "# characters.\n",
    "\n",
    "contacts = {\n",
    "\t'Jamie': '1.192.168.0143',\n",
    "\t'Kartik': '1.837.209.1121',\n",
    "\t'Grant': '1.826.386.1758',\n",
    "\t'Brandon': '1.935.297.9447',\n",
    "\t'Monique': '1.702.716.5353',\n",
    "\t'Sohom': '1.576.619.6100',\n",
    "}\n"
   ]
  }
 ],
 "metadata": {},
 "nbformat": 4,
 "nbformat_minor": 2
}
