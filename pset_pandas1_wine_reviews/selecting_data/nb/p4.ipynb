{
 "cells": [
  {
   "cell_type": "code",
   "execution_count": null,
   "metadata": {},
   "outputs": [],
   "source": [
    "\"\"\"\n",
    "Selecting Data IV - Access Slices\n",
    "\"\"\"\n",
    "\n",
    "import numpy as np\n",
    "import pandas as pd\n",
    "wine_reviews = pd.read_csv('../winemag-data-130k.csv')\n",
    "\n",
    "\n",
    "# Print first 3 values in the 'province' column.\n",
    "\n",
    "\n",
    "\n",
    "# Create a Series called \"provinces\" and print the first 3 values.\n",
    "\n"
   ]
  }
 ],
 "metadata": {},
 "nbformat": 4,
 "nbformat_minor": 2
}
