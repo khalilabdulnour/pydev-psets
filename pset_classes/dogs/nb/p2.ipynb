{
 "cells": [
  {
   "cell_type": "code",
   "execution_count": null,
   "metadata": {},
   "outputs": [],
   "source": [
    "\"\"\"\n",
    "Dogs II\n",
    "\"\"\" \n",
    "\n",
    "# Create child class for 3 dog breeds - Collie, Siberian Husky, and Pekingese. Each should have:\n",
    "## 2 class attributes for \"breed\" and \"temperament\". The latter should be a list.\n",
    "## 3 instance attributes for \"name\", \"age\", and \"gender\".\n",
    "\n"
   ]
  }
 ],
 "metadata": {},
 "nbformat": 4,
 "nbformat_minor": 2
}
