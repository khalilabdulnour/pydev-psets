{
 "cells": [
  {
   "cell_type": "code",
   "execution_count": null,
   "metadata": {},
   "outputs": [],
   "source": [
    "\"\"\"\n",
    "Prime Numbers I - SOLUTION\n",
    "\"\"\"\n",
    "\n",
    "# Check if a number input by a user is prime or not. If it is NOT a prime number, print out that it is not a prime number. If it IS a prime number, print out that it is a prime number and give an example of two of its factors. Hint: Prime numbers must be greater than 1.\n",
    "\n",
    "# Example of output for a NON-prime:\n",
    "# 12 is not a prime number\n",
    "# For example, 2 x 6 = 12\n",
    "\n",
    "user_input = input(\"Enter a number to check if it's prime: \")\n",
    "num = int(user_input)\n",
    "\n",
    "if num > 1:\n",
    "   for i in range(2,num):\n",
    "       if (num % i) == 0:\n",
    "           print(f'{num} is not a prime number.')\n",
    "           print(f'For example, {i} x {num//i} = {num}.')\n",
    "           break\n",
    "   else:\n",
    "       print(f'{num} is a prime number.')\n",
    "else:\n",
    "   print(f'{num} is a prime number.')"
   ]
  }
 ],
 "metadata": {},
 "nbformat": 4,
 "nbformat_minor": 2
}
