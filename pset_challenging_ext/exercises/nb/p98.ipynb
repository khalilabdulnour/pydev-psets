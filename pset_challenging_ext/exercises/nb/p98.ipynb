{
 "cells": [
  {
   "cell_type": "code",
   "execution_count": null,
   "metadata": {},
   "outputs": [],
   "source": [
    "\"\"\"\n",
    "\n",
    "\"\"\"\n",
    "\n",
    "\"\"\"\n",
    "Question:\n",
    "Please write a program which accepts a string from console and print the characters that have even indexes.\n",
    "Example:\n",
    "If the following string is given as input to the program:\n",
    "H1e2l3l4o5w6o7r8l9d\n",
    "Then, the output of the program should be:\n",
    "Helloworld\n",
    "Hints:\n",
    "Use list[::2] to iterate a list by step 2.\n",
    "\n",
    "\"\"\""
   ]
  }
 ],
 "metadata": {},
 "nbformat": 4,
 "nbformat_minor": 2
}
