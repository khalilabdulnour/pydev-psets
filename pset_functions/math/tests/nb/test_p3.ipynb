{
 "cells": [
  {
   "cell_type": "code",
   "execution_count": null,
   "metadata": {},
   "outputs": [],
   "source": [
    "\"\"\"\n",
    "Multiples\n",
    "\"\"\"\n",
    "\n",
    "import io\n",
    "import pytest\n",
    "from unittest import TestCase\n",
    "from unittest.mock import patch\n",
    "from p3 import *\n",
    "\n",
    "@pytest.mark.describe('it returns 0 if both num1 and num2 each > limit')\n",
    "def test_sum_multiples():\n",
    "\tassert sum_multiples(9,21,6) == 0\n",
    "\n",
    "\n",
    "\n",
    "@pytest.mark.describe('it returns the sum of factors of either num1 or num2 if the other > limit')\n",
    "def test_sum_multiples():\n",
    "\tassert sum_multiples(3,17,12) == 30\n",
    "\tassert sum_multiples(17,3,12) == 30\n",
    "\n",
    "\n",
    "@pytest.mark.describe('it returns the sum of factors of both num1 & num2 if both < limit')\n",
    "def test_sum_multiples():\n",
    "\tassert sum_multiples(4,9,21) == 87"
   ]
  }
 ],
 "metadata": {},
 "nbformat": 4,
 "nbformat_minor": 2
}
