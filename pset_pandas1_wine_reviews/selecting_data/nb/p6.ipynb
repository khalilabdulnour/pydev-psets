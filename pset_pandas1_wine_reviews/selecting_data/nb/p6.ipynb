{
 "cells": [
  {
   "cell_type": "code",
   "execution_count": null,
   "metadata": {},
   "outputs": [],
   "source": [
    "\"\"\"\n",
    "Selecting Data VI - Min & Max (CHALLENGE!)\n",
    "\"\"\"\n",
    "\n",
    "import numpy as np\n",
    "import pandas as pd\n",
    "wine_reviews = pd.read_csv('../winemag-data-130k.csv')\n",
    "\n",
    "\n",
    "# Find the 5 rows with the highest-priced wine and the 5 rows with the lowest-priced wine. Assign them to variables called 'a' and 'b' respectively. Print 'a' and 'b'.\n",
    "\n",
    "\n",
    "\n",
    "# Create a function to print out the variety and price of some number of the most and least expensive wines. Hints:\n",
    "### It should contain loops\n",
    "### The number function should take any number for finding the highest and lowest priced wines (e.g. top and bottom 5, top and bottom 10, etc.)\n",
    "### If you're iterating through a 2 column dataframe item by item, remember the counting goes like this:\n",
    "\"\"\"\n",
    "[0,0], [0,1]\n",
    "[1,0], [1,1]\n",
    "[2,0], [2,1]\n",
    "[3,0], [3,1]\n",
    "[4,0], [4,1]\n",
    "\"\"\"\n",
    "\n"
   ]
  }
 ],
 "metadata": {},
 "nbformat": 4,
 "nbformat_minor": 2
}
