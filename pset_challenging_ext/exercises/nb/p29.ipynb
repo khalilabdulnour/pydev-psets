{
 "cells": [
  {
   "cell_type": "code",
   "execution_count": null,
   "metadata": {},
   "outputs": [],
   "source": [
    "\"\"\"\n",
    "Define a function that can receive two integral numbers in string form and compute their sum and then print it in console.\n",
    "\"\"\"\n",
    "\n",
    "\"\"\"Question:\n",
    "Define a function that can receive two integral numbers in string form and compute their sum and then print it in console.\n",
    "Hints:\n",
    "Use int() to convert a string to integer.\n",
    "\n",
    "\"\"\""
   ]
  }
 ],
 "metadata": {},
 "nbformat": 4,
 "nbformat_minor": 2
}
