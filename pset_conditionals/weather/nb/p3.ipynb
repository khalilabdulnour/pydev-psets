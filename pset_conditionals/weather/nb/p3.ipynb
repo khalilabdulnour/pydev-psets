{
 "cells": [
  {
   "cell_type": "code",
   "execution_count": null,
   "metadata": {},
   "outputs": [],
   "source": [
    "\"\"\"\n",
    "Weather III - Describe Conditions\n",
    "\"\"\"\n",
    "\n",
    "# Repeat the same process as p1, using this new set of variables.\n",
    "\n",
    "\n",
    "is_it_warm = True\n",
    "is_it_humid = True\n",
    "is_it_cold = False\n",
    "is_it_icy = False\n",
    "is_it_foggy = False\n",
    "is_it_windy = False\n",
    "is_it_overcast = True\n",
    "\n",
    "\n",
    "is_it_summer_weather = None\n",
    "is_rain_coming = None\n",
    "is_it_muggy = None\n",
    "do_i_need_coat = None\n",
    "\n"
   ]
  }
 ],
 "metadata": {},
 "nbformat": 4,
 "nbformat_minor": 2
}
