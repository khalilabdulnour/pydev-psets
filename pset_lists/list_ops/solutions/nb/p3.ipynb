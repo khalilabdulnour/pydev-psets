{
 "cells": [
  {
   "cell_type": "code",
   "execution_count": null,
   "metadata": {},
   "outputs": [],
   "source": [
    "\"\"\"\n",
    "Math Operations\n",
    "\"\"\"\n",
    "\n",
    "# A) Save a list with the numbers `2`, `4`, `6`, and `8` into a variable called `numbers`. Use this variable for all the problems in this PSET.\n",
    "\n",
    "numbers = [2, 4, 6, 8]\n",
    "print('A)', numbers)\n",
    "\n",
    "# B) Print the max of `numbers`.\n",
    "print('B)', max(numbers)) # 8\n",
    "\n",
    "\n",
    "# C) Pop the last element in `numbers` off; re-insert it at index `2` and print the resultant list.\n",
    "removed = numbers.pop()\n",
    "numbers.insert(2, removed)\n",
    "print('C)', numbers) # [2, 4, 8, 6]\n",
    "\n",
    "\n",
    "# D) Pop the second number in `numbers` off.\n",
    "print('D)', numbers.pop(1)) # 4\n",
    "\n",
    "\n",
    "# E) Append `3` to `numbers`.\n",
    "numbers.append(3)\n",
    "print('E)', numbers) # [2, 8, 6, 3]\n",
    "\n",
    "\n",
    "# F) Print out the average number.\n",
    "avg = sum(numbers) / len(numbers)\n",
    "print('F)', avg) # 4.75"
   ]
  }
 ],
 "metadata": {},
 "nbformat": 4,
 "nbformat_minor": 2
}
