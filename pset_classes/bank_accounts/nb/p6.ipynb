{
 "cells": [
  {
   "cell_type": "code",
   "execution_count": null,
   "metadata": {},
   "outputs": [],
   "source": [
    "\"\"\"\n",
    "Bank Accounts VI - Account Activity\n",
    "\"\"\"\n",
    "\n",
    "# Create a method called \"acc_activity\" within the Account class. For each transaction made in an account, this method should print out the account number, the starting balance, the type of transaction, the value of the transaction, and the ending balance. It should look something like this:\n",
    "\n",
    "\"\"\"\n",
    "Account: 554951\n",
    "Starting Balance: $20000\n",
    "Outgoing Transfer: (-1750) --> or Deposit: +1500\n",
    "Ending Balance: $18250\n",
    "\"\"\"\n",
    "\n",
    "# Call this method on each type of account after completing at least one transaction for each.\n",
    "\n"
   ]
  }
 ],
 "metadata": {},
 "nbformat": 4,
 "nbformat_minor": 2
}
