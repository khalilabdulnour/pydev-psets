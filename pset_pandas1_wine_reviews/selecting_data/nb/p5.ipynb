{
 "cells": [
  {
   "cell_type": "code",
   "execution_count": null,
   "metadata": {},
   "outputs": [],
   "source": [
    "\"\"\"\n",
    "Selecting Data V - Subsets\n",
    "\"\"\"\n",
    "\n",
    "import numpy as np\n",
    "import pandas as pd\n",
    "wine_reviews = pd.read_csv('../winemag-data-130k.csv')\n",
    "\n",
    "# Create a new dataframe called \"wine_ratings\" that is a subset of wine_reviews. It should have these columns in this order:\n",
    "### title\n",
    "### country\n",
    "### points\n",
    "### price"
   ]
  }
 ],
 "metadata": {},
 "nbformat": 4,
 "nbformat_minor": 2
}
