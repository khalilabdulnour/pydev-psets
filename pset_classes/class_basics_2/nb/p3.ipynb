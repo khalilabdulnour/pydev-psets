{
 "cells": [
  {
   "cell_type": "code",
   "execution_count": null,
   "metadata": {},
   "outputs": [],
   "source": [
    "\"\"\"\n",
    "Student class\n",
    "\"\"\"\n",
    "\n",
    "# Create a Student class and initialize it with name and roll number. Make methods to :\n",
    "# 1. Display - It should display all informations of the student.\n",
    "# 2. setAge - It should assign age to student\n",
    "# 3. setMarks - It should assign marks to the student.\n"
   ]
  }
 ],
 "metadata": {},
 "nbformat": 4,
 "nbformat_minor": 2
}
