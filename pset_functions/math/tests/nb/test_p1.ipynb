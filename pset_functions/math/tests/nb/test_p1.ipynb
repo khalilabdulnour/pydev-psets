{
 "cells": [
  {
   "cell_type": "code",
   "execution_count": null,
   "metadata": {},
   "outputs": [],
   "source": [
    "\"\"\"\n",
    "Simple Interest Calculator\n",
    "\"\"\"\n",
    "\n",
    "import io\n",
    "import pytest\n",
    "from unittest import TestCase\n",
    "from unittest.mock import patch\n",
    "\n",
    "import math\n",
    "from p1 import *\n",
    "\n",
    "\n",
    "@pytest.mark.describe('it returns correct value for the interest accrued')\n",
    "def test_simple_interest():\n",
    "\tp = 1500\n",
    "\tr = 2.4\n",
    "\tt = 60\n",
    "\n",
    "\ta, b = simple_interest(p,r,t)\n",
    "\tassert a == 15.62\n",
    "\n",
    "@pytest.mark.describe('it returns correct value for the interest accrued')\n",
    "def test_simple_interest():\n",
    "\tp = 1500\n",
    "\tr = 2.4\n",
    "\tt = 60\n",
    "\n",
    "\ta, b = simple_interest(p,r,t)\n",
    "\tassert b == 1515.62\n",
    "\n",
    "\n",
    "\n",
    "\n"
   ]
  }
 ],
 "metadata": {},
 "nbformat": 4,
 "nbformat_minor": 2
}
