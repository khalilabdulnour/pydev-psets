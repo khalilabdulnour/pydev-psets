{
 "cells": [
  {
   "cell_type": "code",
   "execution_count": null,
   "metadata": {},
   "outputs": [],
   "source": [
    "\"\"\"\n",
    "Factors\n",
    "\"\"\"\n",
    "\n",
    "# Find all factors of a number that a user inputs and print out 'The factors of <the_user_input_number> are: '.\n",
    "\n",
    "user_input = input('Enter a number to find its factors: ')\n"
   ]
  }
 ],
 "metadata": {},
 "nbformat": 4,
 "nbformat_minor": 2
}
