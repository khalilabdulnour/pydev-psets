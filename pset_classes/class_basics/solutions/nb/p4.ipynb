{
 "cells": [
  {
   "cell_type": "code",
   "execution_count": null,
   "metadata": {},
   "outputs": [],
   "source": [
    "\"\"\"\n",
    "Circle\n",
    "\"\"\"\n",
    "\n",
    "# Write a Python class named \"Circle\" constructed by a radius value and a class attribute for pi. You can use 3.14159 for the value of pi for simplicity. It should include two methods to calculate the \"area\" and the \"perimeter\" of a circle. Instantiate a Circle and call both methods.\n",
    "\n",
    "\n",
    "class Circle():\n",
    "    def __init__(self, r):\n",
    "        self.radius = r\n",
    "\n",
    "    pi = 3.14159\n",
    "\n",
    "    def area(self):\n",
    "        return self.radius**2*self.pi\n",
    "    \n",
    "    def perimeter(self):\n",
    "        return 2*self.radius*self.pi\n",
    "\n",
    "circle1 = Circle(12)\n",
    "print(circle1.area()) # 380.13239\n",
    "print(circle1.perimeter()) # 69.11498"
   ]
  }
 ],
 "metadata": {},
 "nbformat": 4,
 "nbformat_minor": 2
}
