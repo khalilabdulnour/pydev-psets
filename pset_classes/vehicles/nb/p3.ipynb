{
 "cells": [
  {
   "cell_type": "code",
   "execution_count": null,
   "metadata": {},
   "outputs": [],
   "source": [
    "\"\"\"\n",
    "Vehicles III\n",
    "\"\"\"\n",
    "\n",
    "# For Car, define a method called \"honk_horn()\" that prints \"HONK!\"\n",
    "# For Plane, define a method called \"take_off()\" that prints \"Fasten your seatbelts!\"\n",
    "# For Boat, define a method called \"drop_achor()\" that prints \"Anchors away!\""
   ]
  }
 ],
 "metadata": {},
 "nbformat": 4,
 "nbformat_minor": 2
}
