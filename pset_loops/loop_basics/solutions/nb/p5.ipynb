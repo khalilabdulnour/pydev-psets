{
 "cells": [
  {
   "cell_type": "code",
   "execution_count": null,
   "metadata": {},
   "outputs": [],
   "source": [
    "\"\"\"\n",
    "Factors - SOLUTION\n",
    "\"\"\"\n",
    "\n",
    "# Find all factors of a number that a user inputs.\n",
    "\n",
    "user_input = input(\"Enter a number to find its factors: \")\n",
    "a = int(user_input)\n",
    "\n",
    "print(f'The factors of {a} are: ')\n",
    "\n",
    "for i in range(1, a + 1):\n",
    "  if a % i == 0:\n",
    "    print(i)"
   ]
  }
 ],
 "metadata": {},
 "nbformat": 4,
 "nbformat_minor": 2
}
