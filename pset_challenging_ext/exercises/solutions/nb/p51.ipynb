{
 "cells": [
  {
   "cell_type": "code",
   "execution_count": null,
   "metadata": {},
   "outputs": [],
   "source": [
    "\"\"\"\n",
    "Define a class named American and its subclass NewYorker. \n",
    "\"\"\"\n",
    "\n",
    "\"\"\"Question:\n",
    "Define a class named American and its subclass NewYorker. \n",
    "Hints:\n",
    "Use class Subclass(ParentClass) to define a subclass.\n",
    "\n",
    "\"\"\"\n",
    "class American(object):\n",
    "    pass\n",
    "class NewYorker(American):\n",
    "    pass\n",
    "anAmerican = American()\n",
    "aNewYorker = NewYorker()\n",
    "print anAmerican\n",
    "print aNewYorker\n"
   ]
  }
 ],
 "metadata": {},
 "nbformat": 4,
 "nbformat_minor": 2
}
