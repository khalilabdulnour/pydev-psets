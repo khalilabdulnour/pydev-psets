{
 "cells": [
  {
   "cell_type": "code",
   "execution_count": null,
   "metadata": {},
   "outputs": [],
   "source": [
    "\"\"\"\n",
    "Bank Accounts III - Savings Accounts\n",
    "\"\"\"\n",
    "\n",
    "# Create a \"SavingsAccount\" class that inherits from the general Account class. It should have its own \"int_rate\" as a class attribute. Create at least once instance of SavingsAccount and call both the deposit() method from its parent class on it."
   ]
  }
 ],
 "metadata": {},
 "nbformat": 4,
 "nbformat_minor": 2
}
