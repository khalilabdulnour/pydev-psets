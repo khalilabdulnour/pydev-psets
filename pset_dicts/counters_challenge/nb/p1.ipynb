{
 "cells": [
  {
   "cell_type": "code",
   "execution_count": null,
   "metadata": {},
   "outputs": [],
   "source": [
    "\"\"\"\n",
    "Word Frequency\n",
    "\"\"\"\n",
    "\n",
    "from collections import Counter\n",
    "\n",
    "# Print out the number of words in this movie quote. Find and print out the most common word in the quote and how many times it was used.\n",
    "### Hint: You do not need a loop for this. Look up the Counter docs in python3.\n",
    "\n",
    "princess_bride = [\n",
    "'Hello', 'my', 'name', 'is', 'Inigo', 'Montoya',\n",
    "'You', 'killed', 'my', 'father',\n",
    "'Prepare', 'to', 'die'\n",
    "]\n",
    "\n",
    "### fave_word = \n",
    "\n",
    "# p.s. You might use this to help analyze the most common topic in comments or reviews from your users to help understand the best places to improve you product."
   ]
  }
 ],
 "metadata": {},
 "nbformat": 4,
 "nbformat_minor": 2
}
