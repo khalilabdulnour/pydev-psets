{
 "cells": [
  {
   "cell_type": "code",
   "execution_count": null,
   "metadata": {},
   "outputs": [],
   "source": [
    "\"\"\"\n",
    "Print a unicode string \"hello world\".\n",
    "\"\"\"\n",
    "\n",
    "\"\"\"Question:\n",
    "Print a unicode string \"hello world\".\n",
    "Hints:\n",
    "Use u'strings' format to define unicode string.\n",
    "\n",
    "\"\"\""
   ]
  }
 ],
 "metadata": {},
 "nbformat": 4,
 "nbformat_minor": 2
}
