{
 "cells": [
  {
   "cell_type": "code",
   "execution_count": null,
   "metadata": {},
   "outputs": [],
   "source": [
    "\"\"\"\n",
    "Define a custom exception class which takes a string message as attribute.\n",
    "\"\"\"\n",
    "\n",
    "\"\"\"Define a custom exception class which takes a string message as attribute.\n",
    "Hints:\n",
    "To define a custom exception, we need to define a class inherited from Exception.\n",
    "\n",
    "\"\"\""
   ]
  }
 ],
 "metadata": {},
 "nbformat": 4,
 "nbformat_minor": 2
}
