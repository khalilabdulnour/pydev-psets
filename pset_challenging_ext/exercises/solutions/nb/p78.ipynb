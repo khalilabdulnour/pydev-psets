{
 "cells": [
  {
   "cell_type": "code",
   "execution_count": null,
   "metadata": {},
   "outputs": [],
   "source": [
    "\"\"\"\n",
    "\n",
    "\"\"\"\n",
    "\n",
    "\"\"\"\n",
    "Question:\n",
    "Please write a program to generate a list with 5 random numbers between 100 and 200 inclusive.\n",
    "Hints:\n",
    "Use random.sample() to generate a list of random values.\n",
    "\n",
    "\"\"\"\n",
    "import random\n",
    "print random.sample(range(100), 5)\n"
   ]
  }
 ],
 "metadata": {},
 "nbformat": 4,
 "nbformat_minor": 2
}
