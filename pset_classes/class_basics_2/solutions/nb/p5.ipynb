{
 "cells": [
  {
   "cell_type": "code",
   "execution_count": null,
   "metadata": {},
   "outputs": [],
   "source": [
    "\"\"\"\n",
    "Vehicle class\n",
    "\"\"\"\n",
    "\n",
    "# Create a Vehicle class with the following properties\n",
    "\n",
    "# * name\n",
    "# * kind\n",
    "# * color\n",
    "# * value\n",
    "\n",
    "\n",
    "# define the Vehicle class\n",
    "class Vehicle:\n",
    "\tdef __init__(self, name, kind, color, value):\n",
    "\t    self.name = name\n",
    "\t    self.kind = kind\n",
    "\t    self.color = color\n",
    "\t    self.value = value\n",
    "\n",
    "    def description(self):\n",
    "        desc_str = f\"{self.name} is a {self.color} {self.kind} worth ${self.value}.\"\n",
    "        return desc_str\n",
    "\n",
    "# test code\n",
    "car1 = Vehicle('test', 'test', 'test', 100.00)\n",
    "print(car1.description())\n"
   ]
  }
 ],
 "metadata": {},
 "nbformat": 4,
 "nbformat_minor": 2
}
