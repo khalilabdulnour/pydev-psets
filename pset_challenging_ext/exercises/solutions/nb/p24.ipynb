{
 "cells": [
  {
   "cell_type": "code",
   "execution_count": null,
   "metadata": {},
   "outputs": [],
   "source": [
    "\"\"\"\n",
    "    Python has many built-in functions, and if you do not know how to use it, you can read document online or find some books. But Python has a built-in document function for every built-in functions.\n",
    "\"\"\"\n",
    "\n",
    "\"\"\"Question 24\n",
    "Level 1\n",
    "Question:\n",
    "    Python has many built-in functions, and if you do not know how to use it, you can read document online or find some books. But Python has a built-in document function for every built-in functions.\n",
    "    Please write a program to print some Python built-in functions documents, such as abs(), int(), raw_input()\n",
    "    And add document for your own function\n",
    "    \n",
    "Hints:\n",
    "    The built-in document method is __doc__\n",
    "\n",
    "\"\"\"\n",
    "print abs.__doc__\n",
    "print int.__doc__\n",
    "print raw_input.__doc__\n",
    "def square(num):\n",
    "    '''Return the square value of the input number.\n",
    "    \n",
    "    The input number must be integer.\n",
    "    '''\n",
    "    return num ** 2\n",
    "print square(2)\n",
    "print square.__doc__\n"
   ]
  }
 ],
 "metadata": {},
 "nbformat": 4,
 "nbformat_minor": 2
}
