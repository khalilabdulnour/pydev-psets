{
 "cells": [
  {
   "cell_type": "code",
   "execution_count": null,
   "metadata": {},
   "outputs": [],
   "source": [
    "\"\"\"\n",
    "Weddings I - Guest List\n",
    "\"\"\"\n",
    "\n",
    "# Imagine for this problem set that you are planning a wedding. \n",
    "\n",
    "\n",
    "# A) Define a class called \"Guest\" to help you manage all the information about each invitee. This should initially include instance attributes for the guests's name, phone, and an optional \"invite_sent\" that defaults to False. Guest should also include an instance method called \"send_invite()\", which changes the value of invite_sent to True once you send an invitation to that guest.\n",
    "\n",
    "\n",
    "\n",
    "# B) Next, define a child class called \"Bridesmaid\", which includes the same initial attributes and inherits Guest's instance method.\n",
    "\n",
    "\n",
    "\n",
    "# C) Finally, create at least one instance of each class and do the following:\n",
    "### Call send_invite() on each instance.\n",
    "### Check whether Bridesmaid is a child of Guest and vice versa."
   ]
  }
 ],
 "metadata": {},
 "nbformat": 4,
 "nbformat_minor": 2
}
