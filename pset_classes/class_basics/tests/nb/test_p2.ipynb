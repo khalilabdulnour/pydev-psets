{
 "cells": [
  {
   "cell_type": "code",
   "execution_count": null,
   "metadata": {},
   "outputs": [],
   "source": [
    "\"\"\"\n",
    "Phone Contacts\n",
    "\"\"\"\n",
    "\n",
    "import io\n",
    "import pytest\n",
    "from unittest import TestCase\n",
    "from unittest.mock import patch\n",
    "\n",
    "from p2 import Contact\n",
    "\n",
    "\n",
    "@pytest.mark.describe('it returns corresponding attributes per complete arg input')\n",
    "class TestContact(TestCase):\n",
    "\n",
    "    def test_init(self):\n",
    "        x = Contact('Alejandra', 'Ochoa', 19034882739, 17243756608, 'alejandra.ochoa@gmail.com')\n",
    "        assert x.first_name == 'Alejandra'\n",
    "        assert x.last_name == 'Ochoa'\n",
    "        assert x.mobile_num == 19034882739\n",
    "        assert x.work_num == 17243756608\n",
    "        assert x.email == 'alejandra.ochoa@gmail.com'\n",
    "\n",
    "@pytest.mark.describe('it returns corresponding attributes per incomplete arg input')\n",
    "class TestContact(TestCase):\n",
    "\n",
    "    def test_init(self):\n",
    "        y = Contact('Brad', 'Fenworth', 12284001753, email = 'brad.fenworth@gmail.com')\n",
    "        assert y.first_name == 'Brad'\n",
    "        assert y.last_name == 'Fenworth'\n",
    "        assert y.mobile_num == 12284001753\n",
    "        assert y.work_num == None\n",
    "        assert y.email == 'brad.fenworth@gmail.com'"
   ]
  }
 ],
 "metadata": {},
 "nbformat": 4,
 "nbformat_minor": 2
}
