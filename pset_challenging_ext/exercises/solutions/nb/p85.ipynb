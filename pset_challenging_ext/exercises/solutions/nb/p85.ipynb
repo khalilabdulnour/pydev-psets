{
 "cells": [
  {
   "cell_type": "code",
   "execution_count": null,
   "metadata": {},
   "outputs": [],
   "source": [
    "\"\"\"\n",
    "Please write a program to shuffle and print the list [3,6,7,8].\n",
    "\"\"\"\n",
    "\n",
    "\"\"\"Question:\n",
    "Please write a program to shuffle and print the list [3,6,7,8].\n",
    "Hints:\n",
    "Use shuffle() function to shuffle a list.\n",
    "\n",
    "\"\"\"\n",
    "from random import shuffle\n",
    "li = [3,6,7,8]\n",
    "shuffle(li)\n",
    "print li\n"
   ]
  }
 ],
 "metadata": {},
 "nbformat": 4,
 "nbformat_minor": 2
}
