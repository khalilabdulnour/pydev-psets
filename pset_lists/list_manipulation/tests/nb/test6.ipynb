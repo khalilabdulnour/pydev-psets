{
 "cells": [
  {
   "cell_type": "code",
   "execution_count": null,
   "metadata": {},
   "outputs": [],
   "source": [
    "# import io\n",
    "# import pytest\n",
    "\n",
    "# from unittest import TestCase\n",
    "# from unittest.mock import patch\n",
    "\n",
    "\n",
    "# SOLUTION - PHONE NUMBERS\n",
    "\n",
    "cell = '192.168.0143'.split('.')\n",
    "\n",
    "# print(cell)\n",
    "# ['1', '192', '168', '0143']\n",
    "\n",
    "cell = ''.join(cell)\n",
    "\n",
    "print(cell) # 11921680143\n",
    "\n",
    "\n",
    "@pytest.mark.describe('Phone Numbers - XXX')\n",
    "class TestPrint(TestCase):\n",
    "\n",
    "\n",
    "\n",
    "@pytest.mark.describe('Phone Numbers - XXX')\n",
    "class TestPrint(TestCase):\n",
    "\n",
    "\n",
    "\n",
    "@pytest.mark.describe('Phone Numbers - XXX')\n",
    "class TestPrint(TestCase):\n"
   ]
  }
 ],
 "metadata": {},
 "nbformat": 4,
 "nbformat_minor": 2
}
