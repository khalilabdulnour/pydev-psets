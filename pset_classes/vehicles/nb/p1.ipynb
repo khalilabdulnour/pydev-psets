{
 "cells": [
  {
   "cell_type": "code",
   "execution_count": null,
   "metadata": {},
   "outputs": [],
   "source": [
    "\"\"\"\n",
    "Vehicles I \n",
    "\"\"\"\n",
    "\n",
    "# Create a \"Vehicle\" class with instance attributes for \"name\" and \"owner\". \n",
    "# Add a method called \"start_engine()\" that prints \"Vroom!\". \n",
    "# Instantiate a Vehicle called \"submarine\" and then access all its attributes and methods for practice.\n",
    "\n"
   ]
  }
 ],
 "metadata": {},
 "nbformat": 4,
 "nbformat_minor": 2
}
