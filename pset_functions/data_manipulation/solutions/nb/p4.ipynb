{
 "cells": [
  {
   "cell_type": "code",
   "execution_count": null,
   "metadata": {},
   "outputs": [],
   "source": [
    "\"\"\"\n",
    "Rainbows & Wobniars\n",
    "\"\"\"\n",
    "\n",
    "# Write a function called \"wobniar\", which should contain the local variable \"rainbow\" below. The function should collect every other color of the rainbow starting at index 0 and add each one to a new list. When you add each color, it should be spelled backwards. For example, the word 'sing' would be added to the new list as 'gnis'. Return and print the list.\n",
    "\n",
    "def wobniar():\n",
    "  rainbow = ['red','orange','yellow','green','blue','indigo','violet']\n",
    "  length = len(rainbow)  \n",
    "  backwards = []\n",
    "\n",
    "  i = 0\n",
    "  while i in range(0,length+1):\n",
    "    if i % 2 == 0:\n",
    "      x = ''.join(reversed(rainbow[i]))\n",
    "      backwards.append(x)\n",
    "      i += 1\n",
    "    else:\n",
    "      i += 1\n",
    "  \n",
    "  return backwards\n",
    "\n",
    "\n",
    "a = wobniar()\n",
    "print(a) # ['der', 'wolley', 'eulb', 'teloiv']"
   ]
  }
 ],
 "metadata": {},
 "nbformat": 4,
 "nbformat_minor": 2
}
