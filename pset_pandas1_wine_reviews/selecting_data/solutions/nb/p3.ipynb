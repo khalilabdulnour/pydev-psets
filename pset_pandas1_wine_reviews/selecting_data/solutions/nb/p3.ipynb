{
 "cells": [
  {
   "cell_type": "code",
   "execution_count": null,
   "metadata": {},
   "outputs": [],
   "source": [
    "\"\"\"\n",
    "Selecting Data III - Access Single Values\n",
    "\"\"\"\n",
    "\n",
    "import numpy as np\n",
    "import pandas as pd\n",
    "wine_reviews = pd.read_csv('../../winemag-data-130k.csv')\n",
    "\n",
    "# Print the value in the 5th column of the 7th row.\n",
    "print(wine_reviews.iloc[6,5]) # Sicily & Sardinia\n",
    "\n",
    "\n",
    "# Create a Series called \"countries\" from the 'country' column and print item at index 18.\n",
    "countries = wine_reviews['country']\n",
    "print(countries.iloc[18]) # Spain\n",
    "\n",
    "\n",
    "# Print the 10th item in countries.\n",
    "print(countries.loc[9]) # France\n",
    "\n"
   ]
  }
 ],
 "metadata": {},
 "nbformat": 4,
 "nbformat_minor": 2
}
