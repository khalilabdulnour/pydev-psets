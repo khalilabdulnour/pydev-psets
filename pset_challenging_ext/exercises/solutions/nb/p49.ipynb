{
 "cells": [
  {
   "cell_type": "code",
   "execution_count": null,
   "metadata": {},
   "outputs": [],
   "source": [
    "\"\"\"\n",
    "Write a program which can map() to make a list whose elements are square of numbers between 1 and 20 (both included).\n",
    "\"\"\"\n",
    "\n",
    "\"\"\"Question:\n",
    "Write a program which can map() to make a list whose elements are square of numbers between 1 and 20 (both included).\n",
    "Hints:\n",
    "Use map() to generate a list.\n",
    "Use lambda to define anonymous functions.\n",
    "\n",
    "\"\"\"\n",
    "squaredNumbers = map(lambda x: x**2, range(1,21))\n",
    "print squaredNumbers\n"
   ]
  }
 ],
 "metadata": {},
 "nbformat": 4,
 "nbformat_minor": 2
}
