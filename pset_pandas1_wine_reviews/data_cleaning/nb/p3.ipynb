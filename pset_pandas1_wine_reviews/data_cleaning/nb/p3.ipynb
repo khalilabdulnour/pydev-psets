{
 "cells": [
  {
   "cell_type": "code",
   "execution_count": null,
   "metadata": {},
   "outputs": [],
   "source": [
    "\"\"\"\n",
    "Data Cleaning III - Bulk Replace in a Series\n",
    "\"\"\"\n",
    "\n",
    "import numpy as np\n",
    "import pandas as pd\n",
    "wine_reviews = pd.read_csv('raw_data/winemag-data-130k.csv')\n",
    "\n",
    "# Using this Series, replace all instances of 'US' with 'DEMOCRATIC REPUBLIC OF CONGO'.\n",
    "\n",
    "countries = wine_reviews['country']\n",
    "\n",
    "\n",
    "\n",
    "# Again using the original Series, replace all instances of 'US' with 'FRENCH POLYNESIA' and all instances of 'Italy' with 'MADAGASCAR'."
   ]
  }
 ],
 "metadata": {},
 "nbformat": 4,
 "nbformat_minor": 2
}
