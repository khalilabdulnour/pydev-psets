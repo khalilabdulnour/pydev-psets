{
 "cells": [
  {
   "cell_type": "code",
   "execution_count": null,
   "metadata": {},
   "outputs": [],
   "source": [
    "\"\"\"\n",
    "Multiples\n",
    "\"\"\"\n",
    "\n",
    "# Write a function called \"sum_multiples\" that take two numbers and returns the sum of their multiples between 0 and some limit. These three items should be generalized as parameters.\n",
    "\n"
   ]
  }
 ],
 "metadata": {},
 "nbformat": 4,
 "nbformat_minor": 2
}
