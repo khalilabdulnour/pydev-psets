{
 "cells": [
  {
   "cell_type": "code",
   "execution_count": null,
   "metadata": {},
   "outputs": [],
   "source": [
    "\"\"\"\n",
    "Bank Accounts I - Opening An Account\n",
    "\"\"\"\n",
    "\n",
    "# Create an \"Account\" class to represent unique bank accounts. Ensure that when you create a new instance of Account, that instances has attributes for the bank account number, account owner's name, and the initial balance. It should have a class attribute for the default interest rate on a general account. Add an instance method called \"acc_details\" that prints out all these account details. Then create at least once instance and print out its details.\n",
    "\n",
    "class Account():\n",
    "    def __init__(self, name, account_number, initial_amount):\n",
    "        self.name = name\n",
    "        self.acc_num = account_number\n",
    "        self.balance = initial_amount\n",
    "\n",
    "    int_rate = 0.5\n",
    "\n",
    "    def acc_details(self):\n",
    "        print(f'Account No.: {self.acc_num}\\nAccount Holder: {self.name}\\nInterest Rate: {self.int_rate}\\nBalance: ${self.balance}\\n')\n",
    "\n",
    "\n",
    "alejandra = Account('Alejandra Ochoa', 554951, 20000)\n",
    "\n",
    "alejandra.acc_details()\n",
    "\n"
   ]
  }
 ],
 "metadata": {},
 "nbformat": 4,
 "nbformat_minor": 2
}
