{
 "cells": [
  {
   "cell_type": "code",
   "execution_count": null,
   "metadata": {},
   "outputs": [],
   "source": [
    "\"\"\"\n",
    "3. How to convert the index of a series into a column of a dataframe?\n",
    "\"\"\"\n",
    "\"\"\"\n",
    "Difficulty Level: L1\n",
    "\"\"\"\n",
    "\"\"\"\n",
    "Convert the series ser into a dataframe with its index as another column on the dataframe.\n",
    "\"\"\"\n",
    "\"\"\"\n",
    "Input\n",
    "\"\"\"\n",
    "\"\"\"\n",
    "mylist = list('abcedfghijklmnopqrstuvwxyz')\n",
    "myarr = np.arange(26)\n",
    "mydict = dict(zip(mylist, myarr))\n",
    "ser = pd.Series(mydict)\n",
    "\"\"\"\n"
   ]
  }
 ],
 "metadata": {},
 "nbformat": 4,
 "nbformat_minor": 2
}
