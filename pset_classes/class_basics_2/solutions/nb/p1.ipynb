{
 "cells": [
  {
   "cell_type": "code",
   "execution_count": null,
   "metadata": {},
   "outputs": [],
   "source": [
    "\"\"\"\n",
    "Dog Class\n",
    "\"\"\"\n",
    "\n",
    "# Implement a class called \"Dog\" with the following properties:\n",
    "# name\n",
    "# breed\n",
    "# age\n",
    "\n",
    "\n",
    "class Dog:\n",
    "    def __init__(self, name, breed, age):\n",
    "        self.name = name\n",
    "        self.breed = breed\n",
    "        self.age = age\n",
    "\n",
    "\n",
    "d = Dog(\"test\", \"test\", 5)\n",
    "print(d.name)\n",
    "print(d.breed)\n",
    "print(d.age)\n"
   ]
  }
 ],
 "metadata": {},
 "nbformat": 4,
 "nbformat_minor": 2
}
