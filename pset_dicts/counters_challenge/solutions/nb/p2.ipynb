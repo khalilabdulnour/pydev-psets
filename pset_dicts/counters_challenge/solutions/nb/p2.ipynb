{
 "cells": [
  {
   "cell_type": "code",
   "execution_count": null,
   "metadata": {},
   "outputs": [],
   "source": [
    "\"\"\"\n",
    "Summing Dict Values - SOLUTION\n",
    "\"\"\"\n",
    "\n",
    "# Two Kindergarten teachers poll their classes for what fruit they want to eat for snacktime tomorrow. Only one of them is going shopping, so she needs to know how many of each fruit she needs to buy in total. Tally these up and assign them to the \"shopping_list\" dict.\n",
    "\n",
    "from collections import Counter\n",
    "\n",
    "shopping_list = Counter(poll1) + Counter(poll2)\n",
    "# print(final_tally) # Counter({'bananas': 18, 'apples': 14, 'clementines': 8})\n"
   ]
  }
 ],
 "metadata": {},
 "nbformat": 4,
 "nbformat_minor": 2
}
