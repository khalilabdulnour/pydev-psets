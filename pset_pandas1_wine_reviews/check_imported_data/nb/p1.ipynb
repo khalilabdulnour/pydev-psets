{
 "cells": [
  {
   "cell_type": "code",
   "execution_count": null,
   "metadata": {},
   "outputs": [],
   "source": [
    "\"\"\"\n",
    "Checking Imported Data I - Data Dictionary\n",
    "\"\"\"\n",
    "\n",
    "import numpy as np\n",
    "import pandas as pd\n",
    "wine_reviews = pd.read_csv('raw_data/winemag-data-130k.csv')\n",
    "\n",
    "\n",
    "# Access a summary of the core metadata of the DataFrame (i.e. the number and name of columns, the rows, etc.)"
   ]
  }
 ],
 "metadata": {},
 "nbformat": 4,
 "nbformat_minor": 2
}
