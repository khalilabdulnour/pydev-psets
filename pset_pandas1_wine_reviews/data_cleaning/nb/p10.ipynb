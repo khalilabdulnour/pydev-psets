{
 "cells": [
  {
   "cell_type": "code",
   "execution_count": null,
   "metadata": {},
   "outputs": [],
   "source": [
    "\"\"\"\n",
    "Cleaning Data X - Fill Null Values\n",
    "\"\"\"\n",
    "\n",
    "import numpy as np\n",
    "import pandas as pd\n",
    "wine_reviews = pd.read_csv('../winemag-data-130k.csv')\n",
    "wine_reviews.rename(columns={'points': 'rating'}, inplace=True)\n",
    "\n",
    "# Use the below df for these problems:\n",
    "\n",
    "wine_ratings = wine_reviews[['title', 'country', 'rating', 'price']]\n",
    "\n",
    "\n",
    "\n",
    "# Replace all the null 'price' values with the mean of the existing \n",
    "\n",
    "\n",
    "# Return a count of the null values in wine_ratings.\n",
    "\n",
    "\n",
    "# Print out the number of rows in wine_ratings.\n",
    "\n",
    "\n",
    "# Replace all the missing values in the 'country' column with 'Unknown'. Hint: Remember this should be the only column left with null values.\n",
    "\n",
    "\n",
    "# Return a count of the null values in wine_ratings.\n",
    "\n",
    "\n",
    "# Print out the number of rows in wine_ratings.\n",
    "\n",
    "\n"
   ]
  }
 ],
 "metadata": {},
 "nbformat": 4,
 "nbformat_minor": 2
}
