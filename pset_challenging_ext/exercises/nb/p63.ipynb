{
 "cells": [
  {
   "cell_type": "code",
   "execution_count": null,
   "metadata": {},
   "outputs": [],
   "source": [
    "\"\"\"\n",
    "Write a special comment to indicate a Python source code file is in unicode.\n",
    "\"\"\"\n",
    "\n",
    "\"\"\"Question:\n",
    "Write a special comment to indicate a Python source code file is in unicode.\n",
    "Hints:\n",
    "\n",
    "\"\"\""
   ]
  }
 ],
 "metadata": {},
 "nbformat": 4,
 "nbformat_minor": 2
}
