{
 "cells": [
  {
   "cell_type": "code",
   "execution_count": null,
   "metadata": {},
   "outputs": [],
   "source": [
    "\"\"\"\n",
    "Core Statistics Calculations - SOLUTION\n",
    "\"\"\"\n",
    "\n",
    "import statistics\n",
    "\n",
    "nums = [2, 19, 20, 12, 6, 24, 8, 30, 12, 25]\n",
    "\n",
    "my_sum = sum(nums)\n",
    "my_min = min(nums)\n",
    "my_max = max(nums)\n",
    "my_range = max(nums) - min(nums)\n",
    "my_mean = my_sum / len(nums)\n",
    "my_median = statistics.median_grouped(nums)\n",
    "my_mode = statistics.mode(nums)\n",
    "my_variance = statistics.variance(nums, my_mean)\n",
    "my_stdev = statistics.stdev(nums, my_mean)\n",
    "\n",
    "\n",
    "print(f'''\n",
    "  sum = {my_sum}\n",
    "  min = {my_min}\n",
    "  max = {my_max}\n",
    "  range = {my_range}\n",
    "  mean = {my_mean}\n",
    "''')\n",
    "\n",
    "print(f'''\n",
    "  median = {my_median}\n",
    "  mode = {my_mode}\n",
    "  variance = {my_variance}\n",
    "  standard deviation = {my_stdev}\n",
    "''')\n"
   ]
  }
 ],
 "metadata": {},
 "nbformat": 4,
 "nbformat_minor": 2
}
