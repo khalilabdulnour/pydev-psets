{
 "cells": [
  {
   "cell_type": "code",
   "execution_count": null,
   "metadata": {},
   "outputs": [],
   "source": [
    "\"\"\"\n",
    "Multiples\n",
    "\"\"\"\n",
    "\n",
    "# Write a function called \"sum_multiples\" that take two numbers and returns the sum of their multiples between 0 and some limit. These three items should be generalized as parameters.\n",
    "\n",
    "\n",
    "def sum_multiples(num1,num2,limit):\n",
    "\t\"\"\"take two numbers and find the sum of their multiples from 1 to some upper limit. this DOES NOT double-count numbers which are multiples of BOTH num1 and num2.\"\"\"\n",
    "\tsum = 0\n",
    "\n",
    "\tif num1 > limit and num2 > limit:\n",
    "\t\treturn sum\n",
    "\n",
    "\tfor i in range(1,(limit+1)):\n",
    "\t\tif i % num1 == 0 or i % num2 == 0:\n",
    "\t\t\tsum += i\n",
    "\n",
    "\treturn sum\n",
    "\n",
    "\n",
    "total1 = sum_multiples(3,17,12)\n",
    "print(total1)\n",
    "\n",
    "total2 = sum_multiples(4,9,21)\n",
    "print(total2)\n",
    "\n",
    "total3 = sum_multiples(9,21,6)\n",
    "print(total3)\n"
   ]
  }
 ],
 "metadata": {},
 "nbformat": 4,
 "nbformat_minor": 2
}
