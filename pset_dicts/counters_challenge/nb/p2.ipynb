{
 "cells": [
  {
   "cell_type": "code",
   "execution_count": null,
   "metadata": {},
   "outputs": [],
   "source": [
    "\"\"\"\n",
    "Summing Dict Values\n",
    "\"\"\"\n",
    "\n",
    "# Two Kindergarten teachers poll their classes for what fruit they want to eat for snacktime tomorrow. Only one of them is going shopping, so she needs to know how many of each fruit she needs to buy in total. Tally these up and assign them to the \"shopping_list\" dict.\n",
    "\n",
    "poll1 = {'apples': 8, 'bananas': 12}\n",
    "poll2 = {'apples': 6, 'bananas': 6, 'clementines': 8}\n",
    "\n",
    "### shopping_list = \n",
    "\n"
   ]
  }
 ],
 "metadata": {},
 "nbformat": 4,
 "nbformat_minor": 2
}
