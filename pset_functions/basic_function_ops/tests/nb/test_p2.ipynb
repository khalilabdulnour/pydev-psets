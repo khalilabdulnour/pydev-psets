{
 "cells": [
  {
   "cell_type": "code",
   "execution_count": null,
   "metadata": {},
   "outputs": [],
   "source": [
    "\"\"\"\n",
    "Function Basics II - Arguments\n",
    "\"\"\"\n",
    "\n",
    "import io\n",
    "import pytest\n",
    "from unittest import TestCase\n",
    "from unittest.mock import patch\n",
    "from p2 import *\n",
    "\n",
    "@pytest.mark.describe('it returns ')\n",
    "def test_names():\n",
    "\tassert names('Taq','Karim') == 'Taq Karim'"
   ]
  }
 ],
 "metadata": {},
 "nbformat": 4,
 "nbformat_minor": 2
}
