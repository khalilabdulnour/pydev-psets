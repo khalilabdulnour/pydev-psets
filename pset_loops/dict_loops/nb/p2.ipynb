{
 "cells": [
  {
   "cell_type": "code",
   "execution_count": null,
   "metadata": {},
   "outputs": [],
   "source": [
    "\"\"\"\n",
    "Grades\n",
    "\"\"\"\n",
    "# Here's a dict containing students' grades from the semester's assignments.\n",
    "\n",
    "students = {\n",
    "  'Ashton': [86, 45, 98, 100],\n",
    "  'Sierra': [100, 100, 100, 100],\n",
    "  'Zach': [38, 49, 90, 87],\n",
    "  'Manuel': [98, 92, 86, 100],\n",
    "  'Felicia': [94, 87, 89, 95],\n",
    "  'Ankur': [75, 77, 77, 85],\n",
    "  'Ananya': [98, 94, 87, 92],\n",
    "  'Nick': [79, 84, 89, 90],\n",
    "  'Olivia': [83, 91, 69, 85],\n",
    "  'Molly': [83, 74, 72, 90]\n",
    "}\n",
    "\n",
    "# p 1.1) Create a dict called num_grades to store each student's average numerical grade for the semester.\n",
    "\n",
    "# num_grades = \n",
    "\n",
    "\n",
    "\n",
    "# p 1.2) Create a dict called letter_grades to store each student's final letter grade for the semester. Use A, B, C, D, and F as grades per the standard grading scale.\n",
    "\n",
    "# letter_grades = \n",
    "\n",
    "\n",
    "\n",
    "# p 1.3) Create a list of honor roll students (i.e. students who got A's).\n",
    "\n",
    "# honor_roll "
   ]
  }
 ],
 "metadata": {},
 "nbformat": 4,
 "nbformat_minor": 2
}
