{
 "cells": [
  {
   "cell_type": "code",
   "execution_count": null,
   "metadata": {},
   "outputs": [],
   "source": [
    "\"\"\"\n",
    "Basic variables\n",
    "\"\"\"\n",
    "\n",
    "# name a variable that represents your favorite number\n",
    "\n",
    "# name another variable that represents your age\n",
    "\n",
    "# How can you access your favorite number? Print to the console\n",
    "# your favorite number WITHOUT having to actually retype that number\n",
    "\n",
    "# do the same for your age"
   ]
  }
 ],
 "metadata": {},
 "nbformat": 4,
 "nbformat_minor": 2
}
