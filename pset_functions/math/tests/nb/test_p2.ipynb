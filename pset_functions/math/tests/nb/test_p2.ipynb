{
 "cells": [
  {
   "cell_type": "code",
   "execution_count": null,
   "metadata": {},
   "outputs": [],
   "source": [
    "\"\"\"\n",
    "Permutations & Combinations\n",
    "\"\"\"\n",
    "\n",
    "import io\n",
    "import pytest\n",
    "from unittest import TestCase\n",
    "from unittest.mock import patch\n",
    "\n",
    "\n",
    "import math\n",
    "from p2 import *\n",
    "\n",
    "@pytest.mark.describe('it returns 30 for n, r = 6, 2')\n",
    "def test_perms():\n",
    "\tassert perms(6,2) == 30\n",
    "\n",
    "@pytest.mark.describe('it returns 60 for n, r = 6, 2')\n",
    "def test_combs():\n",
    "\tassert combs(6,2) == 60\n",
    "\n"
   ]
  }
 ],
 "metadata": {},
 "nbformat": 4,
 "nbformat_minor": 2
}
