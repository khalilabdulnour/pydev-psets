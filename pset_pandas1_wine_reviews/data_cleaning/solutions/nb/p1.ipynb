{
 "cells": [
  {
   "cell_type": "code",
   "execution_count": null,
   "metadata": {},
   "outputs": [],
   "source": [
    "\"\"\"\n",
    "Cleaning Data I - Drop Columns\n",
    "\"\"\"\n",
    "\n",
    "import numpy as np\n",
    "import pandas as pd\n",
    "wine_reviews = pd.read_csv('raw_data/winemag-data-130k.csv')\n",
    "\n",
    "\n",
    "# Drop the 'region_2' and 'taster_twitter_handle' columns.\n",
    "\n",
    "wine_reviews = wine_reviews.drop(columns=['region_2', 'taster_twitter_handle'])\n",
    "\n",
    "print(wine_reviews.columns)\n",
    "# Index(['country', 'description', 'designation', 'points', 'price', 'province', 'region_1', 'taster_name', 'title', 'variety', 'winery'], dtype='object')"
   ]
  }
 ],
 "metadata": {},
 "nbformat": 4,
 "nbformat_minor": 2
}
