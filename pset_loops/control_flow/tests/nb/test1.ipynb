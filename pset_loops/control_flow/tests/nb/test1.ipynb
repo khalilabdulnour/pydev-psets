{
 "cells": [
  {
   "cell_type": "code",
   "execution_count": null,
   "metadata": {},
   "outputs": [],
   "source": [
    "\"\"\"\n",
    "Control Flow I\n",
    "\"\"\"\n",
    "\n",
    "# import io\n",
    "# import pytest\n",
    "\n",
    "# from unittest import TestCase\n",
    "# from unittest.mock import patch\n",
    "\n",
    "\n",
    "\n",
    "\n",
    "@pytest.mark.describe('Control Flow I - XXX')\n",
    "class TestPrint(TestCase):\n",
    "\n",
    "\n",
    "\n",
    "@pytest.mark.describe('Control Flow I - XXX')\n",
    "class TestPrint(TestCase):\n",
    "\n",
    "\n",
    "\n",
    "@pytest.mark.describe('Control Flow I - XXX')\n",
    "class TestPrint(TestCase):\n"
   ]
  }
 ],
 "metadata": {},
 "nbformat": 4,
 "nbformat_minor": 2
}
