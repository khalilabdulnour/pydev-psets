{
 "cells": [
  {
   "cell_type": "code",
   "execution_count": null,
   "metadata": {},
   "outputs": [],
   "source": [
    "\"\"\"\n",
    "\n",
    "\"\"\"\n",
    "\n",
    "\"\"\"\n",
    "Question:\n",
    "By using list comprehension, please write a program to print the list after removing the value 24 in [12,24,35,24,88,120,155].\n",
    "Hints:\n",
    "Use list's remove method to delete a value.\n",
    "\n",
    "\"\"\"\n",
    "li = [12,24,35,24,88,120,155]\n",
    "li = [x for x in li if x!=24]\n",
    "print li\n"
   ]
  }
 ],
 "metadata": {},
 "nbformat": 4,
 "nbformat_minor": 2
}
