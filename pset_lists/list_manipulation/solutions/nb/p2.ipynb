{
 "cells": [
  {
   "cell_type": "code",
   "execution_count": null,
   "metadata": {},
   "outputs": [],
   "source": [
    "\"\"\"\n",
    "Basic Math Ops\n",
    "\"\"\"\n",
    "\n",
    "# Given the list below, assign the correct values to the variables below.\n",
    "\t# my_sum = \n",
    "\t# my_min = \n",
    "\t# my_max = \n",
    "\t# my_range = \n",
    "\t# my_mean =\n",
    "\n",
    "\n",
    "import statistics\n",
    "\n",
    "nums = [2, 19, 20, 12, 6, 24, 8, 30, 12, 25]\n",
    "\n",
    "my_sum = sum(nums)\n",
    "my_min = min(nums)\n",
    "my_max = max(nums)\n",
    "my_range = max(nums) - min(nums)\n",
    "my_mean = my_sum / len(nums)\n",
    "\n",
    "# Once you finish, print out each value **on its own line** in this format: \"sum = \" etc.\n",
    "\n",
    "print(f'''\n",
    "  sum = {my_sum}\n",
    "  min = {my_min}\n",
    "  max = {my_max}\n",
    "  range = {my_range}\n",
    "  mean = {my_mean}\n",
    "''')"
   ]
  }
 ],
 "metadata": {},
 "nbformat": 4,
 "nbformat_minor": 2
}
