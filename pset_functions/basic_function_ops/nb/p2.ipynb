{
 "cells": [
  {
   "cell_type": "code",
   "execution_count": null,
   "metadata": {},
   "outputs": [],
   "source": [
    "\"\"\"\n",
    "Function Basics II - Arguments\n",
    "\"\"\"\n",
    "\n",
    "# Write a and call function called \"names\" that separately intakes a person's first name and a person's last name. It should concatenate the names and return the person's full name.\n",
    "\n"
   ]
  }
 ],
 "metadata": {},
 "nbformat": 4,
 "nbformat_minor": 2
}
