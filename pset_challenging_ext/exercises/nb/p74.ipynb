{
 "cells": [
  {
   "cell_type": "code",
   "execution_count": null,
   "metadata": {},
   "outputs": [],
   "source": [
    "\"\"\"\n",
    "Please generate a random float where the value is between 10 and 100 using Python math module.\n",
    "\"\"\"\n",
    "\n",
    "\"\"\"Question:\n",
    "Please generate a random float where the value is between 10 and 100 using Python math module.\n",
    "Hints:\n",
    "Use random.random() to generate a random float in [0,1].\n",
    "\n",
    "\"\"\""
   ]
  }
 ],
 "metadata": {},
 "nbformat": 4,
 "nbformat_minor": 2
}
