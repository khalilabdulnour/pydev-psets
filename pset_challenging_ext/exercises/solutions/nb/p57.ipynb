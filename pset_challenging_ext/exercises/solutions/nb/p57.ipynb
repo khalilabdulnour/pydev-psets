{
 "cells": [
  {
   "cell_type": "code",
   "execution_count": null,
   "metadata": {},
   "outputs": [],
   "source": [
    "\"\"\"\n",
    "Define a custom exception class which takes a string message as attribute.\n",
    "\"\"\"\n",
    "\n",
    "\"\"\"Define a custom exception class which takes a string message as attribute.\n",
    "Hints:\n",
    "To define a custom exception, we need to define a class inherited from Exception.\n",
    "\n",
    "\"\"\"\n",
    "class MyError(Exception):\n",
    "    \"\"\"My own exception class\n",
    "    Attributes:\n",
    "        msg  -- explanation of the error\n",
    "    \"\"\"\n",
    "    def __init__(self, msg):\n",
    "        self.msg = msg\n",
    "error = MyError(\"something wrong\")\n"
   ]
  }
 ],
 "metadata": {},
 "nbformat": 4,
 "nbformat_minor": 2
}
