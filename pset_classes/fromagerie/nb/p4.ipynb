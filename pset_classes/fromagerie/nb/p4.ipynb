{
 "cells": [
  {
   "cell_type": "code",
   "execution_count": null,
   "metadata": {},
   "outputs": [],
   "source": [
    "\"\"\"\n",
    "Fromagerie IV - Italian Cheese Sale\n",
    "\"\"\"\n",
    "\n",
    "# You're having a sale on Italian cheeses. Create a function called \"gen_promo_copy\" that dynamically creates a string of copy to be stored in a new attribute called promo_copy. \n",
    "\n",
    "# Call the function for the cheeses in the \"promoted_cheeses\" list below. Once finished, you should be able to access the copy as an instance attribute of each of the cheese instances below. For example, the outcome for mascarpone would read something like:\n",
    "\"\"\"\n",
    "Taste Rome, Tuscany, and Naples.\n",
    "Parmigiano reggiano for\n",
    "$10 during our Formaggio Italiano sale!\n",
    "Sustainably produced at Cheesequake Farms -\n",
    "organic, non-GMO, & carbon neutral.\n",
    "\"\"\"\n",
    "\n",
    "promoted_cheeses = [provolone, gorgonzola, mozzarella, ricotta, mascarpone, parmigiano_reggiano, pecorino_romano]"
   ]
  }
 ],
 "metadata": {},
 "nbformat": 4,
 "nbformat_minor": 2
}
