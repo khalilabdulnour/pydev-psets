{
 "cells": [
  {
   "cell_type": "code",
   "execution_count": null,
   "metadata": {},
   "outputs": [],
   "source": [
    "\"\"\"\n",
    "Function Basics III - Default Arguments\n",
    "\"\"\"\n",
    "\n",
    "import io\n",
    "import pytest\n",
    "from unittest import TestCase\n",
    "from unittest.mock import patch\n",
    "from p3 import *\n",
    "\n",
    "@pytest.mark.describe('it returns <full name>: <favorite color> as a dict if all args entered')\n",
    "def test_fave_colors():\n",
    "\tassert fave_colors('Taq','Karim','blue') == {'Taq Karim': 'blue'}\n",
    "\n",
    "@pytest.mark.describe('it returns <full name>: None (the default value) as a dict if only first & last name entered')\n",
    "def test_fave_colors():\n",
    "\tassert fave_colors('Ricardo','Galbis') == {'Ricardo Galbis': None}"
   ]
  }
 ],
 "metadata": {},
 "nbformat": 4,
 "nbformat_minor": 2
}
