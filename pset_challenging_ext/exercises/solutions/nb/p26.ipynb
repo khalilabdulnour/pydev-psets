{
 "cells": [
  {
   "cell_type": "code",
   "execution_count": null,
   "metadata": {},
   "outputs": [],
   "source": [
    "\"\"\"\n",
    "Define a function which can compute the sum of two numbers.\n",
    "\"\"\"\n",
    "\n",
    "\"\"\"Question:\n",
    "Define a function which can compute the sum of two numbers.\n",
    "Hints:\n",
    "Define a function with two numbers as arguments. You can compute the sum in the function and return the value.\n",
    "\n",
    "\"\"\"\n",
    "def SumFunction(number1, number2):\n",
    "\treturn number1+number2\n",
    "print SumFunction(1,2)\n"
   ]
  }
 ],
 "metadata": {},
 "nbformat": 4,
 "nbformat_minor": 2
}
