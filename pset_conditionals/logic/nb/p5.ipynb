{
 "cells": [
  {
   "cell_type": "code",
   "execution_count": null,
   "metadata": {},
   "outputs": [],
   "source": [
    "\"\"\"\n",
    "truthTableEvaluator\n",
    "\"\"\"\n",
    "\n",
    "# Given the following inputs:\n",
    "\n",
    "\n",
    "# P = # True or False\n",
    "# Q = # True or False\n",
    "# op = # '^' (logical AND, conjunction)\n",
    "#      # OR, 'v' (logical OR, disjunction)\n",
    "#      # OR, '->' (logical conditional, implication)\n",
    "#      # OR, '<->' (biconditional)\n",
    "# determine the correct outcome.\n",
    "\n",
    "# https://medium.com/i-math/intro-to-truth-tables-boolean-algebra-73b331dd9b94\n"
   ]
  }
 ],
 "metadata": {},
 "nbformat": 4,
 "nbformat_minor": 2
}
