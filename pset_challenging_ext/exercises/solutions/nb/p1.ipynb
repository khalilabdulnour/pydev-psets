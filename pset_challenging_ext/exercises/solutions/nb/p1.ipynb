{
 "cells": [
  {
   "cell_type": "code",
   "execution_count": null,
   "metadata": {},
   "outputs": [],
   "source": [
    "\"\"\"\n",
    "Write a program which will find all such numbers which are divisible by 7 but are not a multiple of 5,\n",
    "\"\"\"\n",
    "\n",
    "\"\"\"Question 1\n",
    "Level 1\n",
    "Question:\n",
    "Write a program which will find all such numbers which are divisible by 7 but are not a multiple of 5,\n",
    "between 2000 and 3200 (both included).\n",
    "The numbers obtained should be printed in a comma-separated sequence on a single line.\n",
    "Hints: \n",
    "Consider use range(#begin, #end) method\n",
    "\n",
    "\"\"\"\n",
    "l=[]\n",
    "for i in range(2000, 3201):\n",
    "    if (i%7==0) and (i%5!=0):\n",
    "        l.append(str(i))\n",
    "print ','.join(l)\n"
   ]
  }
 ],
 "metadata": {},
 "nbformat": 4,
 "nbformat_minor": 2
}
