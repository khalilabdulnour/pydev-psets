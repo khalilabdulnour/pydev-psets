{
 "cells": [
  {
   "cell_type": "code",
   "execution_count": null,
   "metadata": {},
   "outputs": [],
   "source": [
    "\"\"\"\n",
    "Rectangle\n",
    "\"\"\"\n",
    "\n",
    "import io\n",
    "import pytest\n",
    "from unittest import TestCase\n",
    "from unittest.mock import patch\n",
    "\n",
    "from p3 import Rectangle\n",
    "\n",
    "\n",
    "@pytest.mark.describe('it returns corresponding attributes per complete arg input')\n",
    "class TestRectangle(TestCase):\n",
    "\n",
    "    def test_init(self):\n",
    "        r = Rectangle(8, 17)\n",
    "        assert r.length == 8\n",
    "        assert r.width == 17\n",
    "\n",
    "    def test_area(self):\n",
    "        r = Rectangle(8, 17)\n",
    "        assert r.area() == 136\n",
    "\n",
    "    def test_perimeter(self):\n",
    "        r = Rectangle(8, 17)\n",
    "        assert r.perimeter() == 50"
   ]
  }
 ],
 "metadata": {},
 "nbformat": 4,
 "nbformat_minor": 2
}
