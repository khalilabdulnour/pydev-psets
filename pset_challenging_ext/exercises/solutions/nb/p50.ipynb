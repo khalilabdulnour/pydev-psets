{
 "cells": [
  {
   "cell_type": "code",
   "execution_count": null,
   "metadata": {},
   "outputs": [],
   "source": [
    "\"\"\"\n",
    "Define a class named American which has a static method called printNationality.\n",
    "\"\"\"\n",
    "\n",
    "\"\"\"Question:\n",
    "Define a class named American which has a static method called printNationality.\n",
    "Hints:\n",
    "Use @staticmethod decorator to define class static method.\n",
    "\n",
    "\"\"\"\n",
    "class American(object):\n",
    "    @staticmethod\n",
    "    def printNationality():\n",
    "        print \"America\"\n",
    "anAmerican = American()\n",
    "anAmerican.printNationality()\n",
    "American.printNationality()\n"
   ]
  }
 ],
 "metadata": {},
 "nbformat": 4,
 "nbformat_minor": 2
}
