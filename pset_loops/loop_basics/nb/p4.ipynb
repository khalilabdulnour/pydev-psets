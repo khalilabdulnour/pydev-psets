{
 "cells": [
  {
   "cell_type": "code",
   "execution_count": null,
   "metadata": {},
   "outputs": [],
   "source": [
    "\"\"\"\n",
    "Factorial\n",
    "\"\"\"\n",
    "\n",
    "# Find the factorial of a number input by a user. Then print out the factors within the factorial and then print out the actual numeric answer. Hint: The formula for a factorial is n! = (n-1)*n.\n",
    "\n",
    "\n",
    "# Example output:\n",
    "\"\"\"\n",
    "8! = 8*7*6*5*4*3*2*1\n",
    "8! = 40320\n",
    "\"\"\"\n",
    "\n",
    "user_input = input('Enter a number to find its factorial: ')"
   ]
  }
 ],
 "metadata": {},
 "nbformat": 4,
 "nbformat_minor": 2
}
