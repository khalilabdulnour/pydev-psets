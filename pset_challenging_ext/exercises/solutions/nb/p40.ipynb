{
 "cells": [
  {
   "cell_type": "code",
   "execution_count": null,
   "metadata": {},
   "outputs": [],
   "source": [
    "\"\"\"\n",
    "Define a function which can generate a list where the values are square of numbers between 1 and 20 (both included). Then the function needs to print all values except the first 5 elements in the list.\n",
    "\"\"\"\n",
    "\n",
    "\"\"\"Question:\n",
    "Define a function which can generate a list where the values are square of numbers between 1 and 20 (both included). Then the function needs to print all values except the first 5 elements in the list.\n",
    "Hints:\n",
    "Use ** operator to get power of a number.\n",
    "Use range() for loops.\n",
    "Use list.append() to add values into a list.\n",
    "Use [n1:n2] to slice a list\n",
    "\n",
    "\"\"\"\n",
    "def printList():\n",
    "\tli=list()\n",
    "\tfor i in range(1,21):\n",
    "\t\tli.append(i**2)\n",
    "\tprint li[5:]\n",
    "\t\t\n",
    "printList()\n"
   ]
  }
 ],
 "metadata": {},
 "nbformat": 4,
 "nbformat_minor": 2
}
