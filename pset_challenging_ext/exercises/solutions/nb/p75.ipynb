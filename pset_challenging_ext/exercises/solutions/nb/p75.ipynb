{
 "cells": [
  {
   "cell_type": "code",
   "execution_count": null,
   "metadata": {},
   "outputs": [],
   "source": [
    "\"\"\"\n",
    "Please generate a random float where the value is between 5 and 95 using Python math module.\n",
    "\"\"\"\n",
    "\n",
    "\"\"\"Question:\n",
    "Please generate a random float where the value is between 5 and 95 using Python math module.\n",
    "Hints:\n",
    "Use random.random() to generate a random float in [0,1].\n",
    "\n",
    "\"\"\"\n",
    "import random\n",
    "print random.random()*100-5\n"
   ]
  }
 ],
 "metadata": {},
 "nbformat": 4,
 "nbformat_minor": 2
}
