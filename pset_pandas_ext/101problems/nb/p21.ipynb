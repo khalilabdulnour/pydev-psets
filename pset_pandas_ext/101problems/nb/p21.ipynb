{
 "cells": [
  {
   "cell_type": "code",
   "execution_count": null,
   "metadata": {},
   "outputs": [],
   "source": [
    "\"\"\"\n",
    "21. How to convert a series of date-strings to a timeseries?\n",
    "\"\"\"\n",
    "\"\"\"\n",
    "Difficiulty Level: L2\n",
    "\"\"\"\n",
    "\"\"\"\n",
    "Input\n",
    "\"\"\"\n",
    "\"\"\"\n",
    "ser = pd.Series(['01 Jan 2010', '02-02-2011', '20120303', '2013/04/04', '2014-05-05', '2015-06-06T12:20'])\n",
    "\"\"\"\n",
    "\"\"\"\n",
    "Desired Output\n",
    "\"\"\"\n",
    "\"\"\"\n",
    "0   2010-01-01 00:00:00\n",
    "1   2011-02-02 00:00:00\n",
    "2   2012-03-03 00:00:00\n",
    "3   2013-04-04 00:00:00\n",
    "4   2014-05-05 00:00:00\n",
    "5   2015-06-06 12:20:00\n",
    "dtype: datetime64[ns]\n",
    "\"\"\"\n"
   ]
  }
 ],
 "metadata": {},
 "nbformat": 4,
 "nbformat_minor": 2
}
