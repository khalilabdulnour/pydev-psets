{
 "cells": [
  {
   "cell_type": "code",
   "execution_count": null,
   "metadata": {},
   "outputs": [],
   "source": [
    "\"\"\"\n",
    "Calculate Grade\n",
    "\"\"\"\n",
    "\n",
    "grade = 15  # expect this to be a number\n",
    "\n",
    "if 100 >= grade >= 90:\n",
    "\tprint('A')\n",
    "elif 89 >= grade >= 80:\n",
    "\tprint('B')\n",
    "elif 79 >= grade >= 70:\n",
    "\tprint('C')\n",
    "elif 69 >= grade >= 60:\n",
    "\tprint('D')\n",
    "elif 59 >= grade >= 0:\n",
    "\tprint('F')\n",
    "else:\n",
    "\tprint('Error')\n",
    "\n",
    "# write a program that will print the \"letter\"\n",
    "# equivalent of the grade, for example:\n",
    "# when grade = 90 # -> expect A\n",
    "# when grade = 80 # -> expect B\n",
    "# when grade = 70 # -> expect C\n",
    "# when grade = 60 # -> expect D\n",
    "# when grade = 54 # -> expect F\n",
    "# when grade = -10 # -> expect Error\n",
    "# when grade = 10000 # -> expect Error\n",
    "# when grade = \"lol skool sucks\" # -> expect Error\n"
   ]
  }
 ],
 "metadata": {},
 "nbformat": 4,
 "nbformat_minor": 2
}
