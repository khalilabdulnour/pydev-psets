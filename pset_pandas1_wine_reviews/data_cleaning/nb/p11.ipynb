{
 "cells": [
  {
   "cell_type": "code",
   "execution_count": null,
   "metadata": {},
   "outputs": [],
   "source": [
    "\"\"\"\n",
    "Cleaning Data XI - Removing Duplicates\n",
    "\"\"\"\n",
    "\n",
    "import numpy as np\n",
    "import pandas as pd\n",
    "wine_reviews = pd.read_csv('raw_data/winemag-data-130k.csv')\n",
    "wine_reviews.rename(columns={'points': 'rating'}, inplace=True)\n",
    "\n",
    "# Using this DataFrame, drop the null values in the 'price' and 'country' columns. Then find the number of duplicates values in the 'title' column.\n",
    "\n",
    "wine_ratings = wine_reviews[['title', 'country', 'rating', 'price']]\n",
    "\n",
    "\n",
    "\n",
    "\n",
    "# Now, drop the duplicate rows in the 'title' column.\n",
    "\n",
    "\n",
    "\n",
    "\n",
    "# Print out these statements with the correct values for the blanks.\n",
    "\n",
    "\n",
    "# _____ rows w. null values removed\n",
    "# _____ duplicate rows removed\n",
    "# _____ total rows removed"
   ]
  }
 ],
 "metadata": {},
 "nbformat": 4,
 "nbformat_minor": 2
}
