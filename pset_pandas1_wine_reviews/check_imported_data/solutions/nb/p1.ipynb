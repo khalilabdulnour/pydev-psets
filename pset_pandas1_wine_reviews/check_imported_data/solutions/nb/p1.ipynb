{
 "cells": [
  {
   "cell_type": "code",
   "execution_count": null,
   "metadata": {},
   "outputs": [],
   "source": [
    "\"\"\"\n",
    "Checking Imported Data I - Data Dictionary\n",
    "\"\"\"\n",
    "\n",
    "import numpy as np\n",
    "import pandas as pd\n",
    "wine_reviews = pd.read_csv('raw_data/winemag-data-130k.csv')\n",
    "\n",
    "\n",
    "# Access a summary of the core metadata of the DataFrame (i.e. the number and name of columns, the rows, etc.)\n",
    "\n",
    "print(wine_reviews.info())\n",
    "\n",
    "\"\"\"\n",
    "<class 'pandas.core.frame.DataFrame'>\n",
    "RangeIndex: 129971 entries, 0 to 129970\n",
    "Data columns (total 13 columns):\n",
    "country                  129908 non-null object\n",
    "description              129971 non-null object\n",
    "designation              92506 non-null object\n",
    "points                   129971 non-null int64\n",
    "price                    120975 non-null float64\n",
    "province                 129908 non-null object\n",
    "region_1                 108724 non-null object\n",
    "region_2                 50511 non-null object\n",
    "taster_name              103727 non-null object\n",
    "taster_twitter_handle    98758 non-null object\n",
    "title                    129971 non-null object\n",
    "variety                  129970 non-null object\n",
    "winery                   129971 non-null object\n",
    "dtypes: float64(1), int64(1), object(11)\n",
    "\"\"\""
   ]
  }
 ],
 "metadata": {},
 "nbformat": 4,
 "nbformat_minor": 2
}
