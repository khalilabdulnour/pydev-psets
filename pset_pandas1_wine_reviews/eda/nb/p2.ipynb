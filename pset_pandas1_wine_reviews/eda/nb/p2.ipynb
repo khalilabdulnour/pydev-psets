{
 "cells": [
  {
   "cell_type": "code",
   "execution_count": null,
   "metadata": {},
   "outputs": [],
   "source": [
    "\"\"\"\n",
    "Exploratory Data Analysis II - Unique Values\n",
    "\"\"\"\n",
    "\n",
    "import numpy as np\n",
    "import pandas as pd\n",
    "wine_reviews = pd.read_csv('raw_data/winemag-data-130k.csv')\n",
    "\n",
    "# Print a list of all the unique countries in the wine_reviews DataFrame in alphabetical order. Also print the number of unique countries that exist in the dataset. Hint: Don't just find the length of your first result.\n",
    "\n"
   ]
  }
 ],
 "metadata": {},
 "nbformat": 4,
 "nbformat_minor": 2
}
