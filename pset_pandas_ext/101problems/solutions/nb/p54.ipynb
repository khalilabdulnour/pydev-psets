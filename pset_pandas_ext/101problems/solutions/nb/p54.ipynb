{
 "cells": [
  {
   "cell_type": "code",
   "execution_count": null,
   "metadata": {},
   "outputs": [],
   "source": [
    "\"\"\"\n",
    "54. How to find and cap outliers from a series or dataframe column?\n",
    "\"\"\"\n",
    "\"\"\"\n",
    "Difficulty Level: L2\n",
    "\"\"\"\n",
    "\"\"\"\n",
    "Replace all values of ser in the lower 5%ile and greater than 95%ile with respective 5th and 95th %ile value.\n",
    "\"\"\"\n",
    "\"\"\"\n",
    "Input\n",
    "\"\"\"\n",
    "\"\"\"\n",
    "ser = pd.Series(np.logspace(-2, 2, 30))\n",
    "\"\"\"\n",
    "\n",
    "# Input\n",
    "ser = pd.Series(np.logspace(-2, 2, 30))\n",
    "\n",
    "# Solution\n",
    "def cap_outliers(ser, low_perc, high_perc):\n",
    "    low, high = ser.quantile([low_perc, high_perc])\n",
    "    print(low_perc, '%ile: ', low, '|', high_perc, '%ile: ', high)\n",
    "    ser[ser < low] = low\n",
    "    ser[ser > high] = high\n",
    "    return(ser)\n",
    "\n",
    "capped_ser = cap_outliers(ser, .05, .95)"
   ]
  }
 ],
 "metadata": {},
 "nbformat": 4,
 "nbformat_minor": 2
}
