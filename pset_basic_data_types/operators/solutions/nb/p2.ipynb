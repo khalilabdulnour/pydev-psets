{
 "cells": [
  {
   "cell_type": "code",
   "execution_count": null,
   "metadata": {},
   "outputs": [],
   "source": [
    "\"\"\"\n",
    "String Operators\n",
    "\"\"\"\n",
    "\n",
    "# Create two variables, each of which is half of a compound sentence. Do NOT add any punctuation up front. Add the two variables together, and print the result.\n",
    "## Example compound sentence: \"I'll go to the beach today, and I'll go snorkeling.\" \n",
    "\n",
    "\n",
    "var1 = 'I\\'ve been to India'\n",
    "var2 = 'and I got to see the Taj Mahal'\n",
    "\n",
    "var3 = print(var1 + var2)\n",
    "\n",
    "var3 = print(f'{var1}, {var2}!')"
   ]
  }
 ],
 "metadata": {},
 "nbformat": 4,
 "nbformat_minor": 2
}
