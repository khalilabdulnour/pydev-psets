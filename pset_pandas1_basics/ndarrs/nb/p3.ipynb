{
 "cells": [
  {
   "cell_type": "code",
   "execution_count": null,
   "metadata": {},
   "outputs": [],
   "source": [
    "\"\"\"\n",
    "ndarray indexing\n",
    "\"\"\"\n",
    "\n",
    "import numpy as np\n",
    "\n",
    "# given this\n",
    "arr = np.array([[-1, 2, 0, 4],\n",
    "                [4, -0.5, 6, 0],\n",
    "                [2.6, 0, 7, 8],\n",
    "                [3, -7, 4, 2.0]])\n",
    "\n",
    "# grab first two rows of arr\n",
    "a = None\n",
    "\n",
    "# grab second and third row of arr\n",
    "b = None\n",
    "\n",
    "# grab first two rows of arr and first two columns\n",
    "c = None\n",
    "\n",
    "# grab elements at indices (0, 3), (1, 2), (2, 1), (3, 0)\n",
    "d = None\n",
    "\n",
    "# grab elements > 0\n",
    "e = None\n"
   ]
  }
 ],
 "metadata": {},
 "nbformat": 4,
 "nbformat_minor": 2
}
