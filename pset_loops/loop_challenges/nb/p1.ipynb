{
 "cells": [
  {
   "cell_type": "code",
   "execution_count": null,
   "metadata": {},
   "outputs": [],
   "source": [
    "\"\"\"\n",
    "Valid Passwords\n",
    "\"\"\"\n",
    "\n",
    "# Check the validity of password input by users based on the below security requirements: At least 1 letter between [a-z] and 1 letter between [A-Z].\n",
    "\"\"\"\n",
    "# At least 1 letter between [a-z] and 1 letter between [A-Z].\n",
    "#At least 1 number between [0-9].\n",
    "At least 1 character from [$#@].\n",
    "Minimum length 6 characters.\n",
    "Maximum length 16 characters.\n",
    "\"\"\"\n",
    "\n",
    "\n",
    "# Hint: Look up the documentation for the \"re\" library and it's \".search()\" method.\n",
    "\n",
    "# p = input(\"Input your password: \")"
   ]
  }
 ],
 "metadata": {},
 "nbformat": 4,
 "nbformat_minor": 2
}
