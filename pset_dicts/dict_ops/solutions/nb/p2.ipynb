{
 "cells": [
  {
   "cell_type": "code",
   "execution_count": null,
   "metadata": {},
   "outputs": [],
   "source": [
    "\"\"\"\n",
    "Merging Dicts - SOLUTION\n",
    "\"\"\"\n",
    "\n",
    "\n",
    "d1 = {'a': 100, 'b': 200}\n",
    "d2 = {'c': 300, 'd': 400, 'e': 500}\n",
    "\n",
    "d1.update(d2)\n",
    "print(d1)"
   ]
  }
 ],
 "metadata": {},
 "nbformat": 4,
 "nbformat_minor": 2
}
