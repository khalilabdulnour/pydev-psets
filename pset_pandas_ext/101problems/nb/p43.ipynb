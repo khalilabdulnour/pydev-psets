{
 "cells": [
  {
   "cell_type": "code",
   "execution_count": null,
   "metadata": {},
   "outputs": [],
   "source": [
    "\"\"\"\n",
    "43. How to use apply function on existing columns with global variables as additional arguments?\n",
    "\"\"\"\n",
    "\"\"\"\n",
    "Difficulty Level: L3\n",
    "\"\"\"\n",
    "\"\"\"\n",
    "In df, use apply method to replace the missing values in Min.Price with the column’s mean and those in Max.Price with the column’s median.\n",
    "\"\"\"\n",
    "\"\"\"\n",
    "Input\n",
    "\"\"\"\n",
    "\"\"\"\n",
    "df = pd.read_csv('https://raw.githubusercontent.com/selva86/datasets/master/Cars93_miss.csv')\n",
    "\"\"\"\n",
    "\"\"\"\n",
    "Use Hint from StackOverflow\n",
    "\"\"\"\n",
    "\"\"\"\n",
    " \n",
    "\"\"\"\n"
   ]
  }
 ],
 "metadata": {},
 "nbformat": 4,
 "nbformat_minor": 2
}
