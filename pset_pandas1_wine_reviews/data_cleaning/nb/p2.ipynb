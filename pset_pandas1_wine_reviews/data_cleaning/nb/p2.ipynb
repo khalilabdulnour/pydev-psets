{
 "cells": [
  {
   "cell_type": "code",
   "execution_count": null,
   "metadata": {},
   "outputs": [],
   "source": [
    "\"\"\"\n",
    "Data Cleaning II - Rename Columns\n",
    "\"\"\"\n",
    "\n",
    "import numpy as np\n",
    "import pandas as pd\n",
    "wine_reviews = pd.read_csv('../winemag-data-130k.csv')\n",
    "\n",
    "# Rename the 'designation' column to 'vineyard' and the 'points' column to 'rating'.\n"
   ]
  }
 ],
 "metadata": {},
 "nbformat": 4,
 "nbformat_minor": 2
}
