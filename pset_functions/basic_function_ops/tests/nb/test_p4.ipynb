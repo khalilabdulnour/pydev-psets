{
 "cells": [
  {
   "cell_type": "code",
   "execution_count": null,
   "metadata": {},
   "outputs": [],
   "source": [
    "\"\"\"\n",
    "Function Basics IV - Multiple Return Values\n",
    "\"\"\"\n",
    "\n",
    "import io\n",
    "import pytest\n",
    "from unittest import TestCase\n",
    "from unittest.mock import patch\n",
    "from p4 import *\n",
    "\n",
    "@pytest.mark.describe('it returns correct integer sum, product, and quotient of 3 nums')\n",
    "def test_figures():\n",
    "\tassert figures(21.689,8.123) == (29, 176, 2)\n",
    "\n"
   ]
  }
 ],
 "metadata": {},
 "nbformat": 4,
 "nbformat_minor": 2
}
