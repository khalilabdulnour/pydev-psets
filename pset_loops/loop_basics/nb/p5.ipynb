{
 "cells": [
  {
   "cell_type": "code",
   "execution_count": null,
   "metadata": {},
   "outputs": [],
   "source": [
    "\"\"\"\n",
    "Factors\n",
    "\"\"\"\n",
    "\n",
    "# Find all factors of a number that a user inputs and print out 'The factors of <the_user_input_number> are: '.\n",
    "\n",
    "# user_input = input(\"Enter a number to find its factors: \")\n",
    "\n",
    "grades = [100, 98, 76, 54, 98, 89]\n",
    "curved_grades = []\n",
    "\n",
    "for grade in grades:\n",
    "  curved_grades.append(grade + 10)\n",
    "\n",
    "print(curved_grades)\n",
    "\n",
    "curved_grades2 = [(grade + 10) for grade in grades]\n",
    "curved_grades3 = map(grades, lambda g: g + 10)\n",
    "\n",
    "who_failed = []\n",
    "for grade in grades:\n",
    "  if grade < 65:\n",
    "    who_failed.append(grade)\n",
    "  \n",
    "print(who_failed)\n",
    "\n",
    "who_failed = [grade for grade in grades if grade < 65]"
   ]
  }
 ],
 "metadata": {},
 "nbformat": 4,
 "nbformat_minor": 2
}
