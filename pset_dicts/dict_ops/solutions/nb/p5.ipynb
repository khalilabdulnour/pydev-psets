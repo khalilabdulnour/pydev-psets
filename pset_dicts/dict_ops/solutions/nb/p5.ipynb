{
 "cells": [
  {
   "cell_type": "code",
   "execution_count": null,
   "metadata": {},
   "outputs": [],
   "source": [
    "\"\"\"\n",
    "Lists to Dicts - SOLUTION\n",
    "\"\"\"\n",
    "\n",
    "# Turn these two lists into a dict called grades.\n",
    "\n",
    "names = ['Taq', 'Zola', 'Valerie', 'Valerie']\n",
    "scores = [[98, 89, 92, 94], [86, 45, 98, 100], [100, 100, 100, 100], [76, 79, 80, 82]]\n",
    "\n",
    "grades = dict(zip(names,scores))\n",
    "print(grades)\n",
    "# {'Taq': [98, 89, 92, 94], 'Zola': [86, 45, 98, 100], 'Valerie': [76, 79, 80, 82]}"
   ]
  }
 ],
 "metadata": {},
 "nbformat": 4,
 "nbformat_minor": 2
}
